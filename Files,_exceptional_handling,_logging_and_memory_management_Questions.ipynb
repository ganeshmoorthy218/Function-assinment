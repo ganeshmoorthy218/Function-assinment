{
  "nbformat": 4,
  "nbformat_minor": 0,
  "metadata": {
    "colab": {
      "provenance": []
    },
    "kernelspec": {
      "name": "python3",
      "display_name": "Python 3"
    },
    "language_info": {
      "name": "python"
    }
  },
  "cells": [
    {
      "cell_type": "markdown",
      "source": [
        "#Q1.What is the difference between interpreted and compiled languages?\n",
        "---\n",
        "\n",
        "**Compiled Languages**:\n",
        "\n",
        "* Code is **translated all at once** into machine code **before running**.\n",
        "* **Faster execution**, but you must compile first.\n",
        "* Examples: **C, C++, Rust, Go**\n",
        "\n",
        "**Interpreted Languages**:\n",
        "\n",
        "* Code is **translated line-by-line** during execution.\n",
        "* **Slower**, but easier to test and debug.\n",
        "* Examples: **Python, JavaScript, Ruby**\n",
        "\n",
        "---\n",
        "\n",
        "Let me know if you want a one-line comparison too!\n"
      ],
      "metadata": {
        "id": "q_MCZB2vmWCa"
      }
    },
    {
      "cell_type": "markdown",
      "source": [
        "#Q2.What is exception handling in Python?\n",
        "---\n",
        "\n",
        "**Exception handling** in Python lets you manage errors without crashing your program.\n",
        "Use `try` to run risky code, and `except` to handle errors.\n",
        "\n",
        "```python\n",
        "try:\n",
        "    x = 10 / 0\n",
        "except ZeroDivisionError:\n",
        "    print(\"Can't divide by zero.\")\n",
        "```\n",
        "\n",
        "It helps keep your program **stable and user-friendly**.\n"
      ],
      "metadata": {
        "id": "QmZkXIlNmipb"
      }
    },
    {
      "cell_type": "markdown",
      "source": [
        "#Q3.What is the purpose of the finally block in exception handling?\n",
        "The **`finally` block** in Python is used to run code **no matter what happens** — whether an exception occurs or not.\n",
        "\n",
        "---\n",
        "\n",
        "🔹 **Purpose**:\n",
        "To perform **cleanup actions**, like closing files or releasing resources.\n",
        "\n",
        "```python\n",
        "try:\n",
        "    x = 10 / 0\n",
        "except ZeroDivisionError:\n",
        "    print(\"Error!\")\n",
        "finally:\n",
        "    print(\"This always runs.\")\n",
        "```\n"
      ],
      "metadata": {
        "id": "oI1u3J0tm3e1"
      }
    },
    {
      "cell_type": "markdown",
      "source": [
        "#Q4.What is logging in Python?\n",
        "**Logging** in Python is used to **record messages** about a program’s execution — useful for **debugging, monitoring, and error tracking**.\n",
        "\n",
        "---\n",
        "\n",
        "🔹 Example:\n",
        "\n",
        "```python\n",
        "import logging\n",
        "\n",
        "logging.basicConfig(level=logging.INFO)\n",
        "logging.info(\"This is an info message.\")\n",
        "```\n"
      ],
      "metadata": {
        "id": "zflFyDsVnCwf"
      }
    },
    {
      "cell_type": "markdown",
      "source": [
        "#Q5.What is the significance of the __del__ method in Python?\n",
        "The `__del__` method in Python is a **destructor** — it's called **when an object is about to be destroyed** (i.e., garbage collected).\n",
        "\n",
        "---\n",
        "\n",
        "🔹 **Purpose**: To perform **cleanup**, like closing files or releasing resources.\n",
        "\n",
        "```python\n",
        "class MyClass:\n",
        "    def __del__(self):\n",
        "        print(\"Object is being deleted\")\n",
        "```\n"
      ],
      "metadata": {
        "id": "iwZ-KaLAnSIr"
      }
    },
    {
      "cell_type": "markdown",
      "source": [
        "#Q6.What is the difference between import and from ... import in Python?\n",
        "Here's the difference in a few lines:\n",
        "\n",
        "---\n",
        "\n",
        "🔹 `import module`:\n",
        "Imports the **entire module**. You access functions with the module name.\n",
        "\n",
        "```python\n",
        "import math\n",
        "print(math.sqrt(16))\n",
        "```\n",
        "\n",
        "🔹 `from module import name`:\n",
        "Imports a **specific part** of the module. You can use it **directly**.\n",
        "\n",
        "```python\n",
        "from math import sqrt\n",
        "print(sqrt(16))\n",
        "```\n"
      ],
      "metadata": {
        "id": "lEwSOksOne7h"
      }
    },
    {
      "cell_type": "markdown",
      "source": [
        "#Q7.How can you handle multiple exceptions in Python?\n",
        "You can handle multiple exceptions in Python using multiple `except` blocks or a single `except` with a tuple.\n",
        "\n",
        "---\n",
        "\n",
        "🔹 **Multiple `except` blocks**:\n",
        "\n",
        "```python\n",
        "try:\n",
        "    x = int(input(\"Enter a number: \"))\n",
        "    y = 10 / x\n",
        "except ZeroDivisionError:\n",
        "    print(\"Cannot divide by zero.\")\n",
        "except ValueError:\n",
        "    print(\"Invalid input.\")\n",
        "```\n",
        "\n",
        "🔹 **Single `except` block with a tuple**:\n",
        "\n",
        "```python\n",
        "try:\n",
        "    x = int(input(\"Enter a number: \"))\n",
        "    y = 10 / x\n",
        "except (ZeroDivisionError, ValueError) as e:\n",
        "    print(f\"Error: {e}\")\n",
        "```\n"
      ],
      "metadata": {
        "id": "8ebvGhtmnsgW"
      }
    },
    {
      "cell_type": "markdown",
      "source": [
        "#Q8.What is the purpose of the with statement when handling files in Python?\n",
        " The `with` statement in Python simplifies file handling by automatically managing resource cleanup, such as closing a file after it’s done being used.\n",
        "\n",
        "---\n",
        "\n",
        "🔹 **Purpose**:\n",
        "Ensures the file is **properly closed**, even if an error occurs, making the code more concise and safer.\n",
        "\n",
        "```python\n",
        "with open(\"file.txt\", \"r\") as file:\n",
        "    content = file.read()\n",
        "# No need to explicitly call file.close()\n",
        "```\n"
      ],
      "metadata": {
        "id": "JqAbZ47boABu"
      }
    },
    {
      "cell_type": "markdown",
      "source": [
        "#Q9.What is the difference between multithreading and multiprocessing?\n",
        "Here's the difference in a few lines:\n",
        "\n",
        "---\n",
        "\n",
        "🔹 **Multithreading**:\n",
        "\n",
        "* Involves running **multiple threads** in a single process.\n",
        "* Suitable for I/O-bound tasks (e.g., reading files, network operations).\n",
        "* Threads share the same memory space, so they can communicate easily but can also cause issues like race conditions.\n",
        "\n",
        "🔹 **Multiprocessing**:\n",
        "\n",
        "* Involves running **multiple processes**, each with its own memory space.\n",
        "* Ideal for CPU-bound tasks (e.g., data processing, heavy computations).\n",
        "* Processes are isolated, preventing issues like race conditions but making communication between them more complex.\n",
        "\n",
        "---\n",
        "\n",
        "**Summary**:\n",
        "\n",
        "* Use **multithreading** for I/O tasks.\n",
        "* Use **multiprocessing** for CPU-intensive tasks.\n"
      ],
      "metadata": {
        "id": "mvKPmbIxoLjQ"
      }
    },
    {
      "cell_type": "markdown",
      "source": [
        "#Q10.What are the advantages of using logging in a program?\n",
        "\n",
        "Using logging in a program has several advantages:\n",
        "\n",
        "---\n",
        "\n",
        "1. **Better Tracking**: Logs provide a detailed record of events and errors, making it easier to debug issues.\n",
        "2. **Persistent Records**: Unlike `print()`, logs can be saved to files, providing historical data.\n",
        "3. **Flexibility**: You can set log levels (e.g., `INFO`, `WARNING`, `ERROR`) to filter messages based on importance.\n",
        "4. **Non-intrusive**: Unlike print statements, logging doesn’t affect program flow and can be disabled or adjusted dynamically.\n",
        "\n",
        "---"
      ],
      "metadata": {
        "id": "gunO7YEDoUvC"
      }
    },
    {
      "cell_type": "markdown",
      "source": [
        "#Q11.What is memory management in Python?\n",
        "**Memory management in Python** refers to how the Python interpreter handles the allocation and deallocation of memory for objects during program execution.\n",
        "\n",
        "---\n",
        "\n",
        "🔹 **Key Points**:\n",
        "\n",
        "1. **Automatic Memory Allocation**: Python automatically allocates memory when objects are created.\n",
        "2. **Garbage Collection**: Unused objects are automatically removed (via reference counting and cyclic garbage collection) to free up memory.\n",
        "3. **Memory Pooling**: Python uses a private heap for memory management, improving performance by reusing memory blocks.\n",
        "\n",
        "---\n"
      ],
      "metadata": {
        "id": "5IbT6Pw_tuD6"
      }
    },
    {
      "cell_type": "markdown",
      "source": [
        "#Q12.What are the basic steps involved in exception handling in Python?\n",
        "Here are the basic steps involved in **exception handling** in Python in a few lines:\n",
        "\n",
        "---\n",
        "\n",
        "1. **Use `try`** to wrap code that might raise an error.\n",
        "2. **Use `except`** to catch and handle specific exceptions.\n",
        "3. **Optionally use `else`** to run code if no exception occurs.\n",
        "4. **Use `finally`** to run cleanup code (always executes).\n",
        "\n",
        "---\n",
        "\n",
        "🔹 Example:\n",
        "\n",
        "```python\n",
        "try:\n",
        "    x = 10 / 0\n",
        "except ZeroDivisionError:\n",
        "    print(\"Can't divide by zero.\")\n",
        "finally:\n",
        "    print(\"Done.\")\n",
        "```\n"
      ],
      "metadata": {
        "id": "GvmKLp7Xt6Rp"
      }
    },
    {
      "cell_type": "markdown",
      "source": [
        "#Q13.Why is memory management important in Python?\n",
        "**Memory management** is important in Python to ensure:\n",
        "\n",
        "---\n",
        "\n",
        "1. **Efficient resource use** – prevents memory leaks and keeps the program fast.\n",
        "2. **Automatic cleanup** – frees unused memory through garbage collection.\n",
        "3. **Stability** – reduces crashes due to memory exhaustion.\n",
        "4. **Scalability** – allows programs to handle large data without manual memory handling.\n",
        "\n",
        "---\n"
      ],
      "metadata": {
        "id": "yPd1WvHNuLRM"
      }
    },
    {
      "cell_type": "markdown",
      "source": [
        "#Q14.What is the role of try and except in exception handling?\n",
        "The **`try`** and **`except`** blocks are core to exception handling in Python.\n",
        "\n",
        "---\n",
        "\n",
        "🔹 **`try` block**:\n",
        "Contains code that might raise an exception.\n",
        "\n",
        "🔹 **`except` block**:\n",
        "Catches and handles the exception if one occurs.\n",
        "\n",
        "---\n",
        "\n",
        "### 🔹 Example:\n",
        "\n",
        "```python\n",
        "try:\n",
        "    x = 10 / 0\n",
        "except ZeroDivisionError:\n",
        "    print(\"Cannot divide by zero.\")\n",
        "```\n"
      ],
      "metadata": {
        "id": "SUvHK-4FuWZ5"
      }
    },
    {
      "cell_type": "markdown",
      "source": [
        "#Q15.How does Python's garbage collection system work?\n",
        "Python's **garbage collection** system automatically manages memory by **reclaiming unused objects**.\n",
        "\n",
        "---\n",
        "\n",
        "🔹 **How it works**:\n",
        "\n",
        "1. Uses **reference counting** — when an object’s reference count drops to zero, it’s deleted.\n",
        "2. Handles **circular references** using a **cyclic garbage collector**.\n",
        "3. Runs in the background, but can also be manually triggered with the `gc` module.\n",
        "\n",
        "---\n",
        "\n"
      ],
      "metadata": {
        "id": "T3EilvV1uhkF"
      }
    },
    {
      "cell_type": "markdown",
      "source": [
        "#Q16.What is the purpose of the else block in exception handling?\n",
        "The **`else` block** in exception handling runs **only if no exception occurs** in the `try` block.\n",
        "\n",
        "---\n",
        "\n",
        "🔹 **Purpose**:\n",
        "To execute code that should run **only when no errors happen**.\n",
        "\n",
        "```python\n",
        "try:\n",
        "    x = 10 / 2\n",
        "except ZeroDivisionError:\n",
        "    print(\"Error!\")\n",
        "else:\n",
        "    print(\"No error, result is:\", x)\n",
        "```"
      ],
      "metadata": {
        "id": "HAiOXQFCuqpE"
      }
    },
    {
      "cell_type": "markdown",
      "source": [
        "#Q17.What are the common logging levels in Python?\n",
        "Here are the **common logging levels** in Python, listed from lowest to highest severity:\n",
        "\n",
        "---\n",
        "\n",
        "1. **DEBUG** – Detailed information, used for diagnosing problems.\n",
        "2. **INFO** – General events confirming that things are working as expected.\n",
        "3. **WARNING** – Something unexpected happened, but the program still works.\n",
        "4. **ERROR** – A serious problem, the program couldn't perform a function.\n",
        "5. **CRITICAL** – A severe error indicating the program may not continue running.\n",
        "\n",
        "---"
      ],
      "metadata": {
        "id": "Y9Vv8V8Wu1lz"
      }
    },
    {
      "cell_type": "markdown",
      "source": [
        "#Q18.What is the difference between os.fork() and multiprocessing in Python?\n",
        "Here's the difference between `os.fork()` and `multiprocessing` in Python in a few lines:\n",
        "\n",
        "---\n",
        "\n",
        "🔹 **`os.fork()`**:\n",
        "\n",
        "* Creates a **new process** by duplicating the current one (Unix/Linux only).\n",
        "* Lower-level, less portable.\n",
        "* Requires manual setup for communication between processes.\n",
        "\n",
        "🔹 **`multiprocessing` module**:\n",
        "\n",
        "* High-level API for creating **independent processes**.\n",
        "* **Cross-platform** (works on Windows, macOS, Linux).\n",
        "* Includes built-in support for **process communication and synchronization**.\n",
        "\n",
        "---"
      ],
      "metadata": {
        "id": "-jYCj-_hvI_0"
      }
    },
    {
      "cell_type": "markdown",
      "source": [
        "#Q19.What is the importance of closing a file in Python?\n",
        "Closing a file in Python is important because:\n",
        "\n",
        "---\n",
        "\n",
        "1. **Frees system resources** – like memory or file handles.\n",
        "2. **Ensures data is saved** – especially when writing to a file (flushes the buffer).\n",
        "3. **Prevents file corruption** – by properly ending file operations.\n",
        "\n",
        "Use `file.close()` or the `with` statement to close files automatically.\n"
      ],
      "metadata": {
        "id": "F-jBi3N9vRkl"
      }
    },
    {
      "cell_type": "markdown",
      "source": [
        "#Q20.What is the difference between file.read() and file.readline() in Python?\n",
        "---\n",
        "\n",
        "🔹 **`file.read()`**\n",
        "\n",
        "* Reads the **entire file** (or specified number of characters) as a single string.\n",
        "\n",
        "```python\n",
        "data = file.read()\n",
        "```\n",
        "\n",
        "🔹 **`file.readline()`**\n",
        "\n",
        "* Reads **one line at a time**, ending at a newline character.\n",
        "\n",
        "```python\n",
        "line = file.readline()\n",
        "```\n",
        "\n",
        " Use `read()` for full file content, and `readline()` for processing line-by-line.\n"
      ],
      "metadata": {
        "id": "I9ZHX8FKvcQq"
      }
    },
    {
      "cell_type": "markdown",
      "source": [
        "#Q21.What is the logging module in Python used for?\n",
        "The **`logging` module** in Python is used to **record messages** about a program’s execution, helping with **debugging, monitoring, and error tracking**.\n",
        "\n",
        "---\n",
        "\n",
        "🔹 It allows logging at different levels (DEBUG, INFO, WARNING, ERROR, CRITICAL).\n",
        "🔹 Logs can be output to the console, files, or other destinations.\n",
        "🔹 More flexible and powerful than `print()` for real applications.\n",
        "\n",
        " Helps maintain and troubleshoot programs efficiently.\n"
      ],
      "metadata": {
        "id": "NfIwf6o0vmT7"
      }
    },
    {
      "cell_type": "markdown",
      "source": [
        "#Q22.F What is the os module in Python used for in file handling?\n",
        "The **`os` module** in Python is used for interacting with the operating system, especially for **file and directory management**.\n",
        "\n",
        "---\n",
        "\n",
        "🔹 It allows tasks like **creating, deleting, renaming files**, and **navigating directories**.\n",
        "🔹 Functions like `os.open()`, `os.remove()`, `os.rename()`, and `os.path` help manage files.\n",
        "\n",
        "Provides a portable way to handle file system operations across different platforms.\n"
      ],
      "metadata": {
        "id": "YxTd1N-7vzjX"
      }
    },
    {
      "cell_type": "markdown",
      "source": [
        "#Q23.What are the challenges associated with memory management in Python?\n",
        "Here are the challenges associated with **memory management** in Python:\n",
        "---\n",
        "\n",
        "1. **Garbage Collection Overhead**:\n",
        "   Python’s automatic garbage collection can cause performance issues due to its periodic checks for unused objects.\n",
        "\n",
        "2. **Memory Leaks**:\n",
        "   If references to objects are not properly handled (e.g., circular references), memory leaks can occur.\n",
        "\n",
        "3. **Limited Control**:\n",
        "   Python manages memory automatically, limiting fine-grained control over memory allocation and deallocation.\n",
        "\n",
        "4. **Increased Memory Usage**:\n",
        "   Python’s high-level nature may lead to greater memory consumption compared to lower-level languages.\n",
        "\n",
        "---\n"
      ],
      "metadata": {
        "id": "GHQXW657v_T8"
      }
    },
    {
      "cell_type": "markdown",
      "source": [
        "#Q24.How do you raise an exception manually in Python?\n",
        "You can raise an exception manually in Python using the **`raise`** statement.\n",
        "\n",
        "---\n",
        "\n",
        "🔹 **Syntax**:\n",
        "\n",
        "```python\n",
        "raise Exception(\"An error occurred\")\n",
        "```\n",
        "\n",
        "🔹 **Example**:\n",
        "\n",
        "```python\n",
        "def check_age(age):\n",
        "    if age < 18:\n",
        "        raise ValueError(\"Age must be 18 or older.\")\n",
        "    else:\n",
        "        print(\"Age is valid.\")\n",
        "```\n",
        "\n",
        "This allows you to create custom error conditions and provide meaningful error messages.\n"
      ],
      "metadata": {
        "id": "n_3HYT5CwK-Q"
      }
    },
    {
      "cell_type": "markdown",
      "source": [
        "#Q25.Why is it important to use multithreading in certain applications?\n",
        "**Multithreading** is important in certain applications because:\n",
        "\n",
        "---\n",
        "\n",
        "1. **Improved performance**: Allows multiple tasks to run **concurrently**, especially for I/O-bound operations (e.g., file handling, network requests).\n",
        "2. **Better resource utilization**: Takes advantage of **idle CPU time** by running threads while waiting for tasks like file reads or network responses.\n",
        "3. **Responsiveness**: In GUI or real-time applications, multithreading helps maintain **UI responsiveness** while performing background tasks.\n",
        "\n",
        "---\n",
        "\n",
        "✅ It helps applications perform tasks faster and more efficiently without blocking critical operations.\n"
      ],
      "metadata": {
        "id": "Z_LZJwMxwWXb"
      }
    },
    {
      "cell_type": "markdown",
      "source": [
        "Practical Questions"
      ],
      "metadata": {
        "id": "61ZHQTIKweQG"
      }
    },
    {
      "cell_type": "code",
      "source": [
        "#Q1.How can you open a file for writing in Python and write a string to it?\n",
        "with open('my_file.txt', 'w') as f:\n",
        "  f.write('This is the string I want to write to the file.')"
      ],
      "metadata": {
        "id": "YN4bQt3Awg_Y"
      },
      "execution_count": 1,
      "outputs": []
    },
    {
      "cell_type": "code",
      "source": [
        "#Q2.Write a Python program to read the contents of a file and print each line.\n",
        "with open('my_file.txt', 'r') as f:\n",
        "  for line in f:\n",
        "    print(line, end='')"
      ],
      "metadata": {
        "colab": {
          "base_uri": "https://localhost:8080/"
        },
        "id": "s-TQPoyMw0vt",
        "outputId": "95897f4c-9c83-42ed-ff6f-f6e06de9a2f1"
      },
      "execution_count": 4,
      "outputs": [
        {
          "output_type": "stream",
          "name": "stdout",
          "text": [
            "This is the string I want to write to the file."
          ]
        }
      ]
    },
    {
      "cell_type": "code",
      "source": [
        "#Q3.How would you handle a case where the file doesn't exist while trying to open it for reading?\n",
        "try:\n",
        "    with open('non_existent_file.txt', 'r') as f:\n",
        "        content = f.read()\n",
        "        print(content)\n",
        "except FileNotFoundError:\n",
        "    print(\"Error: The file was not found.\")\n"
      ],
      "metadata": {
        "colab": {
          "base_uri": "https://localhost:8080/"
        },
        "id": "8rxfspAfxY-M",
        "outputId": "b37eb574-b647-4b4a-8a5c-094cf35c454c"
      },
      "execution_count": 5,
      "outputs": [
        {
          "output_type": "stream",
          "name": "stdout",
          "text": [
            "Error: The file was not found.\n"
          ]
        }
      ]
    },
    {
      "cell_type": "code",
      "source": [
        "#Q4.Write a Python script that reads from one file and writes its content to another file.\n",
        "try:\n",
        "    with open(output_filename, 'r') as outfile_check:\n",
        "        print(\"\\nContent of the output file:\")\n",
        "        print(outfile_check.read())\n",
        "except FileNotFoundError:\n",
        "    print(f\"Error: The output file '{output_filename}' was not created.\")\n",
        "except Exception as e:\n",
        "    print(f\"An error occurred while checking the output file: {e}\")"
      ],
      "metadata": {
        "colab": {
          "base_uri": "https://localhost:8080/"
        },
        "id": "WyqaLOjQxlhi",
        "outputId": "bf03823e-9907-4ec9-c28b-39032225ab2f"
      },
      "execution_count": 7,
      "outputs": [
        {
          "output_type": "stream",
          "name": "stdout",
          "text": [
            "An error occurred while checking the output file: name 'output_filename' is not defined\n"
          ]
        }
      ]
    },
    {
      "cell_type": "code",
      "source": [
        "#Q5. How would you catch and handle division by zero error in Python?\n",
        "\n",
        "try:\n",
        "    numerator = 10\n",
        "    denominator = 0\n",
        "    result = numerator / denominator\n",
        "    print(result)\n",
        "except ZeroDivisionError:\n",
        "    print(\"Error: Division by zero is not allowed.\")"
      ],
      "metadata": {
        "colab": {
          "base_uri": "https://localhost:8080/"
        },
        "id": "qdiRxKPkx9n8",
        "outputId": "d41410bd-a69b-4c05-cc19-69f757bbf7f0"
      },
      "execution_count": 8,
      "outputs": [
        {
          "output_type": "stream",
          "name": "stdout",
          "text": [
            "Error: Division by zero is not allowed.\n"
          ]
        }
      ]
    },
    {
      "cell_type": "code",
      "source": [
        "#Q6.Write a Python program that logs an error message to a log file when a division by zero exception occurs.\n",
        "import logging\n",
        "\n",
        "# Configure logging to write to a file\n",
        "logging.basicConfig(filename='error.log', level=logging.ERROR,\n",
        "                    format='%(asctime)s:%(levelname)s:%(message)s')\n",
        "\n",
        "def divide(a, b):\n",
        "    try:\n",
        "        result = a / b\n",
        "        return result\n",
        "    except ZeroDivisionError:\n",
        "        # Log the error message\n",
        "        logging.error(\"Division by zero occurred\")\n",
        "        print(\"Error: Cannot divide by zero. Check error.log for details.\")\n",
        "        return None\n",
        "\n",
        "# Example usage:\n",
        "print(divide(10, 2))\n",
        "print(divide(10, 0))\n",
        "\n",
        "# To check the contents of the log file in Colab\n",
        "!cat error.log\n",
        "\n"
      ],
      "metadata": {
        "colab": {
          "base_uri": "https://localhost:8080/"
        },
        "id": "B6DvU9aOyIzh",
        "outputId": "da643322-a732-4da3-90c6-d9fdb67b6b57"
      },
      "execution_count": 9,
      "outputs": [
        {
          "output_type": "stream",
          "name": "stderr",
          "text": [
            "ERROR:root:Division by zero occurred\n"
          ]
        },
        {
          "output_type": "stream",
          "name": "stdout",
          "text": [
            "5.0\n",
            "Error: Cannot divide by zero. Check error.log for details.\n",
            "None\n",
            "cat: error.log: No such file or directory\n"
          ]
        }
      ]
    },
    {
      "cell_type": "code",
      "source": [
        "#Q7.How do you log information at different levels (INFO, ERROR, WARNING) in Python using the logging module?\n",
        "\n",
        "logging.info(\"This is an informational message.\")\n",
        "logging.warning(\"This is a warning message.\")\n",
        "logging.error(\"This is an error message.\")"
      ],
      "metadata": {
        "colab": {
          "base_uri": "https://localhost:8080/"
        },
        "id": "EdKaVt8ryUKm",
        "outputId": "fb09eb99-2ecf-4487-ec3b-159b4a3185ac"
      },
      "execution_count": 10,
      "outputs": [
        {
          "output_type": "stream",
          "name": "stderr",
          "text": [
            "WARNING:root:This is a warning message.\n",
            "ERROR:root:This is an error message.\n"
          ]
        }
      ]
    },
    {
      "cell_type": "code",
      "source": [
        "#Q8.Write a program to handle a file opening error using exception handling?\n",
        "try:\n",
        "    # Attempt to open a file that might not exist\n",
        "    with open('some_file_that_doesnt_exist.txt', 'r') as f:\n",
        "        content = f.read()\n",
        "        print(content)\n",
        "except FileNotFoundError:\n",
        "    # Handle the FileNotFoundError\n",
        "    print(\"Error: The file was not found and could not be opened.\")\n",
        "except Exception as e:\n",
        "    # Handle any other potential exceptions during file opening\n",
        "    print(f\"An unexpected error occurred: {e}\")"
      ],
      "metadata": {
        "colab": {
          "base_uri": "https://localhost:8080/"
        },
        "id": "u2O6zAjqycN0",
        "outputId": "83ee00a4-6274-461a-cfe1-612c16acea80"
      },
      "execution_count": 11,
      "outputs": [
        {
          "output_type": "stream",
          "name": "stdout",
          "text": [
            "Error: The file was not found and could not be opened.\n"
          ]
        }
      ]
    },
    {
      "cell_type": "code",
      "source": [
        "#Q9.How can you read a file line by line and store its content in a list in Python?\n",
        "\n",
        "def read_file_to_list(filename):\n",
        "    \"\"\"Reads a file line by line and stores its content in a list.\n",
        "\n",
        "    Args:\n",
        "        filename: The path to the file.\n",
        "\n",
        "    Returns:\n",
        "        A list where each element is a line from the file, including newlines.\n",
        "        Returns an empty list if the file is not found.\n",
        "    \"\"\"\n",
        "    lines = []\n",
        "    try:\n",
        "        with open(filename, 'r') as f:\n",
        "            for line in f:\n",
        "                lines.append(line)\n",
        "    except FileNotFoundError:\n",
        "        print(f\"Error: File '{filename}' not found.\")\n",
        "    return lines\n",
        "\n",
        "# Example usage:\n",
        "# Create a dummy file for demonstration\n",
        "with open('sample.txt', 'w') as f:\n",
        "    f.write(\"This is the first line.\\n\")\n",
        "    f.write(\"This is the second line.\\n\")\n",
        "    f.write(\"And this is the third line.\")\n",
        "\n",
        "file_content = read_file_to_list('sample.txt')\n",
        "print(\"\\nContent of the list:\")\n",
        "print(file_content)\n",
        "\n",
        "# Example with a non-existent file\n",
        "non_existent_content = read_file_to_list('non_existent.txt')\n",
        "print(\"\\nContent of the list from non-existent file:\")\n",
        "non_existent_content\n"
      ],
      "metadata": {
        "colab": {
          "base_uri": "https://localhost:8080/"
        },
        "id": "Z96Jx9TZys1J",
        "outputId": "c9880196-6641-4794-ed2c-b1c9701734e5"
      },
      "execution_count": 12,
      "outputs": [
        {
          "output_type": "stream",
          "name": "stdout",
          "text": [
            "\n",
            "Content of the list:\n",
            "['This is the first line.\\n', 'This is the second line.\\n', 'And this is the third line.']\n",
            "Error: File 'non_existent.txt' not found.\n",
            "\n",
            "Content of the list from non-existent file:\n"
          ]
        },
        {
          "output_type": "execute_result",
          "data": {
            "text/plain": [
              "[]"
            ]
          },
          "metadata": {},
          "execution_count": 12
        }
      ]
    },
    {
      "cell_type": "code",
      "source": [
        "#Q10. How can you append data to an existing file in Python?\n",
        "# prompt:  How can you append data to an existing file in Python\n",
        "\n",
        "# Appending to an existing file\n",
        "with open('filename.txt', 'a') as f:\n",
        "  f.write('\\nThis line is appended to the file.')\n",
        "\n",
        "# To verify the content of the file after appending\n",
        "!cat filename.txt"
      ],
      "metadata": {
        "colab": {
          "base_uri": "https://localhost:8080/"
        },
        "id": "PNNrifc-y3VN",
        "outputId": "8d4d2f8a-590f-40e1-8b0b-223eee3cbf1c"
      },
      "execution_count": 13,
      "outputs": [
        {
          "output_type": "stream",
          "name": "stdout",
          "text": [
            "\n",
            "This line is appended to the file."
          ]
        }
      ]
    },
    {
      "cell_type": "code",
      "source": [
        "#Q11.Write a Python program that uses a try-except block to handle an error when attempting to access a dictionary key that doesn't exist?\n",
        "\n",
        "my_dict = {'a': 1, 'b': 2}\n",
        "\n",
        "try:\n",
        "    value = my_dict['c']  # Attempt to access a non-existent key\n",
        "    print(value)\n",
        "except KeyError:\n",
        "    print(\"Error: The key does not exist in the dictionary.\")\n",
        "except Exception as e:\n",
        "    print(f\"An unexpected error occurred: {e}\")"
      ],
      "metadata": {
        "colab": {
          "base_uri": "https://localhost:8080/"
        },
        "id": "D0IpN3nAzBo0",
        "outputId": "c82a3d2c-168d-40b6-9d63-07f0b973f7b3"
      },
      "execution_count": 14,
      "outputs": [
        {
          "output_type": "stream",
          "name": "stdout",
          "text": [
            "Error: The key does not exist in the dictionary.\n"
          ]
        }
      ]
    },
    {
      "cell_type": "code",
      "source": [
        "#Q12.Write a program that demonstrates using multiple except blocks to handle different types of exceptions.\n",
        "def process_input(value):\n",
        "  try:\n",
        "    # Attempt a division (can raise ZeroDivisionError)\n",
        "    result = 10 / int(value)\n",
        "    # Attempt to access an item in a list (can raise IndexError)\n",
        "    my_list = [1, 2, 3]\n",
        "    print(my_list[int(value)])\n",
        "  except ZeroDivisionError:\n",
        "    print(\"Caught a ZeroDivisionError: Cannot divide by zero.\")\n",
        "  except ValueError:\n",
        "    print(\"Caught a ValueError: Input must be an integer.\")\n",
        "  except IndexError:\n",
        "    print(\"Caught an IndexError: Index out of bounds for the list.\")\n",
        "  except Exception as e:\n",
        "    print(f\"Caught an unexpected error: {e}\")\n",
        "\n",
        "# Example usage:\n",
        "print(\"Testing with valid input (2):\")\n",
        "process_input(\"2\")\n",
        "\n",
        "print(\"\\nTesting with zero (division by zero):\")\n",
        "process_input(\"0\")\n",
        "\n",
        "print(\"\\nTesting with non-integer input ('abc'):\")\n",
        "process_input(\"abc\")\n",
        "\n",
        "print(\"\\nTesting with index out of bounds (5):\")\n",
        "process_input(\"5\")\n",
        "\n",
        "print(\"\\nTesting with a different unexpected error (e.g., input is None):\")\n",
        "process_input(None)"
      ],
      "metadata": {
        "colab": {
          "base_uri": "https://localhost:8080/"
        },
        "id": "urGE8yzi5j7W",
        "outputId": "3f7688bc-d06e-4861-a1d1-c6dc4f2f8cde"
      },
      "execution_count": 15,
      "outputs": [
        {
          "output_type": "stream",
          "name": "stdout",
          "text": [
            "Testing with valid input (2):\n",
            "3\n",
            "\n",
            "Testing with zero (division by zero):\n",
            "Caught a ZeroDivisionError: Cannot divide by zero.\n",
            "\n",
            "Testing with non-integer input ('abc'):\n",
            "Caught a ValueError: Input must be an integer.\n",
            "\n",
            "Testing with index out of bounds (5):\n",
            "Caught an IndexError: Index out of bounds for the list.\n",
            "\n",
            "Testing with a different unexpected error (e.g., input is None):\n",
            "Caught an unexpected error: int() argument must be a string, a bytes-like object or a real number, not 'NoneType'\n"
          ]
        }
      ]
    },
    {
      "cell_type": "code",
      "source": [
        "#Q13.How would you check if a file exists before attempting to read it in Python?\n",
        "\n",
        "import os\n",
        "\n",
        "file_path = 'my_file.txt'\n",
        "\n",
        "if os.path.exists(file_path):\n",
        "    try:\n",
        "        with open(file_path, 'r') as f:\n",
        "            content = f.read()\n",
        "            print(content)\n",
        "    except Exception as e:\n",
        "        print(f\"An error occurred while reading the file: {e}\")\n",
        "else:\n",
        "    print(f\"Error: The file '{file_path}' does not exist.\")"
      ],
      "metadata": {
        "colab": {
          "base_uri": "https://localhost:8080/"
        },
        "id": "_o0HD5UB5viy",
        "outputId": "aea3da10-8eab-4f9b-d492-8c450426dd4f"
      },
      "execution_count": 16,
      "outputs": [
        {
          "output_type": "stream",
          "name": "stdout",
          "text": [
            "This is the string I want to write to the file.\n"
          ]
        }
      ]
    },
    {
      "cell_type": "code",
      "source": [
        "#Q14.Write a program that uses the logging module to log both informational and error messages?\n",
        "def perform_operation(data):\n",
        "  \"\"\"Performs a sample operation that might cause an error.\"\"\"\n",
        "  logging.info(f\"Starting operation with data: {data}\")\n",
        "  try:\n",
        "    # Simulate a potential error, e.g., type error or value error\n",
        "    result = 100 / int(data)\n",
        "    logging.info(f\"Operation successful, result: {result}\")\n",
        "    return result\n",
        "  except ValueError as e:\n",
        "    logging.error(f\"Operation failed due to ValueError: {e}\")\n",
        "    print(f\"Caught ValueError: {e}\")\n",
        "    return None\n",
        "  except ZeroDivisionError as e:\n",
        "      logging.error(f\"Operation failed due to ZeroDivisionError: {e}\")\n",
        "      print(f\"Caught ZeroDivisionError: {e}\")\n",
        "      return None\n",
        "  except Exception as e:\n",
        "    logging.error(f\"Operation failed due to an unexpected error: {e}\")\n",
        "    print(f\"Caught unexpected error: {e}\")\n",
        "    return None\n",
        "\n",
        "# Example usage:\n",
        "print(\"--- Testing with valid input ---\")\n",
        "perform_operation(\"20\")\n",
        "\n",
        "print(\"\\n--- Testing with invalid input (string) ---\")\n",
        "perform_operation(\"abc\")\n",
        "\n",
        "print(\"\\n--- Testing with invalid input (zero) ---\")\n",
        "perform_operation(\"0\")\n",
        "\n",
        "print(\"\\n--- Checking log file content ---\")\n",
        "!cat app.log"
      ],
      "metadata": {
        "colab": {
          "base_uri": "https://localhost:8080/"
        },
        "id": "k9neXl3q531t",
        "outputId": "7368e90a-4729-476c-9da1-226a36b785d5"
      },
      "execution_count": 17,
      "outputs": [
        {
          "output_type": "stream",
          "name": "stderr",
          "text": [
            "ERROR:root:Operation failed due to ValueError: invalid literal for int() with base 10: 'abc'\n",
            "ERROR:root:Operation failed due to ZeroDivisionError: division by zero\n"
          ]
        },
        {
          "output_type": "stream",
          "name": "stdout",
          "text": [
            "--- Testing with valid input ---\n",
            "\n",
            "--- Testing with invalid input (string) ---\n",
            "Caught ValueError: invalid literal for int() with base 10: 'abc'\n",
            "\n",
            "--- Testing with invalid input (zero) ---\n",
            "Caught ZeroDivisionError: division by zero\n",
            "\n",
            "--- Checking log file content ---\n",
            "cat: app.log: No such file or directory\n"
          ]
        }
      ]
    },
    {
      "cell_type": "code",
      "source": [
        "#Q15.Write a Python program that prints the content of a file and handles the case when the file is empty?\n",
        "\n",
        "def print_file_content_with_empty_check(filename):\n",
        "    \"\"\"\n",
        "    Prints the content of a file, handling the case when the file is empty.\n",
        "\n",
        "    Args:\n",
        "        filename: The path to the file.\n",
        "    \"\"\"\n",
        "    try:\n",
        "        with open(filename, 'r') as f:\n",
        "            content = f.read()\n",
        "            if not content:\n",
        "                print(f\"File '{filename}' is empty.\")\n",
        "            else:\n",
        "                print(f\"Content of '{filename}':\")\n",
        "                print(content)\n",
        "    except FileNotFoundError:\n",
        "        print(f\"Error: File '{filename}' not found.\")\n",
        "    except Exception as e:\n",
        "        print(f\"An error occurred while reading the file: {e}\")\n",
        "\n",
        "# Create a dummy non-empty file\n",
        "with open('non_empty_file.txt', 'w') as f:\n",
        "    f.write(\"This is a test line.\\n\")\n",
        "    f.write(\"Another line.\")\n",
        "\n",
        "# Create a dummy empty file\n",
        "with open('empty_file.txt', 'w') as f:\n",
        "    pass  # Creates an empty file\n",
        "\n",
        "# Example usage with a non-empty file\n",
        "print_file_content_with_empty_check('non_empty_file.txt')\n",
        "\n",
        "print(\"-\" * 20)\n",
        "\n",
        "# Example usage with an empty file\n",
        "print_file_content_with_empty_check('empty_file.txt')\n",
        "\n",
        "print(\"-\" * 20)\n",
        "\n",
        "# Example usage with a non-existent file\n",
        "print_file_content_with_empty_check('does_not_exist.txt')"
      ],
      "metadata": {
        "colab": {
          "base_uri": "https://localhost:8080/"
        },
        "id": "iA18hmAU6FEg",
        "outputId": "1acc0d0e-4ae8-49f4-e785-6dbd2280bdde"
      },
      "execution_count": 18,
      "outputs": [
        {
          "output_type": "stream",
          "name": "stdout",
          "text": [
            "Content of 'non_empty_file.txt':\n",
            "This is a test line.\n",
            "Another line.\n",
            "--------------------\n",
            "File 'empty_file.txt' is empty.\n",
            "--------------------\n",
            "Error: File 'does_not_exist.txt' not found.\n"
          ]
        }
      ]
    },
    {
      "cell_type": "code",
      "source": [
        "#Q16.Demonstrate how to use memory profiling to check the memory usage of a small program.\n",
        "!pip install memory_profiler\n",
        "\n",
        "# Prepend %load_ext memory_profiler to the cell where you want to use memory profiling\n",
        "%load_ext memory_profiler\n",
        "\n",
        "# Define a small function to profile\n",
        "def create_list(n):\n",
        "    a = [i for i in range(n)]\n",
        "    return a\n",
        "\n",
        "# Use %memit to check memory usage of a single line\n",
        "# This runs the line and reports the memory increment\n",
        "%memit my_list = create_list(1000000)\n",
        "\n",
        "# Use %%memit for a block of code\n",
        "# This reports the memory increment for the entire cell\n",
        "%%memit\n",
        "another_list = create_list(500000)\n",
        "yet_another_list = create_list(500000)\n",
        "\n",
        "# You can also use @profile decorator for more detailed line-by-line profiling\n",
        "# For this, you need to run the script from the command line\n",
        "# In a Colab/Jupyter notebook, you can achieve similar detailed profiling by\n",
        "# saving the function to a file and running it with the profiler,\n",
        "# but the inline %memit and %%memit are often more convenient for quick checks.\n",
        "\n",
        "# To demonstrate @profile within a notebook context (requires writing to a file and running)\n",
        "# We won't run this directly as it needs command line execution for the report,\n",
        "# but here's how you'd define a function for it:\n",
        "\n",
        "# from memory_profiler import profile\n",
        "# @profile\n",
        "# def detailed_memory_function(n):\n",
        "#     x = [i for i in range(n)]\n",
        "#     y = [i*2 for i in range(n)]\n",
        "#     z = x + y\n",
        "#     return z\n",
        "\n",
        "# To run detailed profiling for the above function, you would typically:\n",
        "# 1. Save the function to a Python file (e.g., memory_script.py).\n",
        "# 2. Run it from your terminal: python -m memory_profiler memory_script.py\n",
        "# 3. The output would show memory usage line by line within the 'detailed_memory_function'.\n",
        "\n",
        "print(\"\\nMemory profiling results are shown above.\")"
      ],
      "metadata": {
        "colab": {
          "base_uri": "https://localhost:8080/"
        },
        "id": "N6fBpqIl6Shq",
        "outputId": "145f2273-052f-4312-b5cd-4247fb099f96"
      },
      "execution_count": 19,
      "outputs": [
        {
          "output_type": "stream",
          "name": "stdout",
          "text": [
            "Collecting memory_profiler\n",
            "  Downloading memory_profiler-0.61.0-py3-none-any.whl.metadata (20 kB)\n",
            "Requirement already satisfied: psutil in /usr/local/lib/python3.11/dist-packages (from memory_profiler) (5.9.5)\n",
            "Downloading memory_profiler-0.61.0-py3-none-any.whl (31 kB)\n",
            "Installing collected packages: memory_profiler\n",
            "Successfully installed memory_profiler-0.61.0\n",
            "peak memory: 155.69 MiB, increment: 39.86 MiB\n"
          ]
        },
        {
          "output_type": "stream",
          "name": "stderr",
          "text": [
            "UsageError: Line magic function `%%memit` not found.\n"
          ]
        }
      ]
    },
    {
      "cell_type": "code",
      "source": [
        "#Q17.Write a Python program to create and write a list of numbers to a file, one number per line?\n",
        "def write_list_to_file(numbers, filename):\n",
        "  \"\"\"Writes a list of numbers to a file, one number per line.\n",
        "\n",
        "  Args:\n",
        "    numbers: A list of numbers.\n",
        "    filename: The path to the file to write to.\n",
        "  \"\"\"\n",
        "  try:\n",
        "    with open(filename, 'w') as f:\n",
        "      for number in numbers:\n",
        "        f.write(f\"{number}\\n\")\n",
        "    print(f\"Successfully wrote numbers to '{filename}'.\")\n",
        "  except IOError as e:\n",
        "    print(f\"Error writing to file '{filename}': {e}\")\n",
        "  except Exception as e:\n",
        "    print(f\"An unexpected error occurred: {e}\")\n",
        "\n",
        "# Example usage:\n",
        "my_numbers = [10, 25, 3, 42, 505]\n",
        "output_filename = 'numbers_list.txt'\n",
        "\n",
        "write_list_to_file(my_numbers, output_filename)\n",
        "\n",
        "# Verify the content of the created file\n",
        "try:\n",
        "  with open(output_filename, 'r') as f:\n",
        "    print(f\"\\nContent of '{output_filename}':\")\n",
        "    print(f.read())\n",
        "except FileNotFoundError:\n",
        "  print(f\"Error: File '{output_filename}' was not created.\")"
      ],
      "metadata": {
        "colab": {
          "base_uri": "https://localhost:8080/"
        },
        "id": "21vRSbZX6dgy",
        "outputId": "0ac89a99-1d83-4616-8aad-31b5bbe0a705"
      },
      "execution_count": 20,
      "outputs": [
        {
          "output_type": "stream",
          "name": "stdout",
          "text": [
            "Successfully wrote numbers to 'numbers_list.txt'.\n",
            "\n",
            "Content of 'numbers_list.txt':\n",
            "10\n",
            "25\n",
            "3\n",
            "42\n",
            "505\n",
            "\n"
          ]
        }
      ]
    },
    {
      "cell_type": "code",
      "source": [
        "#Q18.How would you implement a basic logging setup that logs to a file with rotation after 1MB?\n",
        "\n",
        "from logging.handlers import RotatingFileHandler\n",
        "\n",
        "# Define the log file path\n",
        "log_file_path = 'application.log'\n",
        "\n",
        "# Create a logger\n",
        "logger = logging.getLogger('my_rotating_logger')\n",
        "logger.setLevel(logging.INFO)  # Set the minimum level to log\n",
        "\n",
        "# Create a RotatingFileHandler\n",
        "# filename: The name of the log file.\n",
        "# maxBytes: The maximum size of the log file before rotation (1MB = 1024 * 1024 bytes).\n",
        "# backupCount: The number of backup log files to keep.\n",
        "handler = RotatingFileHandler(log_file_path, maxBytes=1024 * 1024, backupCount=5)\n",
        "\n",
        "# Create a formatter and add it to the handler\n",
        "formatter = logging.Formatter('%(asctime)s - %(name)s - %(levelname)s - %(message)s')\n",
        "handler.setFormatter(formatter)\n",
        "\n",
        "# Add the handler to the logger\n",
        "logger.addHandler(handler)\n",
        "\n",
        "# Example usage:\n",
        "logger.info(\"This is an informational message.\")\n",
        "logger.warning(\"This is a warning message.\")\n",
        "logger.error(\"This is an error message.\")\n",
        "\n",
        "# Simulate writing a lot to trigger rotation (optional)\n",
        "# In a real scenario, this would happen naturally over time\n",
        "# with application messages.\n",
        "print(\"Writing messages to potentially trigger log rotation...\")\n",
        "for i in range(20000): # Write enough messages to exceed 1MB\n",
        "    logger.info(f\"Logging message number {i}\")\n",
        "\n",
        "print(f\"\\nLog messages written to '{log_file_path}'. Check its size to see if rotation occurred.\")\n",
        "\n",
        "# To view the log file(s) in Colab:\n",
        "print(\"\\nContent of the main log file:\")\n",
        "!cat {log_file_path}\n",
        "\n",
        "# If rotation occurred, you might see backup files like application.log.1, application.log.2, etc.\n",
        "print(\"\\nListing log files:\")\n",
        "!ls -lh application.log*\n"
      ],
      "metadata": {
        "id": "8OIwPgI16osk"
      },
      "execution_count": null,
      "outputs": []
    },
    {
      "cell_type": "code",
      "source": [
        "#Q19.Write a program that handles both IndexError and KeyError using a try-except block.\n",
        "\n",
        "def access_data(data_structure, key_or_index):\n",
        "  \"\"\"\n",
        "  Attempts to access an element from a list or a dictionary and handles\n",
        "  IndexError and KeyError using a try-except block.\n",
        "\n",
        "  Args:\n",
        "    data_structure: A list or a dictionary.\n",
        "    key_or_index: The key (for dictionary) or index (for list) to access.\n",
        "  \"\"\"\n",
        "  try:\n",
        "    value = data_structure[key_or_index]\n",
        "    print(f\"Successfully accessed: {value}\")\n",
        "  except IndexError:\n",
        "    print(f\"Error: Invalid index '{key_or_index}' for the list.\")\n",
        "  except KeyError:\n",
        "    print(f\"Error: Key '{key_or_index}' does not exist in the dictionary.\")\n",
        "  except Exception as e:\n",
        "    print(f\"An unexpected error occurred: {e}\")\n",
        "\n",
        "# Example usage:\n",
        "my_list = [1, 2, 3]\n",
        "my_dict = {'a': 10, 'b': 20}\n",
        "\n",
        "print(\"Accessing list:\")\n",
        "access_data(my_list, 1)   # Valid index\n",
        "access_data(my_list, 5)   # Invalid index\n",
        "\n",
        "print(\"\\nAccessing dictionary:\")\n",
        "access_data(my_dict, 'a') # Valid key\n",
        "access_data(my_dict, 'c') # Invalid key\n",
        "\n",
        "print(\"\\nAccessing with wrong type:\")\n",
        "access_data(my_list, 'a') # Type error (IndexError or different exception depending on Python version)\n",
        "access_data(my_dict, 1) # Type error (KeyError or different exception)\n"
      ],
      "metadata": {
        "colab": {
          "base_uri": "https://localhost:8080/"
        },
        "id": "XCq00yAm6yxS",
        "outputId": "3ccff94e-536f-4991-9a30-47ca9bee4639"
      },
      "execution_count": 22,
      "outputs": [
        {
          "output_type": "stream",
          "name": "stdout",
          "text": [
            "Accessing list:\n",
            "Successfully accessed: 2\n",
            "Error: Invalid index '5' for the list.\n",
            "\n",
            "Accessing dictionary:\n",
            "Successfully accessed: 10\n",
            "Error: Key 'c' does not exist in the dictionary.\n",
            "\n",
            "Accessing with wrong type:\n",
            "An unexpected error occurred: list indices must be integers or slices, not str\n",
            "Error: Key '1' does not exist in the dictionary.\n"
          ]
        }
      ]
    },
    {
      "cell_type": "code",
      "source": [
        "#Q20.How would you open a file and read its contents using a context manager in Python?\n",
        "\n",
        "# Define the filename\n",
        "filename = \"filename.txt\" # Replace with the actual file name\n",
        "\n",
        "# Use a context manager (with statement) to open and read the file\n",
        "try:\n",
        "    with open(filename, 'r') as file:\n",
        "        # Read the entire content of the file\n",
        "        content = file.read()\n",
        "        print(f\"Content of '{filename}':\")\n",
        "        print(content)\n",
        "except FileNotFoundError:\n",
        "    print(f\"Error: File '{filename}' not found.\")\n",
        "except Exception as e:\n",
        "    print(f\"An error occurred while reading the file: {e}\")"
      ],
      "metadata": {
        "colab": {
          "base_uri": "https://localhost:8080/"
        },
        "id": "HyPC2tBv7UKk",
        "outputId": "072ced1c-d3c2-449a-81b6-ea722507f6a2"
      },
      "execution_count": 23,
      "outputs": [
        {
          "output_type": "stream",
          "name": "stdout",
          "text": [
            "Content of 'filename.txt':\n",
            "\n",
            "This line is appended to the file.\n"
          ]
        }
      ]
    },
    {
      "cell_type": "code",
      "source": [
        "#Q21.Write a Python program that reads a file and prints the number of occurrences of a specific word.\n",
        "def count_word_occurrences(filename, word):\n",
        "  \"\"\"\n",
        "  Reads a file and counts the occurrences of a specific word.\n",
        "\n",
        "  Args:\n",
        "    filename: The path to the file.\n",
        "    word: The word to search for.\n",
        "\n",
        "  Returns:\n",
        "    The number of times the word appears in the file.\n",
        "    Returns -1 if the file is not found.\n",
        "  \"\"\"\n",
        "  count = 0\n",
        "  try:\n",
        "    with open(filename, 'r') as f:\n",
        "      content = f.read()\n",
        "      # Split the content into words and count occurrences (case-insensitive)\n",
        "      words_in_file = content.lower().split()\n",
        "      count = words_in_file.count(word.lower())\n",
        "    return count\n",
        "  except FileNotFoundError:\n",
        "    print(f\"Error: File '{filename}' not found.\")\n",
        "    return -1\n",
        "  except Exception as e:\n",
        "    print(f\"An error occurred while reading the file: {e}\")\n",
        "    return -1\n",
        "\n",
        "# Create a dummy file for demonstration\n",
        "with open('sample_text.txt', 'w') as f:\n",
        "  f.write(\"This is a sample text.\\n\")\n",
        "  f.write(\"This text contains the word sample multiple times.\\n\")\n",
        "  f.write(\"Sample, SAMPLE, sample.\")\n",
        "\n",
        "# Example usage:\n",
        "filename_to_search = 'sample_text.txt'\n",
        "word_to_find = 'sample'\n",
        "\n",
        "occurrences = count_word_occurrences(filename_to_search, word_to_find)\n",
        "\n",
        "if occurrences != -1:\n",
        "  print(f\"\\nThe word '{word_to_find}' appears {occurrences} times in '{filename_to_search}'.\")\n",
        "\n",
        "# Example with a non-existent file\n",
        "non_existent_filename = 'non_existent_file.txt'\n",
        "non_existent_occurrences = count_word_occurrences(non_existent_filename, word_to_find)"
      ],
      "metadata": {
        "colab": {
          "base_uri": "https://localhost:8080/"
        },
        "id": "mado2Lcu7gCc",
        "outputId": "a5f5c73f-da04-41d8-e7a2-0033241f3e77"
      },
      "execution_count": 26,
      "outputs": [
        {
          "output_type": "stream",
          "name": "stdout",
          "text": [
            "\n",
            "The word 'sample' appears 2 times in 'sample_text.txt'.\n",
            "Error: File 'non_existent_file.txt' not found.\n"
          ]
        }
      ]
    },
    {
      "cell_type": "code",
      "source": [
        "#Q22.How can you check if a file is empty before attempting to read its contents?\n",
        "\n",
        "import os\n",
        "\n",
        "def is_file_empty(file_path):\n",
        "  \"\"\"\n",
        "  Checks if a file is empty.\n",
        "\n",
        "  Args:\n",
        "    file_path: The path to the file.\n",
        "\n",
        "  Returns:\n",
        "    True if the file exists and is empty, False otherwise.\n",
        "  \"\"\"\n",
        "  # Check if the file exists\n",
        "  if not os.path.exists(file_path):\n",
        "    print(f\"Error: File '{file_path}' not found.\")\n",
        "    return False # Or you might want to return True depending on the definition of \"empty\"\n",
        "\n",
        "  # Check if the file size is 0\n",
        "  if os.path.getsize(file_path) == 0:\n",
        "    return True\n",
        "  else:\n",
        "    return False\n",
        "\n",
        "# Example Usage:\n",
        "\n",
        "# Create a dummy non-empty file\n",
        "with open('non_empty_file_check.txt', 'w') as f:\n",
        "    f.write(\"This file is not empty.\")\n",
        "\n",
        "# Create a dummy empty file\n",
        "with open('empty_file_check.txt', 'w') as f:\n",
        "    pass # Creates an empty file\n",
        "\n",
        "# Check the non-empty file\n",
        "filename1 = 'non_empty_file_check.txt'\n",
        "if is_file_empty(filename1):\n",
        "  print(f\"'{filename1}' is empty.\")\n",
        "else:\n",
        "  print(f\"'{filename1}' is not empty.\")\n",
        "\n",
        "# Check the empty file\n",
        "filename2 = 'empty_file_check.txt'\n",
        "if is_file_empty(filename2):\n",
        "  print(f\"'{filename2}' is empty.\")\n",
        "else:\n",
        "  print(f\"'{filename2}' is not empty.\")\n",
        "\n",
        "# Check a non-existent file\n",
        "filename3 = 'non_existent_file_check.txt'\n",
        "if is_file_empty(filename3):\n",
        "  print(f\"'{filename3}' is empty.\")\n",
        "else:\n",
        "  print(f\"'{filename3}' is not empty or does not exist.\")"
      ],
      "metadata": {
        "colab": {
          "base_uri": "https://localhost:8080/"
        },
        "id": "ykI-pVn77zlR",
        "outputId": "2b21742d-e0f7-4fd8-9da9-08012c21b263"
      },
      "execution_count": 28,
      "outputs": [
        {
          "output_type": "stream",
          "name": "stdout",
          "text": [
            "'non_empty_file_check.txt' is not empty.\n",
            "'empty_file_check.txt' is empty.\n",
            "Error: File 'non_existent_file_check.txt' not found.\n",
            "'non_existent_file_check.txt' is not empty or does not exist.\n"
          ]
        }
      ]
    },
    {
      "cell_type": "code",
      "source": [
        "#Q23. Write a Python program that writes to a log file when an error occurs during file handling.\n",
        "\n",
        "# Define the log file path\n",
        "file_handling_log_file = 'file_handling_errors.log'\n",
        "\n",
        "# Configure logging specifically for file handling errors\n",
        "file_handler = logging.FileHandler(file_handling_log_file)\n",
        "file_handler.setLevel(logging.ERROR) # Only log ERROR level and above\n",
        "\n",
        "# Create a formatter\n",
        "formatter = logging.Formatter('%(asctime)s - %(levelname)s - %(message)s')\n",
        "file_handler.setFormatter(formatter)\n",
        "\n",
        "# Get the root logger or a specific logger\n",
        "# Using a specific logger is generally better practice to avoid interfering\n",
        "# with other parts of the application's logging setup.\n",
        "file_error_logger = logging.getLogger('file_error_logger')\n",
        "file_error_logger.setLevel(logging.ERROR) # Ensure logger level is set to capture errors\n",
        "file_error_logger.addHandler(file_handler)\n",
        "\n",
        "def read_file_with_error_logging(filename):\n",
        "    \"\"\"\n",
        "    Attempts to read a file and logs an error if file handling fails.\n",
        "\n",
        "    Args:\n",
        "        filename: The path to the file.\n",
        "    \"\"\"\n",
        "    try:\n",
        "        with open(filename, 'r') as f:\n",
        "            content = f.read()\n",
        "            print(f\"Successfully read file '{filename}'. Content:\")\n",
        "            print(content)\n",
        "    except FileNotFoundError:\n",
        "        error_message = f\"Error: File '{filename}' not found.\"\n",
        "        file_error_logger.error(error_message)\n",
        "        print(error_message)\n",
        "    except IOError as e:\n",
        "        error_message = f\"IOError occurred while handling file '{filename}': {e}\"\n",
        "        file_error_logger.error(error_message)\n",
        "        print(error_message)\n",
        "    except Exception as e:\n",
        "        error_message = f\"An unexpected error occurred while handling file '{filename}': {e}\"\n",
        "        file_error_logger.error(error_message)\n",
        "        print(error_message)\n",
        "\n",
        "# Example Usage:\n",
        "\n",
        "# Create a dummy file for successful reading\n",
        "with open('valid_file.txt', 'w') as f:\n",
        "    f.write(\"This is content for the valid file.\")\n",
        "\n",
        "print(\"--- Attempting to read a valid file ---\")\n",
        "read_file_with_error_logging('valid_file.txt')\n",
        "\n",
        "print(\"\\n--- Attempting to read a non-existent file ---\")\n",
        "read_file_with_error_logging('non_existent_file_for_error.txt')\n",
        "\n",
        "# Simulate another potential file error (e.g., permission error, though harder to simulate easily in Colab)\n",
        "# For demonstration purposes, we'll just call the function again with a non-existent file.\n",
        "print(\"\\n--- Attempting to read another non-existent file ---\")\n",
        "read_file_with_error_logging('another_bad_file.txt')\n",
        "\n",
        "\n",
        "print(f\"\\nCheck the '{file_handling_log_file}' for logged errors.\")\n",
        "\n",
        "# To view the content of the log file in Colab\n",
        "print(\"\\nContent of the log file:\")\n",
        "!cat file_handling_errors.log"
      ],
      "metadata": {
        "colab": {
          "base_uri": "https://localhost:8080/"
        },
        "id": "v_ZvQrPO8AxX",
        "outputId": "786f36d4-ad50-47cc-b96f-ca99caf68bc4"
      },
      "execution_count": 29,
      "outputs": [
        {
          "output_type": "stream",
          "name": "stderr",
          "text": [
            "ERROR:file_error_logger:Error: File 'non_existent_file_for_error.txt' not found.\n",
            "ERROR:file_error_logger:Error: File 'another_bad_file.txt' not found.\n"
          ]
        },
        {
          "output_type": "stream",
          "name": "stdout",
          "text": [
            "--- Attempting to read a valid file ---\n",
            "Successfully read file 'valid_file.txt'. Content:\n",
            "This is content for the valid file.\n",
            "\n",
            "--- Attempting to read a non-existent file ---\n",
            "Error: File 'non_existent_file_for_error.txt' not found.\n",
            "\n",
            "--- Attempting to read another non-existent file ---\n",
            "Error: File 'another_bad_file.txt' not found.\n",
            "\n",
            "Check the 'file_handling_errors.log' for logged errors.\n",
            "\n",
            "Content of the log file:\n",
            "2025-05-17 11:11:00,966 - ERROR - Error: File 'non_existent_file_for_error.txt' not found.\n",
            "2025-05-17 11:11:00,968 - ERROR - Error: File 'another_bad_file.txt' not found.\n"
          ]
        }
      ]
    }
  ]
}