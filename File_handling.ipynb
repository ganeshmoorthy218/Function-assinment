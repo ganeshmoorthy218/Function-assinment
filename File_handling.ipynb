{
  "nbformat": 4,
  "nbformat_minor": 0,
  "metadata": {
    "colab": {
      "provenance": []
    },
    "kernelspec": {
      "name": "python3",
      "display_name": "Python 3"
    },
    "language_info": {
      "name": "python"
    }
  },
  "cells": [
    {
      "cell_type": "markdown",
      "source": [
        "#1.What is the difference between interpreted and compiled languages?\n",
        "The difference between **interpreted** and **compiled languages** comes down to **how code is translated into something a computer can execute**.\n",
        "\n",
        "###  Compiled Languages\n",
        "- **Compiled** means the source code is **translated all at once** into machine code (binary) by a **compiler** before it’s run.\n",
        "- You write code  compile it  run the executable.\n",
        "- **Examples:** C, C++, Rust, Go\n",
        "\n",
        "**Pros:**\n",
        "- Faster execution (runs directly as machine code)\n",
        "- Better performance for large, complex applications\n",
        "- Errors caught before running the program\n",
        "\n",
        "**Cons:**\n",
        "- Slower development cycle (need to recompile after changes)\n",
        "- Platform-dependent binaries\n",
        "\n",
        "---\n",
        "\n",
        "###  Interpreted Languages\n",
        "- **Interpreted** means the source code is **run line-by-line** by an **interpreter**, without creating a separate executable.\n",
        "- You write code run it directly.\n",
        "\n",
        "- **Examples:** Python, JavaScript, Ruby, PHP\n",
        "\n",
        "**Pros:**\n",
        "- Easier to test and debug\n",
        "- More flexible (platform-independent)\n",
        "- Great for scripting and quick development\n",
        "\n",
        "**Cons:**\n",
        "- Slower execution (interpreted at runtime)\n",
        "- Some errors might only show during execution\n",
        "\n",
        "---\n",
        "\n",
        "###  Hybrid Example\n",
        "Some languages use a mix of both:\n",
        "- **Java**: Compiled to bytecode (not machine code), then interpreted or JIT-compiled by the Java Virtual Machine (JVM)\n",
        "- **Python**: Interpreted, but also compiles to bytecode (`.pyc`) behind the scenes\n",
        "\n",
        "---\n",
        "\n",
        "Let me know if you want examples or a little code comparison to make it clearer!"
      ],
      "metadata": {
        "id": "ye61iOGRPfs9"
      }
    },
    {
      "cell_type": "markdown",
      "source": [
        "#2.What is exception handling in Python?\n",
        "Exception handling in Python is a way to gracefully respond to errors or unexpected events that happen while your code is running — without crashing your entire program.\n",
        "\n",
        "What is an Exception?\n",
        "An exception is an error that occurs during the execution of a program. Examples:\n",
        "\n",
        "Dividing by zero: ZeroDivisionError\n",
        "\n",
        "Accessing a non-existent variable: NameError\n",
        "\n",
        "Opening a file that doesn’t exist: FileNotFoundError"
      ],
      "metadata": {
        "id": "lY7KqsxSQGaL"
      }
    },
    {
      "cell_type": "markdown",
      "source": [
        "#3.What is the purpose of the finally block in exception handling?\n",
        "\n",
        "###  `finally` in Python\n",
        "\n",
        "The `finally` block **always runs**, whether an error happens or not.  \n",
        "It’s used for **cleanup tasks** like closing files or freeing resources.\n",
        "\n",
        "**Example:**\n",
        "''' python\n",
        "try:\n",
        "    x = 1 / 0\n",
        "except:\n",
        "    print(\"Error!\")\n",
        "finally:\n",
        "    print(\"This always runs.\")'''\n",
        "``"
      ],
      "metadata": {
        "id": "I2TfmhEUQbmu"
      }
    },
    {
      "cell_type": "markdown",
      "source": [
        "#4.What is logging in Python?\n",
        "**Logging in Python** is a way to record messages about what your program is doing — like tracking errors, warnings, or general info.\n",
        "\n",
        "It helps with **debugging** and **monitoring** your code, especially in big or long-running programs.\n",
        "\n",
        "**Example:**\n",
        "```python\n",
        "import logging\n",
        "\n",
        "logging.basicConfig(level=logging.INFO)\n",
        "logging.info(\"This is an info message.\")\n",
        "```\n",
        "\n",
        "You can log different levels: `DEBUG`, `INFO`, `WARNING`, `ERROR`, `CRITICAL`.\n"
      ],
      "metadata": {
        "id": "VBye6JVZRHbL"
      }
    },
    {
      "cell_type": "markdown",
      "source": [
        "#5.What is the significance of the __del__ method in Python?\n",
        "The `__del__` method in Python is a **destructor** — it's called **automatically when an object is about to be deleted** (i.e., when it’s garbage collected).\n",
        "\n",
        "You can use it to **clean up resources**, like closing files or network connections.\n",
        "\n",
        "**Example:**\n",
        "```python\n",
        "class MyClass:\n",
        "    def __del__(self):\n",
        "        print(\"Object is being deleted\")\n",
        "```\n",
        "\n",
        "Note: It’s not always reliable for critical cleanup — use `with` statements or `try/finally` when possible."
      ],
      "metadata": {
        "id": "_aLleRIWRQsB"
      }
    },
    {
      "cell_type": "markdown",
      "source": [
        "#6. What is the difference between import and from ... import in Python?\n",
        "- `import module` → imports the whole module; use with the module name.  \n",
        "  ```python\n",
        "  import math  \n",
        "  print(math.sqrt(16))  \n",
        "  ```\n",
        "\n",
        "- `from module import name` → imports specific part; use directly.  \n",
        "  ```python\n",
        "  from math import sqrt  \n",
        "  print(sqrt(16))  \n",
        "  ```\n",
        "\n",
        "Both are ways to use code from other files/modules."
      ],
      "metadata": {
        "id": "B2RoOyUBRauK"
      }
    },
    {
      "cell_type": "markdown",
      "source": [
        "#7. How can you handle multiple exceptions in Python?\n",
        "You can handle **multiple exceptions** in Python using:\n",
        "\n",
        "---\n",
        "\n",
        "### 1️⃣ **Multiple `except` blocks**:\n",
        "```python\n",
        "try:\n",
        "    # risky code\n",
        "except ValueError:\n",
        "    print(\"Caught a ValueError\")\n",
        "except ZeroDivisionError:\n",
        "    print(\"Caught a ZeroDivisionError\")\n",
        "```\n",
        "\n",
        "---\n",
        "\n",
        "### 2️⃣ **Single `except` with a tuple**:\n",
        "```python\n",
        "try:\n",
        "    # risky code\n",
        "except (ValueError, ZeroDivisionError):\n",
        "    print(\"Caught ValueError or ZeroDivisionError\")\n",
        "```\n",
        "\n",
        "---\n",
        "\n",
        "Both methods let you handle different error types cleanly. Let me know if you want an example with custom messages!"
      ],
      "metadata": {
        "id": "8zOD5758R28v"
      }
    },
    {
      "cell_type": "markdown",
      "source": [
        "#8.What is the purpose of the with statement when handling files in Python?\n",
        "- The with statement ensures that a file is properly opened and automatically closed after its suite finishes execution, even if an error occurs.\n",
        "\n"
      ],
      "metadata": {
        "id": "_80nz61ESBvt"
      }
    },
    {
      "cell_type": "markdown",
      "source": [
        "#9.What is the difference between multithreading and multiprocessing\n",
        "- Multithreading: Multiple threads share the same memory space; good for I/O-bound tasks.\n",
        "\n",
        "- Multiprocessing: Multiple processes have separate memory space; better for CPU-bound tasks.\n",
        "\n"
      ],
      "metadata": {
        "id": "dXfXuAOKsI-a"
      }
    },
    {
      "cell_type": "markdown",
      "source": [
        "#10.What are the advantages of using logging in a program?\n",
        "- Tracks and records events during program execution.\n",
        "\n",
        "- Helps in debugging and monitoring.\n",
        "\n",
        "- Offers better control than using print statements.\n",
        "\n"
      ],
      "metadata": {
        "id": "rRng32jwsQPE"
      }
    },
    {
      "cell_type": "markdown",
      "source": [
        "#11.What is memory management in Python?\n",
        "- Python handles memory automatically with the help of:\n",
        "\n",
        "- Reference counting\n",
        "\n",
        "- Garbage collection\n",
        "\n",
        "- Dynamic memory allocation"
      ],
      "metadata": {
        "id": "nUS9eLW_saok"
      }
    },
    {
      "cell_type": "markdown",
      "source": [
        "#12.What are the basic steps involved in exception handling in Python?\n",
        "1.Try block to wrap code that might fail\n",
        "\n",
        "2.Except block to handle exceptions\n",
        "\n",
        "3.Else block for code that runs if no exceptions occur\n",
        "\n",
        "4.Finally block for cleanup\n"
      ],
      "metadata": {
        "id": "VzibKLo6stG0"
      }
    },
    {
      "cell_type": "markdown",
      "source": [
        "#13.Why is memory management important in Python?\n",
        "It helps avoid memory leaks, keeps the program efficient, and ensures optimal resource utilization.\n",
        "\n"
      ],
      "metadata": {
        "id": "DXu-AFG4tCSt"
      }
    },
    {
      "cell_type": "markdown",
      "source": [
        "#14.What is the role of try and except in exception handling?\n",
        "The **role of `try` and `except`** in exception handling in Python is to **gracefully manage errors** that might occur during program execution, without crashing the program.\n",
        "\n",
        "---\n",
        "\n",
        "### 🔹 `try` block:\n",
        "- Contains code that **might raise an exception**.\n",
        "- Python attempts to execute this code.\n",
        "\n",
        "### 🔹 `except` block:\n",
        "- Contains code that runs **only if an exception is raised** in the `try` block.\n",
        "- Allows you to **handle the error**, log it, show a message, or take corrective action.\n",
        "\n",
        "---\n",
        "\n",
        "###  Example:\n",
        "```python\n",
        "try:\n",
        "    result = 10 / 0\n",
        "except ZeroDivisionError:\n",
        "    print(\"Oops! You can't divide by zero.\")\n",
        "```\n",
        "\n",
        "**Output:**\n",
        "```\n",
        "Oops! You can't divide by zero.\n",
        "```\n",
        "\n",
        "Without `try` and `except`, the program would crash with a `ZeroDivisionError`.\n",
        "\n",
        "---\n",
        "\n",
        "###  Why it's useful:\n",
        "- Prevents programs from crashing\n",
        "- Allows developers to handle specific errors cleanly\n",
        "- Improves user experience by providing meaningful error messages\n",
        "\n",
        "Want to see how to catch multiple exceptions or use `else` and `finally` too?\n"
      ],
      "metadata": {
        "id": "053LqiaytIu5"
      }
    },
    {
      "cell_type": "markdown",
      "source": [
        "#15.How does Python's garbage collection system work\n",
        "Python’s **garbage collection system** automatically manages memory by cleaning up objects that are no longer in use. It helps free up memory and avoid leaks without manual intervention.\n",
        "\n",
        "---\n",
        "\n",
        "### 🔹 How it works:\n",
        "\n",
        "#### 1. **Reference Counting (Primary Mechanism)**\n",
        "- Every object keeps track of the **number of references** pointing to it.\n",
        "- When the reference count drops to **zero**, the object is **immediately destroyed**.\n",
        "\n",
        "```python\n",
        "a = [1, 2, 3]\n",
        "b = a  # Two references: a and b\n",
        "del a  # One reference remains\n",
        "del b  # Now 0 references -> object is deleted\n",
        "```\n",
        "\n",
        "---\n",
        "\n",
        "#### 2. **Garbage Collector for Circular References**\n",
        "- Reference counting **can’t detect circular references**, like in mutually referencing objects.\n",
        "- Python’s **`gc` module** uses a **cyclic garbage collector** to find and remove these.\n",
        "\n",
        "```python\n",
        "import gc\n",
        "gc.collect()  # Manually trigger garbage collection\n",
        "```\n",
        "\n",
        "---\n",
        "\n",
        "### 🔹 Generational GC System\n",
        "Python divides objects into **three generations**:\n",
        "- **Gen 0**: New objects\n",
        "- **Gen 1**: Objects that survived one collection\n",
        "- **Gen 2**: Long-lived objects\n",
        "\n",
        "Garbage collection occurs more frequently in younger generations (because they’re more likely to be garbage).\n",
        "\n",
        "---\n",
        "\n",
        "###  Summary of Key Features:\n",
        "- Automatic memory management\n",
        "- Uses **reference counting** and **cycle detection**\n",
        "- Helps avoid memory leaks in long-running applications\n",
        "\n",
        "---\n",
        "\n",
        "Let me know if you want to see how to inspect or tune the garbage collector using the `gc` module!"
      ],
      "metadata": {
        "id": "2s4Le3mbuTGv"
      }
    },
    {
      "cell_type": "markdown",
      "source": [
        "#16. What is the purpose of the else block in exception handling?\n",
        "Great question!\n",
        "\n",
        "### 🔹 **Purpose of the `else` block in exception handling**\n",
        "\n",
        "In Python, the `**else**` block in a `try-except` structure is used to define **code that should run only if no exception occurs** in the `try` block.\n",
        "\n",
        "---\n",
        "\n",
        "### Why use it?\n",
        "\n",
        "- Keeps your error-handling (`except`) code **separate** from your success-path logic.\n",
        "- Improves code clarity and readability.\n",
        "\n",
        "---\n",
        "\n",
        "### 🔸 Syntax:\n",
        "```python\n",
        "try:\n",
        "    # Code that might raise an exception\n",
        "    x = 10 / 2\n",
        "except ZeroDivisionError:\n",
        "    print(\"Can't divide by zero!\")\n",
        "else:\n",
        "    print(\"Division successful!\")\n",
        "```\n",
        "\n",
        "**Output:**\n",
        "```\n",
        "Division successful!\n",
        "```\n",
        "\n",
        "---\n",
        "\n",
        "### 🔸 If an exception **does** occur:\n",
        "```python\n",
        "try:\n",
        "    x = 10 / 0\n",
        "except ZeroDivisionError:\n",
        "    print(\"Can't divide by zero!\")\n",
        "else:\n",
        "    print(\"Division successful!\")  # This will NOT run\n",
        "```\n",
        "\n",
        "**Output:**\n",
        "```\n",
        "Can't divide by zero!\n",
        "```\n",
        "\n",
        "---\n",
        "\n",
        "###  When to use `else`:\n",
        "- When you want to run **additional code only if no exception** was raised in the `try` block.\n",
        "- Useful in cases like closing connections, logging success, or continuing logic only when there's no error.\n",
        "\n",
        "---\n",
        "\n",
        "Want to dive into how the `finally` block fits in as well?"
      ],
      "metadata": {
        "id": "caYO1fkfufdV"
      }
    },
    {
      "cell_type": "markdown",
      "source": [
        "#17. What are the common logging levels in Python?\n",
        "Great! In Python’s `logging` module, **logging levels** represent the **severity or importance** of the events your program reports. They help control what gets logged and where.\n",
        "\n",
        "---\n",
        "\n",
        "### 🔹 **Common Logging Levels (from lowest to highest severity)**\n",
        "\n",
        "| Level       | Numeric Value | Description |\n",
        "|-------------|----------------|-------------|\n",
        "| `DEBUG`     | 10             | Detailed information, typically for diagnosing problems |\n",
        "| `INFO`      | 20             | General information about program execution |\n",
        "| `WARNING`   | 30             | Something unexpected or potential problem, but not an error |\n",
        "| `ERROR`     | 40             | A more serious problem; something went wrong |\n",
        "| `CRITICAL`  | 50             | A very serious error; the program may not be able to continue |\n",
        "\n",
        "---\n",
        "\n",
        "### Example usage:\n",
        "```python\n",
        "import logging\n",
        "\n",
        "logging.basicConfig(level=logging.DEBUG)\n",
        "\n",
        "logging.debug(\"This is a debug message\")\n",
        "logging.info(\"This is an info message\")\n",
        "logging.warning(\"This is a warning\")\n",
        "logging.error(\"This is an error\")\n",
        "logging.critical(\"This is critical\")\n",
        "```\n",
        "\n",
        "---\n",
        "\n",
        "### Why use logging levels?\n",
        "\n",
        "- To **filter** what gets logged depending on the environment (e.g., only warnings/errors in production).\n",
        "- To **categorize** logs so they're easier to analyze.\n",
        "- Helps in **monitoring** and **debugging** effectively.\n",
        "\n",
        "---\n",
        "\n",
        "Want to see how to log to a file or customize log formatting?"
      ],
      "metadata": {
        "id": "HVqxB8nBuoU8"
      }
    },
    {
      "cell_type": "markdown",
      "source": [
        "#18.What is the difference between os.fork() and multiprocessing in Python?\n",
        "Awesome question! Let's break down the difference between `os.fork()` and the `multiprocessing` module in Python:\n",
        "\n",
        "---\n",
        "\n",
        "### 🔹 **`os.fork()`**\n",
        "\n",
        "- **What it does**: Creates a **new child process** by duplicating the current (parent) process.\n",
        "- **Returns**:\n",
        "  - `0` in the **child process**\n",
        "  - The child’s **PID** in the parent process\n",
        "\n",
        "####  Example:\n",
        "```python\n",
        "import os\n",
        "\n",
        "pid = os.fork()\n",
        "\n",
        "if pid == 0:\n",
        "    print(\"Child process\")\n",
        "else:\n",
        "    print(\"Parent process, child PID:\", pid)\n",
        "```\n",
        "\n",
        "####  Limitations:\n",
        "- Only available on **Unix/Linux/macOS** ( Not available on Windows)\n",
        "- Low-level and more **error-prone**\n",
        "- No built-in support for data sharing or communication between processes\n",
        "\n",
        "---\n",
        "\n",
        "### 🔹 **`multiprocessing` Module**\n",
        "\n",
        "- A **high-level** and **cross-platform** ( Windows, macOS, Linux) library for creating processes.\n",
        "- Provides **better abstraction** and tools like:\n",
        "  - `Process` class\n",
        "  - `Queue` and `Pipe` for inter-process communication\n",
        "  - `Pool` for managing worker processes\n",
        "\n",
        "#### 🔸 Example:\n",
        "```python\n",
        "from multiprocessing import Process\n",
        "\n",
        "def worker():\n",
        "    print(\"Child process\")\n",
        "\n",
        "p = Process(target=worker)\n",
        "p.start()\n",
        "p.join()\n",
        "```\n",
        "\n",
        "####  Advantages:\n",
        "- Works on all platforms\n",
        "- Easier to write, read, and maintain\n",
        "- Supports communication and synchronization between processes\n",
        "\n",
        "---\n",
        "\n",
        "### 🔸 Summary:\n",
        "\n",
        "| Feature              | `os.fork()`              | `multiprocessing`                     |\n",
        "|----------------------|--------------------------|----------------------------------------|\n",
        "| Platform             | Unix/Linux only          | Cross-platform (Windows-friendly)     |\n",
        "| Abstraction Level    | Low-level                | High-level                            |\n",
        "| Ease of Use          | More complex             | Easier and cleaner                    |\n",
        "| Inter-process Comm.  | Manual, complex          | Built-in tools (e.g., Queue, Pipe)    |\n",
        "| Use Case             | For advanced, system-level control | For general-purpose concurrent programming |\n",
        "\n",
        "---\n",
        "\n",
        "Let me know if you want a real-world example comparing both in action!"
      ],
      "metadata": {
        "id": "3hEKVf0qu0GD"
      }
    },
    {
      "cell_type": "markdown",
      "source": [
        "#19.What is the importance of closing a file in Python?\n",
        "Great question — and one that’s easy to overlook!\n",
        "\n",
        "---\n",
        "\n",
        "### 🔹 **Importance of Closing a File in Python**\n",
        "\n",
        "When you're done working with a file, you should **close it** using `.close()` or, even better, use the `with` statement which closes it automatically. Here’s why:\n",
        "\n",
        "---\n",
        "\n",
        "###  **1. Frees Up System Resources**\n",
        "- Every open file takes up **system resources** (file handles).\n",
        "- Not closing files can lead to **resource exhaustion**, especially in loops or large-scale apps.\n",
        "\n",
        "---\n",
        "\n",
        "###  **2. Ensures Data is Written Properly**\n",
        "- When writing to a file, Python uses **buffers** to improve performance.\n",
        "- If you don’t close the file, some data may remain in the buffer and **never get written** to disk.\n",
        "\n",
        "---\n",
        "\n",
        "###  **3. Prevents File Corruption or Data Loss**\n",
        "- Especially critical when writing or appending.\n",
        "- Closing the file ensures the file’s structure and content is finalized correctly.\n",
        "\n",
        "---\n",
        "\n",
        "###  **4. Avoids File Locking Issues**\n",
        "- Some systems lock files while they’re open.\n",
        "- If a file remains open, it might **block other processes or programs** from accessing it.\n",
        "\n",
        "---\n",
        "\n",
        "###  Example:\n",
        "\n",
        "```python\n",
        "# Manual way (you MUST remember to close it)\n",
        "f = open(\"example.txt\", \"w\")\n",
        "f.write(\"Hello, world!\")\n",
        "f.close()  # Important!\n",
        "\n",
        "# Better: using 'with' (automatically closes the file)\n",
        "with open(\"example.txt\", \"w\") as f:\n",
        "    f.write(\"Hello again!\")\n",
        "```\n",
        "\n",
        "---\n",
        "\n",
        "In short: **Always close your files** — or even better, **use `with` to handle it for you safely**. Want to see what can go wrong if a file isn’t closed?"
      ],
      "metadata": {
        "id": "sTiF7XIIvAIf"
      }
    },
    {
      "cell_type": "markdown",
      "source": [
        "#20.What is the difference between file.read() and file.readline() in Python?\n",
        "Great one! Both `file.read()` and `file.readline()` are used to read contents from a file in Python, but they work **very differently** depending on how much data you want.\n",
        "\n",
        "---\n",
        "\n",
        "###  `file.read()`\n",
        "\n",
        "- **Reads the entire file** (or a specified number of bytes).\n",
        "- Returns **one large string** with the whole content.\n",
        "\n",
        "####  Example:\n",
        "```python\n",
        "with open(\"example.txt\", \"r\") as f:\n",
        "    content = f.read()\n",
        "    print(content)\n",
        "```\n",
        "\n",
        " **Use when** you want everything at once.\n",
        "\n",
        "---\n",
        "\n",
        "###  `file.readline()`\n",
        "\n",
        "- **Reads just one line** from the file at a time.\n",
        "- Returns a string ending with a newline character (`\\n`) if the line has one.\n",
        "\n",
        "####  Example:\n",
        "```python\n",
        "with open(\"example.txt\", \"r\") as f:\n",
        "    line1 = f.readline()\n",
        "    print(\"First line:\", line1)\n",
        "```\n",
        "\n",
        " **Use when** you want to read the file **line by line**, especially for large files.\n",
        "\n",
        "---\n",
        "\n",
        "###  Comparison Table:\n",
        "\n",
        "| Feature               | `file.read()`            | `file.readline()`             |\n",
        "|-----------------------|--------------------------|-------------------------------|\n",
        "| Reads                 | Whole file or N characters | One line at a time            |\n",
        "| Return type           | One string                | One string (one line)         |\n",
        "| Memory usage          | Higher (for large files)  | Lower                         |\n",
        "| Suitable for          | Small to medium files     | Large files, line processing  |\n",
        "\n",
        "---\n",
        "\n",
        "### Bonus: Want to read all lines into a list?\n",
        "Use `file.readlines()` — it gives you a list where each item is a line from the file.\n",
        "\n",
        "```python\n",
        "with open(\"example.txt\", \"r\") as f:\n",
        "    lines = f.readlines()\n",
        "```\n",
        "\n",
        "Let me know if you want to see how to loop through lines efficiently too!"
      ],
      "metadata": {
        "id": "8hvI86tKvOQx"
      }
    },
    {
      "cell_type": "markdown",
      "source": [
        "#21.What is the logging module in Python used for?\n",
        "The `logging` module in Python is used for **tracking events** that happen while your program runs. It's a powerful tool for **debugging**, **monitoring**, and **recording application behavior** — way more flexible and professional than just using `print()`.\n",
        "\n",
        "---\n",
        "\n",
        "### 🔹 **Main Uses of the `logging` Module**\n",
        "\n",
        "1.  **Debugging**: Trace code execution and catch issues.\n",
        "2. **Error Reporting**: Record exceptions or failures.\n",
        "3. **Monitoring**: Log important events in production (e.g. user actions, transactions).\n",
        "4.  **Audit Trails**: Keep track of program activities for review.\n",
        "\n",
        "---\n",
        "\n",
        "###  **Example Usage:**\n",
        "```python\n",
        "import logging\n",
        "\n",
        "logging.basicConfig(level=logging.INFO)\n",
        "\n",
        "logging.debug(\"This is a debug message\")\n",
        "logging.info(\"Program started successfully\")\n",
        "logging.warning(\"This is a warning\")\n",
        "logging.error(\"Something went wrong\")\n",
        "logging.critical(\"Critical issue!\")\n",
        "```\n",
        "\n",
        "---\n",
        "\n",
        "###  **Why Not Just Use `print()`?**\n",
        "| `print()`                   | `logging`                         |\n",
        "|----------------------------|-----------------------------------|\n",
        "| Only prints to console     | Can write to files, emails, etc.  |\n",
        "| No severity levels         | Has built-in levels (INFO, ERROR) |\n",
        "| Manual formatting          | Built-in formatting options       |\n",
        "| Not configurable           | Fully configurable (handlers, formatters) |\n",
        "\n",
        "---\n",
        "\n",
        "###  **Log Levels (from least to most severe):**\n",
        "- `DEBUG`\n",
        "- `INFO`\n",
        "- `WARNING`\n",
        "- `ERROR`\n",
        "- `CRITICAL`\n",
        "\n",
        "---\n",
        "\n",
        "###  You Can Log To:\n",
        "- Console\n",
        "- Files\n",
        "- Remote servers\n",
        "- Email\n",
        "- Custom log handlers\n",
        "\n",
        "---\n",
        "\n",
        "Let me know if you'd like help setting up a logging configuration that writes logs to a file or rotates them automatically!"
      ],
      "metadata": {
        "id": "n4EAkzlnvche"
      }
    },
    {
      "cell_type": "markdown",
      "source": [
        "#22.What is the os module in Python used for in file handling?\n",
        "The `os` module in Python is super useful for **interacting with the operating system**, especially when it comes to **file and directory handling**.\n",
        "\n",
        "---\n",
        "\n",
        "### **Main Uses of `os` in File Handling**\n",
        "\n",
        "The `os` module helps you perform actions like:\n",
        "\n",
        "| Task                              | `os` Function                          |\n",
        "|-----------------------------------|----------------------------------------|\n",
        "| Check if a file exists            | `os.path.exists(\"file.txt\")`           |\n",
        "| Get current working directory     | `os.getcwd()`                          |\n",
        "| Change current directory          | `os.chdir(\"new_folder\")`               |\n",
        "| Create a new directory            | `os.mkdir(\"new_folder\")`               |\n",
        "| List contents of a directory      | `os.listdir(\"folder\")`                 |\n",
        "| Remove a file                     | `os.remove(\"file.txt\")`                |\n",
        "| Remove a directory                | `os.rmdir(\"empty_folder\")`             |\n",
        "| Rename or move a file             | `os.rename(\"old.txt\", \"new.txt\")`      |\n",
        "| Join paths safely                 | `os.path.join(\"folder\", \"file.txt\")`   |\n",
        "| Split path or get file extension | `os.path.splitext(\"file.txt\")`         |\n",
        "\n",
        "---\n",
        "\n",
        "###  Example:\n",
        "\n",
        "```python\n",
        "import os\n",
        "\n",
        "# Create a new directory\n",
        "if not os.path.exists(\"data\"):\n",
        "    os.mkdir(\"data\")\n",
        "\n",
        "# Rename a file\n",
        "os.rename(\"old_file.txt\", \"new_file.txt\")\n",
        "\n",
        "# Delete a file\n",
        "os.remove(\"unneeded.txt\")\n",
        "```\n",
        "\n",
        "---\n",
        "\n",
        "###  Why it's Useful:\n",
        "- Makes your scripts **portable** across operating systems.\n",
        "- Lets you automate file-related tasks.\n",
        "- Helps manage directories and paths safely.\n",
        "\n",
        "---\n",
        "\n",
        "Let me know if you want to explore how to use `os.walk()` to scan folders recursively — that one’s especially handy!"
      ],
      "metadata": {
        "id": "aztK8nh_wIL7"
      }
    },
    {
      "cell_type": "markdown",
      "source": [
        "#23. What are the challenges associated with memory management in Python?\n",
        "Great question — Python does a lot of memory management *for* you, but it’s not perfect. There are still a few **challenges** that developers need to be aware of, especially in larger or long-running applications.\n",
        "\n",
        "---\n",
        "\n",
        "###  **Challenges with Memory Management in Python**\n",
        "\n",
        "#### 1. **Circular References**\n",
        "- Python uses **reference counting**, but it can’t detect when two or more objects reference each other in a loop.\n",
        "- The garbage collector can detect these, but it's not always immediate or perfect.\n",
        "\n",
        "```python\n",
        "class Node:\n",
        "    def __init__(self):\n",
        "        self.ref = self\n",
        "\n",
        "n = Node()  # Circular reference: n -> ref -> n\n",
        "```\n",
        "\n",
        "---\n",
        "\n",
        "#### 2. **Memory Leaks**\n",
        "- Even though Python has garbage collection, **memory leaks** can still happen.\n",
        "- Common causes:\n",
        "  - Circular references in objects with `__del__` methods\n",
        "  - Forgotten large objects held in global or persistent scopes\n",
        "  - Using caching/data storage poorly\n",
        "\n",
        "---\n",
        "\n",
        "#### 3. **High Memory Usage**\n",
        "- Python objects have **overhead** due to being high-level (e.g., every int, list, or dict is an object).\n",
        "- Lists and dictionaries in particular can use more memory than you might expect.\n",
        "- Not ideal for memory-critical environments without optimization.\n",
        "\n",
        "---\n",
        "\n",
        "#### 4. **Fragmentation**\n",
        "- Over time, Python’s memory allocator (`pymalloc`) can lead to **heap fragmentation**, where memory is allocated inefficiently, even if there’s space.\n",
        "\n",
        "---\n",
        "\n",
        "#### 5. **Manual GC Tuning**\n",
        "- Sometimes you need to manually manage the **garbage collector** (`gc` module) to deal with performance or memory pressure.\n",
        "- This adds complexity and requires understanding GC behavior.\n",
        "\n",
        "---\n",
        "\n",
        "### Tools to Help:\n",
        "- `gc` module → Inspect and manage garbage collection\n",
        "- `sys.getsizeof()` → Check how much memory an object uses\n",
        "- `tracemalloc` → Trace memory allocations\n",
        "- `memory_profiler` / `objgraph` → External tools for in-depth analysis\n",
        "\n",
        "---\n",
        "\n",
        "Let me know if you want an example of a memory leak or how to detect and fix one!"
      ],
      "metadata": {
        "id": "sKMgKvOdwUjT"
      }
    },
    {
      "cell_type": "markdown",
      "source": [
        "#24.How do you raise an exception manually in Python?\n",
        "You can **raise an exception manually** in Python using the `raise` keyword. This is useful when you want to signal that something went wrong, even if Python itself doesn’t throw an error at that point.\n",
        "\n",
        "---\n",
        "\n",
        "###  **Basic Syntax:**\n",
        "```python\n",
        "raise ExceptionType(\"Optional error message\")\n",
        "```\n",
        "\n",
        "---\n",
        "\n",
        "###  Example 1: Raise a built-in exception\n",
        "```python\n",
        "age = -5\n",
        "\n",
        "if age < 0:\n",
        "    raise ValueError(\"Age cannot be negative\")\n",
        "```\n",
        "\n",
        "**Output:**\n",
        "```\n",
        "ValueError: Age cannot be negative\n",
        "```\n",
        "\n",
        "---\n",
        "\n",
        "### 🔸 Example 2: Raise a custom exception\n",
        "```python\n",
        "class CustomError(Exception):\n",
        "    pass\n",
        "\n",
        "raise CustomError(\"Something custom went wrong\")\n",
        "```\n",
        "\n",
        "---\n",
        "\n",
        "### 🔹 You can also raise exceptions without a message:\n",
        "```python\n",
        "raise RuntimeError\n",
        "```\n",
        "\n",
        "But it's more helpful to include a message so you know what went wrong.\n",
        "\n",
        "---\n",
        "\n",
        "###  When to raise exceptions:\n",
        "- Invalid input\n",
        "- Unexpected state\n",
        "- Preventing invalid operations\n",
        "- Enforcing rules in your program\n",
        "\n",
        "---\n",
        "\n",
        "Let me know if you want to practice creating your own custom exceptions!"
      ],
      "metadata": {
        "id": "wKJtFEEYwhR-"
      }
    },
    {
      "cell_type": "markdown",
      "source": [
        "#25.F Why is it important to use multithreading in certain applications?\n",
        "Great question — and one that comes up a lot when designing high-performance or responsive programs.\n",
        "\n",
        "---\n",
        "\n",
        "###  **Why is multithreading important in certain applications?**\n",
        "\n",
        "Multithreading allows a program to **run multiple tasks concurrently**, within the same process. This is especially useful when your application has tasks that can run **in parallel without blocking each other**.\n",
        "\n",
        "---\n",
        "\n",
        "###  **Key Benefits of Multithreading:**\n",
        "\n",
        "#### 1. **Improved Responsiveness**\n",
        "- In GUI applications (like games or desktop apps), multithreading keeps the UI responsive while background tasks (e.g. loading data) run.\n",
        "\n",
        "#### 2. **Better Use of I/O Time**\n",
        "- For **I/O-bound tasks** (e.g. reading files, making network requests), threads can do useful work **while waiting** for I/O operations to complete.\n",
        "\n",
        "#### 3. **Concurrency Without Spawning Processes**\n",
        "- Threads share the **same memory space**, which makes sharing data between them easier and faster than between separate processes.\n",
        "\n",
        "#### 4. **Efficient Background Processing**\n",
        "- Useful for background tasks like logging, listening for network activity, or handling user input.\n",
        "\n",
        "---\n",
        "\n",
        "###  Example Use Cases:\n",
        "- Web servers handling multiple client requests\n",
        "- Chat or messaging apps\n",
        "- Downloading files in the background\n",
        "- Real-time monitoring systems\n",
        "- Asynchronous API calls\n",
        "\n",
        "---\n",
        "\n",
        "### Note on the GIL (Global Interpreter Lock):\n",
        "- In CPython (the standard Python interpreter), only one thread runs Python bytecode at a time due to the GIL.\n",
        "- This means **multithreading is not ideal for CPU-bound tasks** in Python — in those cases, use **`multiprocessing`** instead.\n",
        "\n",
        "---\n",
        "\n",
        "###  Summary:\n",
        "Use **multithreading** when your tasks are:\n",
        "- **I/O-bound**\n",
        "- Require fast response time\n",
        "- Need to run simultaneously without heavy CPU computation\n",
        "\n",
        "---\n",
        "\n",
        "Want to see a code example comparing multithreading vs multiprocessing in action?"
      ],
      "metadata": {
        "id": "cegBHG2Twv-2"
      }
    },
    {
      "cell_type": "code",
      "source": [
        "#Practical Questions"
      ],
      "metadata": {
        "id": "pjdpmFjTw8FQ"
      },
      "execution_count": null,
      "outputs": []
    },
    {
      "cell_type": "code",
      "source": [
        "#1.How can you open a file for writing in Python and write a string to it?\n",
        "def write_string_to_file(filename, text):\n",
        "    \"\"\"Opens a file for writing and writes a string to it.\n",
        "\n",
        "    Args:\n",
        "        filename: The name of the file to write to.\n",
        "        text: The string to write to the file.\n",
        "    \"\"\"\n",
        "    try:\n",
        "        with open(filename, 'w') as file:\n",
        "            file.write(text)\n",
        "    except Exception as e:\n",
        "        print(f\"An error occurred: {e}\")\n",
        "\n",
        "# Example usage:\n",
        "write_string_to_file(\"my_file.txt\", \"This is the content of the file.\")\n"
      ],
      "metadata": {
        "id": "hRMOYH5Qw8sI"
      },
      "execution_count": 4,
      "outputs": []
    },
    {
      "cell_type": "code",
      "source": [
        "#2.Write a Python program to read the contents of a file and print each line\n",
        "def print_file_content(filename):\n",
        "    \"\"\"Reads and prints the content of a file line by line.\n",
        "\n",
        "    Args:\n",
        "        filename: The name of the file to read.\n",
        "    \"\"\"\n",
        "    try:\n",
        "        with open(filename, 'r') as file:\n",
        "            for line in file:\n",
        "                print(line, end='')  # Print each line without extra newline\n",
        "    except FileNotFoundError:\n",
        "        print(f\"Error: File '{filename}' not found.\")\n",
        "    except Exception as e:\n",
        "        print(f\"An error occurred: {e}\")\n",
        "\n",
        "# Example usage (replace 'your_file.txt' with the actual filename)\n",
        "print_file_content('your_file.txt')"
      ],
      "metadata": {
        "colab": {
          "base_uri": "https://localhost:8080/"
        },
        "id": "WQ7Lbf5Bxrc1",
        "outputId": "8dc4e2da-bce0-47d1-941a-05cd7d6f3593"
      },
      "execution_count": 1,
      "outputs": [
        {
          "output_type": "stream",
          "name": "stdout",
          "text": [
            "Error: File 'your_file.txt' not found.\n"
          ]
        }
      ]
    },
    {
      "cell_type": "code",
      "source": [
        "#3.How would you handle a case where the file doesn't exist while trying to open it for reading\n",
        "# prompt: How would you handle a case where the file doesn't exist while trying to open it for reading\u001f\n",
        "\n",
        "def print_file_content(filename):\n",
        "    \"\"\"Reads and prints the content of a file line by line.\n",
        "\n",
        "    Args:\n",
        "        filename: The name of the file to read.\n",
        "    \"\"\"\n",
        "    try:\n",
        "        with open(filename, 'r') as file:\n",
        "            for line in file:\n",
        "                print(line, end='')  # Print each line without extra newline\n",
        "    except FileNotFoundError:\n",
        "        print(f\"Error: File '{filename}' not found.\")\n",
        "    except Exception as e:\n",
        "        print(f\"An error occurred: {e}\")"
      ],
      "metadata": {
        "id": "iTjiCsPayA54"
      },
      "execution_count": 5,
      "outputs": []
    },
    {
      "cell_type": "code",
      "source": [
        "#4.Write a Python script that reads from one file and writes its content to another file\n",
        "# prompt: Write a Python script that reads from one file and writes its content to another file\n",
        "\n",
        "def copy_file_content(source_file, destination_file):\n",
        "    \"\"\"Reads content from a source file and writes it to a destination file.\n",
        "\n",
        "    Args:\n",
        "        source_file: Path to the source file.\n",
        "        destination_file: Path to the destination file.\n",
        "    \"\"\"\n",
        "    try:\n",
        "        with open(source_file, 'r') as infile, open(destination_file, 'w') as outfile:\n",
        "            for line in infile:\n",
        "                outfile.write(line)\n",
        "    except FileNotFoundError:\n",
        "        print(f\"Error: Source file '{source_file}' not found.\")\n",
        "    except Exception as e:\n",
        "        print(f\"An error occurred: {e}\")\n",
        "\n",
        "# Example usage:\n",
        "copy_file_content(\"source.txt\", \"destination.txt\")"
      ],
      "metadata": {
        "id": "7zxTW09nyI2c"
      },
      "execution_count": null,
      "outputs": []
    },
    {
      "cell_type": "code",
      "source": [
        "#5. How would you catch and handle division by zero error in Python\n",
        "# prompt:  How would you catch and handle division by zero error in Python\n",
        "\n",
        "def divide_safely(numerator, denominator):\n",
        "    try:\n",
        "        result = numerator / denominator\n",
        "        return result\n",
        "    except ZeroDivisionError:\n",
        "        print(\"Error: Division by zero\")\n",
        "        return None  # Or raise a custom exception\n",
        "\n",
        "# Example usage\n",
        "result1 = divide_safely(10, 2)\n",
        "print(result1)  # Output: 5.0\n",
        "\n",
        "result2 = divide_safely(10, 0)\n",
        "print(result2)  # Output: Error: Division by zero\\nNone"
      ],
      "metadata": {
        "colab": {
          "base_uri": "https://localhost:8080/"
        },
        "id": "7CW8_Cn6yUDp",
        "outputId": "add1719a-f279-41d6-dd9e-dad609f2cd12"
      },
      "execution_count": 6,
      "outputs": [
        {
          "output_type": "stream",
          "name": "stdout",
          "text": [
            "5.0\n",
            "Error: Division by zero\n",
            "None\n"
          ]
        }
      ]
    },
    {
      "cell_type": "code",
      "source": [
        "#6. Write a Python program that logs an error message to a log file when a division by zero exception occurs?\n",
        "# prompt:  Write a Python program that logs an error message to a log file when a division by zero exception occurs\n",
        "\n",
        "import logging\n",
        "\n",
        "def divide_numbers(x, y):\n",
        "    try:\n",
        "        result = x / y\n",
        "        return result\n",
        "    except ZeroDivisionError:\n",
        "        logging.error(\"Division by zero occurred!\")\n",
        "        return None\n",
        "\n",
        "# Configure the logging system\n",
        "logging.basicConfig(filename='error_log.txt', level=logging.ERROR,\n",
        "                    format='%(asctime)s - %(levelname)s - %(message)s')\n",
        "\n",
        "\n",
        "# Example usage\n",
        "result1 = divide_numbers(10, 2)\n",
        "print(f\"Result 1: {result1}\")\n",
        "\n",
        "result2 = divide_numbers(10, 0)\n",
        "print(f\"Result 2: {result2}\")\n"
      ],
      "metadata": {
        "colab": {
          "base_uri": "https://localhost:8080/"
        },
        "id": "tLIxnrWWydOJ",
        "outputId": "5cbffa7d-bf5c-4a69-a764-86b673c4c32b"
      },
      "execution_count": 7,
      "outputs": [
        {
          "output_type": "stream",
          "name": "stderr",
          "text": [
            "ERROR:root:Division by zero occurred!\n"
          ]
        },
        {
          "output_type": "stream",
          "name": "stdout",
          "text": [
            "Result 1: 5.0\n",
            "Result 2: None\n"
          ]
        }
      ]
    },
    {
      "cell_type": "code",
      "source": [
        "#7.How do you log information at different levels (INFO, ERROR, WARNING) in Python using the logging module\n",
        "# prompt: How do you log information at different levels (INFO, ERROR, WARNING) in Python using the logging module\u001f\n",
        "\n",
        "import logging\n",
        "\n",
        "# Configure the logging system\n",
        "logging.basicConfig(level=logging.INFO,  # Set the root logger level\n",
        "                    format='%(asctime)s - %(levelname)s - %(message)s')\n",
        "\n",
        "# Example usage\n",
        "logging.debug(\"This is a debug message.\")  # Will not be logged (level=INFO)\n",
        "logging.info(\"This is an informational message.\")\n",
        "logging.warning(\"This is a warning message.\")\n",
        "logging.error(\"This is an error message.\")\n",
        "logging.critical(\"This is a critical message.\")"
      ],
      "metadata": {
        "colab": {
          "base_uri": "https://localhost:8080/"
        },
        "id": "G4pmdX5Uyo0a",
        "outputId": "70b8f399-e79e-4ee0-c44a-d04a5bf04a68"
      },
      "execution_count": 8,
      "outputs": [
        {
          "output_type": "stream",
          "name": "stderr",
          "text": [
            "WARNING:root:This is a warning message.\n",
            "ERROR:root:This is an error message.\n",
            "CRITICAL:root:This is a critical message.\n"
          ]
        }
      ]
    },
    {
      "cell_type": "code",
      "source": [
        "#8.Write a program to handle a file opening error using exception handling\n",
        "# prompt: Write a program to handle a file opening error using exception handling\n",
        "\n",
        "import logging\n",
        "\n",
        "def process_file(filename):\n",
        "    \"\"\"\n",
        "    Reads and processes a file. Handles potential FileNotFoundError.\n",
        "    \"\"\"\n",
        "    try:\n",
        "        with open(filename, 'r') as file:\n",
        "            # Process the file content here\n",
        "            for line in file:\n",
        "                print(line.strip())  # Example processing: print each line\n",
        "\n",
        "    except FileNotFoundError:\n",
        "        logging.error(f\"Error: File '{filename}' not found.\")\n",
        "        # Handle the error appropriately (e.g., create an empty file, use default data)\n",
        "    except Exception as e:\n",
        "        logging.exception(f\"An unexpected error occurred: {e}\")\n",
        "\n",
        "\n",
        "# Configure the logging system (optional, but good practice)\n",
        "logging.basicConfig(filename='file_processing.log', level=logging.ERROR,\n",
        "                    format='%(asctime)s - %(levelname)s - %(message)s')\n",
        "\n",
        "\n",
        "# Example Usage\n",
        "process_file(\"my_file.txt\")  # Replace with the actual filename\n",
        "process_file(\"nonexistent_file.txt\") #test the exception handling\n"
      ],
      "metadata": {
        "colab": {
          "base_uri": "https://localhost:8080/"
        },
        "id": "l4itSP8lyx5n",
        "outputId": "375b4f00-a21a-46c0-c6ad-0d6b9a1456e6"
      },
      "execution_count": 9,
      "outputs": [
        {
          "output_type": "stream",
          "name": "stderr",
          "text": [
            "ERROR:root:Error: File 'nonexistent_file.txt' not found.\n"
          ]
        },
        {
          "output_type": "stream",
          "name": "stdout",
          "text": [
            "This is the content of the file.\n"
          ]
        }
      ]
    },
    {
      "cell_type": "code",
      "source": [
        "#9.How can you read a file line by line and store its content in a list in Python\n",
        "# prompt: How can you read a file line by line and store its content in a list in Python\n",
        "\n",
        "def read_file_into_list(filename):\n",
        "    \"\"\"Reads a file line by line and stores its content in a list.\n",
        "\n",
        "    Args:\n",
        "        filename: The path to the file.\n",
        "\n",
        "    Returns:\n",
        "        A list of strings, where each string is a line from the file.\n",
        "        Returns an empty list if the file does not exist or an error occurs.\n",
        "    \"\"\"\n",
        "    lines = []\n",
        "    try:\n",
        "        with open(filename, 'r') as file:\n",
        "            for line in file:\n",
        "                lines.append(line.strip())  # Remove leading/trailing whitespace\n",
        "    except FileNotFoundError:\n",
        "        print(f\"Error: File '{filename}' not found.\")\n",
        "    except Exception as e:\n",
        "        print(f\"An error occurred: {e}\")\n",
        "    return lines\n",
        "\n",
        "# Example usage:\n",
        "file_content = read_file_into_list(\"your_file.txt\")  # Replace with the actual filename\n",
        "file_content\n"
      ],
      "metadata": {
        "colab": {
          "base_uri": "https://localhost:8080/"
        },
        "id": "R0GwetvdzEYg",
        "outputId": "f716560c-97ef-4486-ec09-4c9b22eede51"
      },
      "execution_count": 10,
      "outputs": [
        {
          "output_type": "stream",
          "name": "stdout",
          "text": [
            "Error: File 'your_file.txt' not found.\n"
          ]
        },
        {
          "output_type": "execute_result",
          "data": {
            "text/plain": [
              "[]"
            ]
          },
          "metadata": {},
          "execution_count": 10
        }
      ]
    },
    {
      "cell_type": "code",
      "source": [
        "#10.How can you append data to an existing file in Python?\n",
        "def append_to_file(filename, data):\n",
        "    \"\"\"Appends data to an existing file.\n",
        "\n",
        "    Args:\n",
        "        filename: The name of the file.\n",
        "        data: The data to append (string).\n",
        "    \"\"\"\n",
        "    try:\n",
        "        with open(filename, 'a') as file:\n",
        "            file.write(data)\n",
        "    except FileNotFoundError:\n",
        "        print(f\"Error: File '{filename}' not found.\")\n",
        "    except Exception as e:\n",
        "        print(f\"An error occurred: {e}\")\n"
      ],
      "metadata": {
        "id": "FGiuOMY01WP4"
      },
      "execution_count": 11,
      "outputs": []
    },
    {
      "cell_type": "code",
      "source": [
        "#11.Write a Python program that uses a try-except block to handle an error when attempting to access a dictionary key that doesn't exist?\n",
        "def access_dictionary(my_dict, key):\n",
        "    try:\n",
        "        value = my_dict[key]\n",
        "        print(f\"The value for key '{key}' is: {value}\")\n",
        "    except KeyError:\n",
        "        print(f\"Error: Key '{key}' not found in the dictionary.\")\n",
        "\n",
        "\n",
        "# Example usage\n",
        "my_dictionary = {\"a\": 1, \"b\": 2, \"c\": 3}\n",
        "\n",
        "access_dictionary(my_dictionary, \"b\")  # Output: The value for key 'b' is: 2\n",
        "access_dictionary(my_dictionary, \"d\")  # Output: Error: Key 'd' not found in the dictionary.\n"
      ],
      "metadata": {
        "colab": {
          "base_uri": "https://localhost:8080/"
        },
        "id": "IaL2u0Ya2c01",
        "outputId": "3b93f122-1472-4ede-9fb3-8dcc2d304582"
      },
      "execution_count": 12,
      "outputs": [
        {
          "output_type": "stream",
          "name": "stdout",
          "text": [
            "The value for key 'b' is: 2\n",
            "Error: Key 'd' not found in the dictionary.\n"
          ]
        }
      ]
    },
    {
      "cell_type": "code",
      "source": [
        "#12.Write a program that demonstrates using multiple except blocks to handle different types of exceptions?\n",
        "import logging\n",
        "\n",
        "def process_data(data):\n",
        "    try:\n",
        "        result = 10 / data\n",
        "        print(f\"Result of division: {result}\")\n",
        "    except ZeroDivisionError:\n",
        "        logging.error(\"Cannot divide by zero!\")\n",
        "    except TypeError:\n",
        "        logging.error(\"Input must be a number\")\n",
        "    except Exception as e: # Catches any other exception\n",
        "        logging.exception(f\"An unexpected error occurred: {e}\")\n",
        "\n",
        "# Configure logging\n",
        "logging.basicConfig(filename='app.log', level=logging.ERROR,\n",
        "                    format='%(asctime)s - %(levelname)s - %(message)s')\n",
        "\n",
        "process_data(2)  # Valid input\n",
        "process_data(0)  # ZeroDivisionError\n",
        "process_data(\"abc\") # TypeError\n",
        "process_data([1, 2]) # Other Exception\n",
        "\n"
      ],
      "metadata": {
        "colab": {
          "base_uri": "https://localhost:8080/"
        },
        "id": "XU31VL9V2nRP",
        "outputId": "8c0c0835-1e4e-4357-cee6-a9b2c977fc6d"
      },
      "execution_count": 13,
      "outputs": [
        {
          "output_type": "stream",
          "name": "stderr",
          "text": [
            "ERROR:root:Cannot divide by zero!\n",
            "ERROR:root:Input must be a number\n",
            "ERROR:root:Input must be a number\n"
          ]
        },
        {
          "output_type": "stream",
          "name": "stdout",
          "text": [
            "Result of division: 5.0\n"
          ]
        }
      ]
    },
    {
      "cell_type": "code",
      "source": [
        "#13.F How would you check if a file exists before attempting to read it in Python?\n",
        "import os\n",
        "\n",
        "def read_file_if_exists(filename):\n",
        "    \"\"\"Reads a file if it exists, otherwise prints an error message.\n",
        "    Args:\n",
        "        filename: The name of the file to read.\n",
        "    Returns:\n",
        "        The content of the file as a string if it exists, otherwise None.\n",
        "    \"\"\"\n",
        "    if os.path.exists(filename):\n",
        "        try:\n",
        "            with open(filename, 'r') as file:\n",
        "                content = file.read()\n",
        "            return content\n",
        "        except Exception as e:\n",
        "            print(f\"An error occurred while reading the file: {e}\")\n",
        "            return None\n",
        "    else:\n",
        "        print(f\"Error: File '{filename}' not found.\")\n",
        "        return None\n",
        "\n",
        "# Example usage:\n",
        "file_content = read_file_if_exists(\"my_file.txt\")  # Replace with the actual filename\n",
        "if file_content:\n",
        "  file_content\n"
      ],
      "metadata": {
        "id": "nzoZbkqw2zoM"
      },
      "execution_count": 17,
      "outputs": []
    },
    {
      "cell_type": "code",
      "source": [
        "#14.Write a program that uses the logging module to log both informational and error messages?\n",
        "import logging\n",
        "\n",
        "# Configure the logging system\n",
        "logging.basicConfig(filename='my_log.txt', level=logging.INFO,\n",
        "                    format='%(asctime)s - %(levelname)s - %(message)s')\n",
        "\n",
        "def my_function():\n",
        "    try:\n",
        "        # Some code that might raise an error\n",
        "        result = 10 / 0\n",
        "    except ZeroDivisionError:\n",
        "        logging.error(\"Division by zero error occurred!\")\n",
        "    else:\n",
        "        logging.info(f\"The result of the calculation is {result}\")\n",
        "\n",
        "# Call the function\n",
        "my_function()"
      ],
      "metadata": {
        "colab": {
          "base_uri": "https://localhost:8080/"
        },
        "id": "iL0WXkeL3FKe",
        "outputId": "50b56ea3-380b-4b3f-a82d-a062507832ab"
      },
      "execution_count": 18,
      "outputs": [
        {
          "output_type": "stream",
          "name": "stderr",
          "text": [
            "ERROR:root:Division by zero error occurred!\n"
          ]
        }
      ]
    },
    {
      "cell_type": "code",
      "source": [
        "#15.Write a Python program that prints the content of a file and handles the case when the file is empty.\n",
        "def print_file_content(filename):\n",
        "    \"\"\"Prints the content of a file, handling empty files.\"\"\"\n",
        "    try:\n",
        "        with open(filename, 'r') as file:\n",
        "            content = file.read()\n",
        "            if not content:\n",
        "                print(f\"The file '{filename}' is empty.\")\n",
        "            else:\n",
        "                print(content)\n",
        "    except FileNotFoundError:\n",
        "        print(f\"Error: File '{filename}' not found.\")\n",
        "    except Exception as e:\n",
        "        print(f\"An error occurred: {e}\")\n"
      ],
      "metadata": {
        "id": "IpU6LchN3PuU"
      },
      "execution_count": 19,
      "outputs": []
    },
    {
      "cell_type": "code",
      "source": [
        "#16.Demonstrate how to use memory profiling to check the memory usage of a small program.\n",
        "\n",
        "!pip install memory_profiler\n",
        "\n",
        "import memory_profiler\n",
        "import random\n",
        "def memory_intensive_function():\n",
        "    # Simulate a memory-intensive operation\n",
        "    large_list = [random.randint(0, 1000) for _ in range(1000000)]  # Create a large list\n",
        "    sum_of_elements = sum(large_list)\n",
        "    #del large_list  # Delete the list to free up memory\n",
        "\n",
        "memory_intensive_function()"
      ],
      "metadata": {
        "colab": {
          "base_uri": "https://localhost:8080/"
        },
        "id": "NcuA0N2w3YfQ",
        "outputId": "7b9b807f-a6db-4034-a71f-3b41f47b36ad"
      },
      "execution_count": 24,
      "outputs": [
        {
          "output_type": "stream",
          "name": "stdout",
          "text": [
            "Requirement already satisfied: memory_profiler in /usr/local/lib/python3.11/dist-packages (0.61.0)\n",
            "Requirement already satisfied: psutil in /usr/local/lib/python3.11/dist-packages (from memory_profiler) (5.9.5)\n"
          ]
        }
      ]
    },
    {
      "cell_type": "code",
      "source": [
        "#17.Write a Python program to create and write a list of numbers to a file, one number per line.\n",
        "def write_numbers_to_file(filename, numbers):\n",
        "    \"\"\"Writes a list of numbers to a file, one number per line.\n",
        "\n",
        "    Args:\n",
        "        filename: The name of the file to write to.\n",
        "        numbers: A list of numbers.\n",
        "    \"\"\"\n",
        "    try:\n",
        "        with open(filename, 'w') as file:\n",
        "            for number in numbers:\n",
        "                file.write(str(number) + '\\n')\n",
        "    except Exception as e:\n",
        "        print(f\"An error occurred: {e}\")\n",
        "\n",
        "\n",
        "# Example usage:\n",
        "my_numbers = [1, 2, 3, 4, 5]\n",
        "write_numbers_to_file(\"numbers.txt\", my_numbers)"
      ],
      "metadata": {
        "id": "o7piFWcv5Wmu"
      },
      "execution_count": 25,
      "outputs": []
    },
    {
      "cell_type": "code",
      "source": [
        "#18. How would you implement a basic logging setup that logs to a file with rotation after 1MB.\n",
        "import logging\n",
        "from logging.handlers import RotatingFileHandler\n",
        "\n",
        "def setup_logger(log_file):\n",
        "    \"\"\"Sets up a logger with rotating file handler.\"\"\"\n",
        "\n",
        "    logger = logging.getLogger(__name__)\n",
        "    logger.setLevel(logging.INFO)  # Set the overall logging level\n",
        "\n",
        "    # Create a rotating file handler with a 1MB limit and 5 backups\n",
        "    handler = RotatingFileHandler(log_file, maxBytes=1024 * 1024, backupCount=5)\n",
        "    formatter = logging.Formatter('%(asctime)s - %(levelname)s - %(message)s')\n",
        "    handler.setFormatter(formatter)\n",
        "\n",
        "    logger.addHandler(handler)\n",
        "    return logger\n",
        "\n",
        "# Example usage:\n",
        "logger = setup_logger('my_app.log')\n",
        "\n",
        "logger.info(\"Application started.\")\n",
        "\n",
        "try:\n",
        "    result = 10 / 0\n",
        "except ZeroDivisionError:\n",
        "    logger.error(\"Division by zero error!\", exc_info=True)  # Log the exception details\n",
        "\n",
        "logger.info(\"Application finished.\")"
      ],
      "metadata": {
        "colab": {
          "base_uri": "https://localhost:8080/"
        },
        "id": "UlWzAcxZ5f66",
        "outputId": "af26eb59-6bf3-4c09-918d-de0205ee09b5"
      },
      "execution_count": 26,
      "outputs": [
        {
          "output_type": "stream",
          "name": "stderr",
          "text": [
            "INFO:__main__:Application started.\n",
            "ERROR:__main__:Division by zero error!\n",
            "Traceback (most recent call last):\n",
            "  File \"<ipython-input-26-1dec75fc1541>\", line 25, in <cell line: 0>\n",
            "    result = 10 / 0\n",
            "             ~~~^~~\n",
            "ZeroDivisionError: division by zero\n",
            "INFO:__main__:Application finished.\n"
          ]
        }
      ]
    },
    {
      "cell_type": "code",
      "source": [
        "#19.Write a program that handles both IndexError and KeyError using a try-except block.\n",
        "import logging\n",
        "\n",
        "def process_data(data, my_dict):\n",
        "    try:\n",
        "        # Attempt to access a list element\n",
        "        value = data[5]\n",
        "        print(\"Value from list:\", value)\n",
        "\n",
        "        # Attempt to access a dictionary key\n",
        "        dict_value = my_dict[\"key4\"]  # This key might not exist\n",
        "        print(\"Value from dictionary:\", dict_value)\n",
        "\n",
        "    except IndexError as e:\n",
        "        print(f\"IndexError occurred: {e}\")\n",
        "        logging.error(f\"IndexError: {e}\")\n",
        "\n",
        "    except KeyError as e:\n",
        "        print(f\"KeyError occurred: {e}\")\n",
        "        logging.error(f\"KeyError: {e}\")\n",
        "\n",
        "\n",
        "# Configure the logging system (optional but recommended)\n",
        "logging.basicConfig(filename='app.log', level=logging.ERROR,\n",
        "                    format='%(asctime)s - %(levelname)s - %(message)s')\n",
        "\n",
        "# Example Usage\n",
        "my_list = [1, 2, 3, 4]\n",
        "my_dict = {\"key1\": 10, \"key2\": 20, \"key3\": 30}\n",
        "\n",
        "process_data(my_list, my_dict)\n"
      ],
      "metadata": {
        "colab": {
          "base_uri": "https://localhost:8080/"
        },
        "id": "BKpomLTl5pUL",
        "outputId": "1ef8fc4a-be0d-4642-e45b-f89262a33cc1"
      },
      "execution_count": 27,
      "outputs": [
        {
          "output_type": "stream",
          "name": "stderr",
          "text": [
            "ERROR:root:IndexError: list index out of range\n"
          ]
        },
        {
          "output_type": "stream",
          "name": "stdout",
          "text": [
            "IndexError occurred: list index out of range\n"
          ]
        }
      ]
    },
    {
      "cell_type": "code",
      "source": [
        "#20.How would you open a file and read its contents using a context manager in Python\u001f\n",
        "def read_file_contents(filename):\n",
        "    \"\"\"Reads the contents of a file using a context manager.\n",
        "\n",
        "    Args:\n",
        "        filename: The path to the file.\n",
        "\n",
        "    Returns:\n",
        "        The contents of the file as a string, or None if the file\n",
        "        does not exist or an error occurs.\n",
        "    \"\"\"\n",
        "    try:\n",
        "        with open(filename, 'r') as file:\n",
        "            contents = file.read()\n",
        "        return contents\n",
        "    except FileNotFoundError:\n",
        "        print(f\"Error: File '{filename}' not found.\")\n",
        "        return None\n",
        "    except Exception as e:\n",
        "        print(f\"An error occurred while reading the file: {e}\")\n",
        "        return None"
      ],
      "metadata": {
        "id": "mm3O8Fae5y_q"
      },
      "execution_count": 28,
      "outputs": []
    },
    {
      "cell_type": "code",
      "source": [
        "#21.Write a Python program that reads a file and prints the number of occurrences of a specific word.\n",
        "def count_word_occurrences(filename, target_word):\n",
        "    \"\"\"Counts the occurrences of a specific word in a file.\n",
        "\n",
        "    Args:\n",
        "        filename: The path to the file.\n",
        "        target_word: The word to search for.\n",
        "\n",
        "    Returns:\n",
        "        The number of times the target_word appears in the file, or -1 if the file is not found.\n",
        "    \"\"\"\n",
        "    try:\n",
        "        with open(filename, 'r') as file:\n",
        "            content = file.read()\n",
        "            words = content.split()  # Split the content into words\n",
        "            count = words.count(target_word)\n",
        "            return count\n",
        "    except FileNotFoundError:\n",
        "        print(f\"Error: File '{filename}' not found.\")\n",
        "        return -1\n",
        "\n",
        "# Example usage:\n",
        "filename = \"your_file.txt\"  # Replace with your file path\n",
        "target_word = \"Python\"  # The word to search for\n",
        "occurrences = count_word_occurrences(filename, target_word)\n",
        "\n",
        "if occurrences != -1:\n",
        "    print(f\"The word '{target_word}' appears {occurrences} times in the file.\")\n",
        "\n"
      ],
      "metadata": {
        "colab": {
          "base_uri": "https://localhost:8080/"
        },
        "id": "sqqixYUZ57qk",
        "outputId": "fdcb96ef-680c-4b88-9dbb-4785ece07236"
      },
      "execution_count": 29,
      "outputs": [
        {
          "output_type": "stream",
          "name": "stdout",
          "text": [
            "Error: File 'your_file.txt' not found.\n"
          ]
        }
      ]
    },
    {
      "cell_type": "code",
      "source": [
        "#22. How can you check if a file is empty before attempting to read its contents\u001f\n",
        "import os\n",
        "\n",
        "def read_file_if_exists(filename):\n",
        "    \"\"\"Reads a file if it exists and is not empty, otherwise prints an error message.\n",
        "\n",
        "    Args:\n",
        "        filename: The name of the file to read.\n",
        "\n",
        "    Returns:\n",
        "        The content of the file as a string if it exists and is not empty, otherwise None.\n",
        "    \"\"\"\n",
        "    if os.path.exists(filename) and os.path.getsize(filename) > 0:\n",
        "        try:\n",
        "            with open(filename, 'r') as file:\n",
        "                content = file.read()\n",
        "            return content\n",
        "        except Exception as e:\n",
        "            print(f\"An error occurred while reading the file: {e}\")\n",
        "            return None\n",
        "    else:\n",
        "        print(f\"Error: File '{filename}' not found or is empty.\")\n",
        "        return None\n"
      ],
      "metadata": {
        "id": "bFL5Z2fk6F5_"
      },
      "execution_count": 30,
      "outputs": []
    },
    {
      "cell_type": "code",
      "source": [
        "#23.Write a Python program that writes to a log file when an error occurs during file handling\n",
        "import logging\n",
        "\n",
        "def process_file(filename):\n",
        "    try:\n",
        "        with open(filename, 'r') as file:\n",
        "            # Perform file operations here\n",
        "            contents = file.read()\n",
        "            # ...\n",
        "    except FileNotFoundError:\n",
        "        logging.error(f\"Error: File '{filename}' not found.\")\n",
        "    except PermissionError:\n",
        "        logging.error(f\"Error: Permission denied to access file '{filename}'.\")\n",
        "    except Exception as e:\n",
        "        logging.exception(f\"An unexpected error occurred while processing '{filename}': {e}\")\n",
        "\n",
        "# Configure the logging system\n",
        "logging.basicConfig(filename='file_handling.log', level=logging.ERROR,\n",
        "                    format='%(asctime)s - %(levelname)s - %(message)s')\n",
        "\n",
        "# Example usage\n",
        "process_file(\"my_file.txt\")\n"
      ],
      "metadata": {
        "id": "mTgFT-U46Sgr"
      },
      "execution_count": 31,
      "outputs": []
    }
  ]
}