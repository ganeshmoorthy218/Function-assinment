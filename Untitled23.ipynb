{
  "nbformat": 4,
  "nbformat_minor": 0,
  "metadata": {
    "colab": {
      "provenance": []
    },
    "kernelspec": {
      "name": "python3",
      "display_name": "Python 3"
    },
    "language_info": {
      "name": "python"
    }
  },
  "cells": [
    {
      "cell_type": "markdown",
      "source": [
        "# Q1.What is statistics, and why is it important?\n",
        "- If a teacher wants to know the average score of a class:\n",
        "\n",
        "- She collects all student scores.\n",
        "\n",
        "- Uses mean (a statistical measure) to find the average.\n",
        "\n",
        "- This helps her understand the class performance."
      ],
      "metadata": {
        "id": "AeYYIuikj53q"
      }
    },
    {
      "cell_type": "markdown",
      "source": [
        "#2.What are the two main types of statistics?\n",
        "\n",
        "### 1. **Descriptive Statistics**\n",
        "\n",
        "* **Definition:** Summarizes and describes the main features of a dataset.\n",
        "* **Examples:** Mean, median, mode, standard deviation, graphs, and charts.\n",
        "* **Purpose:** To **present** data clearly.\n",
        "\n",
        "### 2. **Inferential Statistics**\n",
        "\n",
        "* **Definition:** Makes predictions or generalizations about a population based on a sample.\n",
        "* **Examples:** Hypothesis testing, confidence intervals, regression.\n",
        "* **Purpose:** To **draw conclusions** beyond the data you have.\n",
        "\n"
      ],
      "metadata": {
        "id": "kSaD3FOfkSQj"
      }
    },
    {
      "cell_type": "markdown",
      "source": [
        "#Q3.What are descriptive statistics?\n",
        "- **Descriptive statistics** are methods used to **summarize and describe** the main features of a dataset.\n",
        "They help present data in a simple, understandable way using **numbers**, **tables**, and **graphs**, without drawing conclusions beyond the data.\n",
        "\n",
        "Examples include **mean**, **median**, **mode**, **range**, and **standard deviation**.\n"
      ],
      "metadata": {
        "id": "C2o9ugeCkh5R"
      }
    },
    {
      "cell_type": "markdown",
      "source": [
        "#Q4.What is inferential statistics?\n",
        "- **Inferential statistics** are methods used to **make predictions or draw conclusions** about a larger population based on a sample of data.\n",
        "\n",
        "It uses tools like **hypothesis testing**, **confidence intervals**, and **regression analysis** to generalize results beyond the data you collected.\n"
      ],
      "metadata": {
        "id": "-o8Dirnzl_6b"
      }
    },
    {
      "cell_type": "markdown",
      "source": [
        "#Q5.What is sampling in statistics?\n",
        "- **Sampling** in statistics is the process of **selecting a small group (sample)** from a larger group (population) to **analyze and draw conclusions** about the whole population.\n",
        "\n",
        "- It saves time, cost, and effort while still providing useful insights if done correctly.\n"
      ],
      "metadata": {
        "id": "MCbPoiN9mMFL"
      }
    },
    {
      "cell_type": "markdown",
      "source": [
        "#Q6.What are the different types of sampling methods?\n",
        "1. **Simple Random Sampling**\n",
        "\n",
        "   * Every member has an equal chance of being selected.\n",
        "   * Example: Picking names from a hat.\n",
        "\n",
        "2. **Systematic Sampling**\n",
        "\n",
        "   * Select every *k-th* item from a list.\n",
        "   * Example: Every 10th person on a list.\n",
        "\n",
        "3. **Stratified Sampling**\n",
        "\n",
        "   * Population divided into groups (strata), and samples taken from each group.\n",
        "   * Example: Sampling students from each grade level.\n",
        "\n",
        "4. **Cluster Sampling**\n",
        "\n",
        "   * Population divided into clusters; some clusters are fully sampled.\n",
        "   * Example: Choosing random schools and surveying all students in them.\n",
        "\n",
        "5. **Convenience Sampling**\n",
        "\n",
        "   * Selecting samples that are easiest to reach.\n",
        "   * Example: Asking people nearby.\n",
        "\n"
      ],
      "metadata": {
        "id": "r6_nd8f0mhZE"
      }
    },
    {
      "cell_type": "markdown",
      "source": [
        "#Q7. What is the difference between random and non-random sampling?\n",
        "* **Random Sampling:**\n",
        "  Every individual in the population has an **equal chance** of being selected.\n",
        "  → Example: Lottery draw.\n",
        "\n",
        "* **Non-Random Sampling:**\n",
        "  Selection is based on **judgment, convenience, or other non-chance methods**.\n",
        "  → Example: Surveying only nearby people.\n",
        "\n",
        "**Key Difference:** Random sampling avoids bias; non-random sampling may include bias.\n"
      ],
      "metadata": {
        "id": "U79LGyx3mvpb"
      }
    },
    {
      "cell_type": "markdown",
      "source": [
        "#Q8.Define and give examples of qualitative and quantitative data?\n",
        "### **1. Qualitative Data**\n",
        "* **Definition:** Describes qualities or categories; non-numerical.\n",
        "* **Examples:** Colors (red, blue), Gender (male, female), Opinions (good, bad).\n",
        "\n",
        "### **2. Quantitative Data**\n",
        "* **Definition:** Numerical data that can be measured or counted.\n",
        "* **Examples:** Age (25 years), Height (160 cm), Number of students (30)."
      ],
      "metadata": {
        "id": "WMx9Zguvm7kC"
      }
    },
    {
      "cell_type": "markdown",
      "source": [
        "#Q9.What are the different types of data in statistics?\n",
        "\n",
        "1. **Nominal Data**\n",
        "\n",
        "   * **Definition:** Categorical data with no specific order.\n",
        "   * **Example:** Gender (male, female), Colors (red, blue).\n",
        "\n",
        "2. **Ordinal Data**\n",
        "\n",
        "   * **Definition:** Categorical data with a meaningful order, but no consistent difference between categories.\n",
        "   * **Example:** Rankings (1st, 2nd, 3rd), Education level (high school, college).\n",
        "\n",
        "3. **Interval Data**\n",
        "\n",
        "   * **Definition:** Numeric data with equal intervals but no true zero point.\n",
        "   * **Example:** Temperature in Celsius or Fahrenheit.\n",
        "\n",
        "4. **Ratio Data**\n",
        "\n",
        "   * **Definition:** Numeric data with equal intervals and a true zero point.\n",
        "   * **Example:** Height (in cm), Weight (in kg), Age.\n"
      ],
      "metadata": {
        "id": "BTVIO2flnKBQ"
      }
    },
    {
      "cell_type": "markdown",
      "source": [
        "#Q10. Explain nominal, ordinal, interval, and ratio levels of measurement.\n",
        "1. **Nominal**\n",
        "\n",
        "   * **Definition:** Data categorized without any order or ranking.\n",
        "   * **Example:** Colors (red, blue), Gender (male, female).\n",
        "   * **Key Point:** No inherent order.\n",
        "\n",
        "2. **Ordinal**\n",
        "\n",
        "   * **Definition:** Data with a meaningful order or ranking, but the difference between ranks is not uniform.\n",
        "   * **Example:** Rankings (1st, 2nd, 3rd), Education level (high school, bachelor).\n",
        "   * **Key Point:** Order matters, but the distance between ranks is not fixed.\n",
        "\n",
        "3. **Interval**\n",
        "\n",
        "   * **Definition:** Numeric data with equal intervals between values, but no true zero point.\n",
        "   * **Example:** Temperature in Celsius or Fahrenheit.\n",
        "   * **Key Point:** Equal distances, but zero does not mean \"none.\"\n",
        "\n",
        "4. **Ratio**\n",
        "\n",
        "   * **Definition:** Numeric data with equal intervals and a true zero point.\n",
        "   * **Example:** Height, Weight, Age.\n",
        "   * **Key Point:** True zero, so you can perform all mathematical operations (e.g., multiplication, division).\n",
        "\n"
      ],
      "metadata": {
        "id": "sauHdGSVnUBi"
      }
    },
    {
      "cell_type": "markdown",
      "source": [
        "#Q11.What is the measure of central tendency?\n",
        "**Measure of central tendency** refers to statistical methods that summarize a dataset by identifying the **central point** or typical value.\n",
        "\n",
        "The three main measures are:\n",
        "\n",
        "1. **Mean:** The **average** of all values.\n",
        "\n",
        "   * Example: (Sum of all numbers) / (Total number of values).\n",
        "\n",
        "2. **Median:** The middle value when data is ordered.\n",
        "\n",
        "   * Example: In the dataset \\[1, 3, 5], the median is 3.\n",
        "\n",
        "3. **Mode:** The value that occurs **most frequently**.\n",
        "\n",
        "   * Example: In \\[1, 2, 2, 3], the mode is 2.\n",
        "\n",
        "These measures help describe the center of a dataset.\n"
      ],
      "metadata": {
        "id": "afw3roJpneE7"
      }
    },
    {
      "cell_type": "markdown",
      "source": [
        "#Q12. Define mean, median, and mode\n",
        "1. **Mean**\n",
        "\n",
        "   * **Definition:** The **average** of all data values, calculated by summing all values and dividing by the number of values.\n",
        "   * **Example:** Mean of \\[2, 4, 6] = (2 + 4 + 6) / 3 = 4.\n",
        "\n",
        "2. **Median**\n",
        "\n",
        "   * **Definition:** The **middle** value when data is ordered from least to greatest. If there’s an even number of values, it’s the average of the two middle values.\n",
        "   * **Example:** Median of \\[1, 3, 5] = 3; Median of \\[1, 3, 5, 7] = (3 + 5) / 2 = 4.\n",
        "\n",
        "3. **Mode**\n",
        "\n",
        "   * **Definition:** The value that **appears most frequently** in a dataset.\n",
        "   * **Example:** Mode of \\[1, 2, 2, 3] = 2.\n",
        "\n",
        "These measures are used to understand the \"central\" value of a dataset.\n"
      ],
      "metadata": {
        "id": "7rsP6tM4npnW"
      }
    },
    {
      "cell_type": "markdown",
      "source": [
        "#Q13.What is the significance of the measure of central tendency?\n",
        "The **measure of central tendency** helps summarize a dataset by providing a single value that represents the center or typical value of the data.\n",
        "\n",
        "* **Simplifies Data:** It condenses a large dataset into a single number, making it easier to understand.\n",
        "* **Comparison:** It allows comparison between different datasets.\n",
        "* **Helps in Analysis:** Helps identify trends, patterns, or outliers in data, guiding decision-making.\n",
        "\n",
        "For example, the **mean** can give an overall average, while the **median** is useful when data is skewed.\n"
      ],
      "metadata": {
        "id": "ECZ_tOHYny3w"
      }
    },
    {
      "cell_type": "markdown",
      "source": [
        "#Q14.What is variance, and how is it calculated?\n",
        "**Variance** is a measure of how spread out or dispersed the values in a dataset are around the mean. It quantifies the **average squared deviation** from the mean.\n",
        "1. **Find the Mean (Average)** of the dataset.\n",
        "2. **Subtract the Mean** from each data point and square the result (squared deviations).\n",
        "3. **Average** the squared deviations:\n",
        "\n",
        "   * For a **population**: Divide the sum of squared deviations by the number of data points.\n",
        "   * For a **sample**: Divide by the number of data points minus 1 (this is known as **Bessel's correction**).\n",
        "\n",
        "### **Formula:**\n",
        "\n",
        "* Population Variance (σ²):\n",
        "\n",
        "  $$\n",
        "  \\sigma^2 = \\frac{\\sum (x_i - \\mu)^2}{N}\n",
        "  $$\n",
        "* Sample Variance (s²):\n",
        "\n",
        "  $$\n",
        "  s^2 = \\frac{\\sum (x_i - \\bar{x})^2}{n - 1}\n",
        "  $$\n",
        "\n",
        "Where:\n",
        "\n",
        "* $x_i$ = each data point\n",
        "* $\\mu$ or $\\bar{x}$ = mean\n",
        "* $N$ = number of data points (population)\n",
        "* $n$ = number of data points (sample)\n"
      ],
      "metadata": {
        "id": "k_UIAzDDn82P"
      }
    },
    {
      "cell_type": "markdown",
      "source": [
        "#Q15.What is standard deviation, and why is it important?\n",
        "**Standard Deviation** is a measure of how spread out or dispersed the values in a dataset are. It is the square root of the variance and provides a more interpretable measure of dispersion in the same units as the data.\n",
        "\n",
        "### **Importance:**\n",
        "\n",
        "* **Indicates Consistency:** A low standard deviation means data points are close to the mean, indicating consistency. A high standard deviation means more variability.\n",
        "* **Comparing Datasets:** It helps compare variability between different datasets or groups.\n",
        "* **Risk Assessment:** In fields like finance, a higher standard deviation indicates greater risk or volatility.\n",
        "\n",
        "Formula:\n",
        "\n",
        "$$\n",
        "\\text{Standard Deviation} = \\sqrt{\\frac{\\sum (x_i - \\bar{x})^2}{n-1}}\n",
        "$$"
      ],
      "metadata": {
        "id": "aHfEWpLyoLrU"
      }
    },
    {
      "cell_type": "markdown",
      "source": [
        "#Q16.Define and explain the term range in statistics.\n",
        "**Range** is a measure of the **spread** or **dispersion** of a dataset. It is calculated by subtracting the **smallest value** (minimum) from the **largest value** (maximum) in the dataset.\n",
        "\n",
        "### **Formula:**\n",
        "\n",
        "$$\n",
        "\\text{Range} = \\text{Maximum Value} - \\text{Minimum Value}\n",
        "$$\n",
        "\n",
        "### **Example:**\n",
        "\n",
        "For the dataset \\[3, 5, 7, 2, 9], the range is:\n",
        "\n",
        "$$\n",
        "\\text{Range} = 9 - 2 = 7\n",
        "$$\n",
        "\n",
        "### **Importance:**\n",
        "\n",
        "* **Simplicity:** Range is easy to calculate and provides a quick sense of the dataset's spread.\n",
        "* **Limitations:** It is sensitive to **outliers** (extremely high or low values) and doesn't give a full picture of data distribution.\n",
        "\n",
        "Would you like a more detailed example or comparison with other measures of dispersion?\n"
      ],
      "metadata": {
        "id": "Oi5AF6UIoY9U"
      }
    },
    {
      "cell_type": "markdown",
      "source": [
        "#Q17.What is the difference between variance and standard deviation?\n",
        "1. **Variance**\n",
        "\n",
        "   * **Definition:** Variance measures the **average squared deviation** of each data point from the mean.\n",
        "   * **Formula:** Variance is the square of the standard deviation.\n",
        "   * **Unit:** The unit of variance is the **square** of the original data's unit (e.g., square meters, square dollars).\n",
        "\n",
        "2. **Standard Deviation**\n",
        "\n",
        "   * **Definition:** Standard deviation is the **square root** of the variance, giving a measure of spread in the same unit as the original data.\n",
        "   * **Formula:** Standard deviation = √(Variance)\n",
        "   * **Unit:** The unit is the same as the original data (e.g., meters, dollars).\n",
        "\n",
        "**Key Difference:**\n",
        "\n",
        "* Variance gives a **squared** measure of spread, while standard deviation provides a **direct** measure in the original unit, making it easier to interpret.\n"
      ],
      "metadata": {
        "id": "5PNLSik2ojcP"
      }
    },
    {
      "cell_type": "markdown",
      "source": [
        "#Q18.What is skewness in a dataset?\n",
        "**Skewness** measures the **asymmetry** or **lack of symmetry** in the distribution of data.\n",
        "\n",
        "* **Positive Skew (Right Skew):** Tail is longer on the **right**; most values are on the left.\n",
        "  → Example: Income distribution (few people earn very high).\n",
        "\n",
        "* **Negative Skew (Left Skew):** Tail is longer on the **left**; most values are on the right.\n",
        "  → Example: Age at retirement.\n",
        "\n",
        "* **Zero Skewness:** Data is **symmetrical**, like a normal distribution.\n",
        "\n",
        "### Importance:\n",
        "\n",
        "Skewness helps identify how data deviates from normal and whether mean, median, and mode are aligned or not."
      ],
      "metadata": {
        "id": "nWs8QJRwoxon"
      }
    },
    {
      "cell_type": "markdown",
      "source": [
        "#Q19.What does it mean if a dataset is positively or negatively skewed?\n",
        "1. **Positively Skewed (Right-Skewed):**\n",
        "\n",
        "   * The **tail is longer on the right** side of the distribution.\n",
        "   * Most data values are **low**, but a few **high outliers** pull the mean to the right.\n",
        "   * **Mean > Median > Mode**\n",
        "   * **Example:** Salaries (most people earn low, a few earn very high).\n",
        "\n",
        "2. **Negatively Skewed (Left-Skewed):**\n",
        "\n",
        "   * The **tail is longer on the left** side of the distribution.\n",
        "   * Most data values are **high**, but a few **low outliers** pull the mean to the left.\n",
        "   * **Mean < Median < Mode**\n",
        "   * **Example:** Age at retirement (most people retire around 60–65, a few retire much earlier).\n",
        "\n",
        "Skewness helps understand the **shape** and **balance** of data for proper analysis.\n"
      ],
      "metadata": {
        "id": "RTcJa2IAo8ed"
      }
    },
    {
      "cell_type": "markdown",
      "source": [
        "#Q20.Define and explain kurtosis.\n",
        "\n",
        "**Kurtosis** measures the **\"tailedness\"** of a data distribution — how heavily the tails differ from a normal distribution.\n",
        "### **Types of Kurtosis:**\n",
        "\n",
        "1. **Mesokurtic (Normal Kurtosis):**\n",
        "\n",
        "   * Data has a normal, bell-shaped distribution.\n",
        "   * **Kurtosis ≈ 3**\n",
        "\n",
        "2. **Leptokurtic (High Kurtosis):**\n",
        "\n",
        "   * Tails are **heavier** than normal; more extreme values (outliers).\n",
        "   * **Kurtosis > 3**\n",
        "\n",
        "3. **Platykurtic (Low Kurtosis):**\n",
        "\n",
        "   * Tails are **lighter**; fewer extreme values.\n",
        "   * **Kurtosis < 3**\n",
        "### **Importance:**\n",
        "\n",
        "Kurtosis helps assess **risk** (in finance), **outlier behavior**, and whether a dataset is more or less peaked than a normal distribution.\n",
        "\n",
        "Would you like a graph comparing these kurtosis types visually?\n"
      ],
      "metadata": {
        "id": "Cr1pbht8pGxL"
      }
    },
    {
      "cell_type": "markdown",
      "source": [
        "#Q21.What is the purpose of covariance?\n",
        "**Covariance** measures the **relationship** between two variables — specifically, how they **change together**.\n",
        "\n",
        "* If both variables **increase or decrease together**, covariance is **positive**.\n",
        "* If one increases while the other decreases, covariance is **negative**.\n",
        "* A value near **zero** indicates **no strong relationship**.\n",
        "\n",
        "### **Purpose:**\n",
        "\n",
        "* To understand whether variables move in the **same or opposite direction**.\n",
        "* Used in **finance**, **regression**, and **multivariate statistics** to study relationships between variables.\n",
        "\n",
        "Would you like a simple numerical example to see how it's calculated?\n",
        "\n"
      ],
      "metadata": {
        "id": "Z_StrDO2pY4C"
      }
    },
    {
      "cell_type": "markdown",
      "source": [
        "#Q22.What does correlation measure in statistics?\n",
        "**Correlation** measures the **strength and direction** of the **linear relationship** between two variables.\n",
        "\n",
        "* **Range:** From **-1 to +1**\n",
        "\n",
        "  * **+1:** Perfect positive correlation (both increase together)\n",
        "  * **-1:** Perfect negative correlation (one increases, the other decreases)\n",
        "  * **0:** No linear relationship\n",
        "\n",
        "### **Purpose:**\n",
        "\n",
        "To understand how closely two variables move **together**, helping in prediction and analysis.\n",
        "\n",
        "Would you like to see the difference between correlation and covariance?\n"
      ],
      "metadata": {
        "id": "QO66hEMmplWG"
      }
    },
    {
      "cell_type": "markdown",
      "source": [
        "#Q23.What is the difference between covariance and correlation?\n",
        "1. **Covariance**\n",
        "\n",
        "   * Measures how two variables **move together** (direction of relationship).\n",
        "   * Values can range from **−∞ to +∞**.\n",
        "   * **Unit-dependent** (based on the units of the variables).\n",
        "\n",
        "2. **Correlation**\n",
        "\n",
        "   * Measures the **strength and direction** of a **linear relationship** between two variables.\n",
        "   * Always ranges from **−1 to +1**.\n",
        "   * **Unit-free** (standardized form of covariance).\n",
        "\n",
        "###  Key Point:\n",
        "\n",
        "Correlation is a **scaled version of covariance**, making it easier to interpret and compare.\n"
      ],
      "metadata": {
        "id": "q4_j8UnZpzjR"
      }
    },
    {
      "cell_type": "markdown",
      "source": [
        "#Q24.What are some real-world applications of statistics?\n",
        "1. **Healthcare:**\n",
        "\n",
        "   * Analyzing patient data, predicting disease trends, and improving treatment plans.\n",
        "\n",
        "2. **Business & Marketing:**\n",
        "\n",
        "   * Understanding customer behavior, sales forecasting, and market research.\n",
        "\n",
        "3. **Government & Policy:**\n",
        "\n",
        "   * Conducting population censuses, tracking unemployment rates, and making public policy decisions.\n",
        "\n",
        "4. **Education:**\n",
        "\n",
        "   * Measuring student performance, improving teaching strategies, and evaluating programs.\n",
        "\n",
        "5. **Sports:**\n",
        "\n",
        "   * Player performance analysis, game strategy planning, and injury prediction.\n",
        "\n",
        "6. **Finance:**\n",
        "\n",
        "   * Risk assessment, stock market analysis, and portfolio management.\n",
        "\n",
        "Statistics helps in **decision-making**, **problem-solving**, and **predictive modeling** across almost every field.\n"
      ],
      "metadata": {
        "id": "_f6zNqBlqBkV"
      }
    },
    {
      "cell_type": "markdown",
      "source": [
        "##Practical"
      ],
      "metadata": {
        "id": "TExd_wYMwloB"
      }
    },
    {
      "cell_type": "code",
      "source": [
        "#Q1.How do you calculate the mean, median, and mode of a dataset?\n",
        "import pandas as pd\n",
        "\n",
        "# Sample dataset\n",
        "data = [10, 20, 20, 30, 40]\n",
        "\n",
        "# Convert to Series\n",
        "series = pd.Series(data)\n",
        "\n",
        "# Calculate mean, median, mode\n",
        "mean = series.mean()\n",
        "median = series.median()\n",
        "mode = series.mode()\n",
        "\n",
        "print(\"Mean:\", mean)\n",
        "print(\"Median:\", median)\n",
        "print(\"Mode:\", mode.tolist())  # Can be multiple modes\n",
        "\n"
      ],
      "metadata": {
        "colab": {
          "base_uri": "https://localhost:8080/"
        },
        "id": "HO2X9kgTrBVA",
        "outputId": "5abbe99d-9a1d-4e8a-995a-01680d32798a"
      },
      "execution_count": 7,
      "outputs": [
        {
          "output_type": "stream",
          "name": "stdout",
          "text": [
            "Mean: 24.0\n",
            "Median: 20.0\n",
            "Mode: [20]\n"
          ]
        }
      ]
    },
    {
      "cell_type": "code",
      "source": [
        "#Q2.Write a Python program to compute the variance and standard deviation of a dataset?\n",
        "import statistics\n",
        "\n",
        "data = [10, 20, 20, 30, 40]\n",
        "\n",
        "# Sample variance and standard deviation\n",
        "variance = statistics.variance(data)       # Sample variance\n",
        "std_dev = statistics.stdev(data)           # Sample standard deviation\n",
        "\n",
        "print(\"Variance:\", variance)\n",
        "print(\"Standard Deviation:\", std_dev)\n"
      ],
      "metadata": {
        "colab": {
          "base_uri": "https://localhost:8080/"
        },
        "id": "xwTyReT_r9Jr",
        "outputId": "683cf88b-472c-4b34-a804-83af008d1fa1"
      },
      "execution_count": 8,
      "outputs": [
        {
          "output_type": "stream",
          "name": "stdout",
          "text": [
            "Variance: 130\n",
            "Standard Deviation: 11.40175425099138\n"
          ]
        }
      ]
    },
    {
      "cell_type": "code",
      "source": [
        "#Q3.Create a dataset and classify it into nominal, ordinal, interval, and ratio types?\n",
        "import pandas as pd\n",
        "\n",
        "# Creating a sample dataset\n",
        "data = {\n",
        "    'Name': ['Alice', 'Bob', 'Charlie', 'David', 'Eve'],\n",
        "\n",
        "    # Nominal: Categories with no order (e.g., Colors)\n",
        "    'Favorite_Color': ['Red', 'Blue', 'Green', 'Blue', 'Red'],\n",
        "\n",
        "    # Ordinal: Categories with order but unequal spacing (e.g., Education Level)\n",
        "    'Education_Level': ['High School', 'College', 'College', 'Masters', 'PhD'],\n",
        "\n",
        "    # Interval: Ordered with equal intervals, but no true zero (e.g., Temperature)\n",
        "    'Temperature_Celsius': [20, 22, 21, 19, 23],\n",
        "\n",
        "    # Ratio: Ordered with equal intervals and a true zero (e.g., Height in cm)\n",
        "    'Height_cm': [160, 175, 180, 165, 170]\n",
        "}\n",
        "\n",
        "# Creating a DataFrame\n",
        "df = pd.DataFrame(data)\n",
        "\n",
        "# Display the dataset\n",
        "print(df)\n",
        "\n",
        "# Classify the data types\n",
        "print(\"\\nData Type Classification:\")\n",
        "print(\"Nominal: Favorite_Color\")\n",
        "print(\"Ordinal: Education_Level\")\n",
        "print(\"Interval: Temperature_Celsius\")\n",
        "print(\"Ratio: Height_cm\")\n"
      ],
      "metadata": {
        "colab": {
          "base_uri": "https://localhost:8080/"
        },
        "id": "3O5Wt0USsUGV",
        "outputId": "955ea00e-9a1b-434f-da3a-5040a6e8bd48"
      },
      "execution_count": 9,
      "outputs": [
        {
          "output_type": "stream",
          "name": "stdout",
          "text": [
            "      Name Favorite_Color Education_Level  Temperature_Celsius  Height_cm\n",
            "0    Alice            Red     High School                   20        160\n",
            "1      Bob           Blue         College                   22        175\n",
            "2  Charlie          Green         College                   21        180\n",
            "3    David           Blue         Masters                   19        165\n",
            "4      Eve            Red             PhD                   23        170\n",
            "\n",
            "Data Type Classification:\n",
            "Nominal: Favorite_Color\n",
            "Ordinal: Education_Level\n",
            "Interval: Temperature_Celsius\n",
            "Ratio: Height_cm\n"
          ]
        }
      ]
    },
    {
      "cell_type": "code",
      "source": [
        "#Q4.Implement sampling techniques like random sampling and stratified sampling?\n",
        "import pandas as pd\n",
        "\n",
        "# Create a sample dataset\n",
        "data = {\n",
        "    'Name': ['Alice', 'Bob', 'Charlie', 'David', 'Eve', 'Frank', 'Grace', 'Hannah'],\n",
        "    'Age': [23, 34, 29, 40, 25, 37, 21, 30],\n",
        "    'Gender': ['F', 'M', 'M', 'M', 'F', 'M', 'F', 'F']\n",
        "}\n",
        "\n",
        "# Creating a DataFrame\n",
        "df = pd.DataFrame(data)\n",
        "\n",
        "# Random sampling (take 3 random samples)\n",
        "random_sample = df.sample(n=3, random_state=1)  # random_state for reproducibility\n",
        "print(\"Random Sample:\\n\", random_sample)\n"
      ],
      "metadata": {
        "colab": {
          "base_uri": "https://localhost:8080/"
        },
        "id": "msCaEGq2sf8f",
        "outputId": "6f96b69d-191e-4103-eb60-a1a150be8977"
      },
      "execution_count": 10,
      "outputs": [
        {
          "output_type": "stream",
          "name": "stdout",
          "text": [
            "Random Sample:\n",
            "       Name  Age Gender\n",
            "7   Hannah   30      F\n",
            "2  Charlie   29      M\n",
            "1      Bob   34      M\n"
          ]
        }
      ]
    },
    {
      "cell_type": "code",
      "source": [
        "#Q5.Write a Python function to calculate the range of a dataset.\n",
        "def calculate_range(data):\n",
        "    # Check if the dataset is not empty\n",
        "    if len(data) == 0:\n",
        "        return \"Dataset is empty\"\n",
        "\n",
        "    # Calculate the range\n",
        "    data_range = max(data) - min(data)\n",
        "    return data_range\n",
        "\n",
        "# Example dataset\n",
        "data = [10, 20, 15, 30, 40, 50]\n",
        "\n",
        "# Call the function and print the result\n",
        "range_of_data = calculate_range(data)\n",
        "print(\"Range of the dataset:\", range_of_data)\n"
      ],
      "metadata": {
        "colab": {
          "base_uri": "https://localhost:8080/"
        },
        "id": "apwaNqgPsqam",
        "outputId": "00113840-d986-44f0-f614-0a8db9e25d72"
      },
      "execution_count": 11,
      "outputs": [
        {
          "output_type": "stream",
          "name": "stdout",
          "text": [
            "Range of the dataset: 40\n"
          ]
        }
      ]
    },
    {
      "cell_type": "code",
      "source": [
        "#Q6.Create a dataset and plot its histogram to visualize skewness.\n",
        "import numpy as np\n",
        "import matplotlib.pyplot as plt\n",
        "\n",
        "# Create a dataset with a skewed distribution (exponential distribution)\n",
        "data = np.random.exponential(scale=2, size=1000)\n",
        "\n",
        "# Plot the histogram\n",
        "plt.figure(figsize=(10, 6))\n",
        "plt.hist(data, bins=30, color='skyblue', edgecolor='black')\n",
        "plt.title('Histogram of Skewed Data')\n",
        "plt.xlabel('Data Values')\n",
        "plt.ylabel('Frequency')\n",
        "plt.grid(True)\n",
        "plt.show()\n"
      ],
      "metadata": {
        "colab": {
          "base_uri": "https://localhost:8080/",
          "height": 564
        },
        "id": "e09lqfyfsx9w",
        "outputId": "70210e0b-53b7-464a-ab31-f652b5c59043"
      },
      "execution_count": 12,
      "outputs": [
        {
          "output_type": "display_data",
          "data": {
            "text/plain": [
              "<Figure size 1000x600 with 1 Axes>"
            ],
            "image/png": "[encoded data removed]"
          },
          "metadata": {}
        }
      ]
    },
    {
      "cell_type": "code",
      "source": [
        "#Q7.Calculate skewness and kurtosis of a dataset using Python libraries\n",
        "import numpy as np\n",
        "from scipy import stats\n",
        "\n",
        "# Create a sample dataset (for example, an exponential distribution)\n",
        "data = np.random.exponential(scale=2, size=1000)\n",
        "\n",
        "# Calculate skewness and kurtosis\n",
        "skewness = stats.skew(data)\n",
        "kurtosis = stats.kurtosis(data)\n",
        "\n",
        "# Print the results\n",
        "print(f\"Skewness: {skewness}\")\n",
        "print(f\"Kurtosis: {kurtosis}\")\n"
      ],
      "metadata": {
        "colab": {
          "base_uri": "https://localhost:8080/"
        },
        "id": "flSl3FCts9CE",
        "outputId": "2f3247f8-3910-444c-9c82-e4aa7610b258"
      },
      "execution_count": 13,
      "outputs": [
        {
          "output_type": "stream",
          "name": "stdout",
          "text": [
            "Skewness: 1.9847010609022067\n",
            "Kurtosis: 5.371685652170829\n"
          ]
        }
      ]
    },
    {
      "cell_type": "code",
      "source": [
        "#Q8. Generate a dataset and demonstrate positive and negative skewness?\n",
        "import numpy as np\n",
        "import matplotlib.pyplot as plt\n",
        "from scipy import stats\n",
        "\n",
        "# Generate two datasets with different skewness\n",
        "# Positive skew (long right tail) - Exponential distribution\n",
        "positive_skew_data = np.random.exponential(scale=2, size=1000)\n",
        "\n",
        "# Negative skew (long left tail) - Negative exponential distribution\n",
        "negative_skew_data = -np.random.exponential(scale=2, size=1000)\n",
        "\n",
        "# Calculate skewness for both datasets\n",
        "positive_skewness = stats.skew(positive_skew_data)\n",
        "negative_skewness = stats.skew(negative_skew_data)\n",
        "\n",
        "# Plot histograms\n",
        "plt.figure(figsize=(12, 6))\n",
        "\n",
        "# Positive skew plot\n",
        "plt.subplot(1, 2, 1)\n",
        "plt.hist(positive_skew_data, bins=30, color='skyblue', edgecolor='black')\n",
        "plt.title(f'Positive Skewness (Skewness = {positive_skewness:.2f})')\n",
        "plt.xlabel('Data Values')\n",
        "plt.ylabel('Frequency')\n",
        "\n",
        "# Negative skew plot\n",
        "plt.subplot(1, 2, 2)\n",
        "plt.hist(negative_skew_data, bins=30, color='salmon', edgecolor='black')\n",
        "plt.title(f'Negative Skewness (Skewness = {negative_skewness:.2f})')\n",
        "plt.xlabel('Data Values')\n",
        "plt.ylabel('Frequency')\n",
        "\n",
        "# Display the plots\n",
        "plt.tight_layout()\n",
        "plt.show()\n",
        "\n",
        "# Display skewness values\n",
        "print(f\"Positive Skewness: {positive_skewness}\")\n",
        "print(f\"Negative Skewness: {negative_skewness}\")\n"
      ],
      "metadata": {
        "colab": {
          "base_uri": "https://localhost:8080/",
          "height": 642
        },
        "id": "UUhBG7O6tEHs",
        "outputId": "53e74215-5ec6-4d9e-9d6c-c97bf3547cb6"
      },
      "execution_count": 14,
      "outputs": [
        {
          "output_type": "display_data",
          "data": {
            "text/plain": [
              "<Figure size 1200x600 with 2 Axes>"
            ],
            "image/png": "[encoded data removed]"
          },
          "metadata": {}
        },
        {
          "output_type": "stream",
          "name": "stdout",
          "text": [
            "Positive Skewness: 1.6461473383290255\n",
            "Negative Skewness: -1.809759905138589\n"
          ]
        }
      ]
    },
    {
      "cell_type": "code",
      "source": [
        "#Q9.Write a Python script to calculate covariance between two datasets\n",
        "import numpy as np\n",
        "\n",
        "# Example datasets\n",
        "x = np.array([2, 4, 6, 8, 10])\n",
        "y = np.array([1, 3, 5, 7, 9])\n",
        "\n",
        "# Manual calculation of covariance\n",
        "def manual_covariance(x, y):\n",
        "    n = len(x)\n",
        "    mean_x = np.mean(x)\n",
        "    mean_y = np.mean(y)\n",
        "    cov = np.sum((x - mean_x) * (y - mean_y)) / (n - 1)\n",
        "    return cov\n",
        "\n",
        "# Using NumPy's built-in function\n",
        "cov_matrix = np.cov(x, y)\n",
        "numpy_cov = cov_matrix[0, 1]\n",
        "\n",
        "# Display results\n",
        "print(\"Manual Covariance:\", manual_covariance(x, y))\n",
        "print(\"NumPy Covariance:\", numpy_cov)\n"
      ],
      "metadata": {
        "colab": {
          "base_uri": "https://localhost:8080/"
        },
        "id": "p5D7Jy-HtRyO",
        "outputId": "ca93ad3f-3ca6-4d32-b19c-cb5e736246ff"
      },
      "execution_count": 15,
      "outputs": [
        {
          "output_type": "stream",
          "name": "stdout",
          "text": [
            "Manual Covariance: 10.0\n",
            "NumPy Covariance: 10.0\n"
          ]
        }
      ]
    },
    {
      "cell_type": "code",
      "source": [
        "#Q10.Write a Python script to calculate the correlation coefficient between two datasets?\n",
        "import numpy as np\n",
        "\n",
        "# Example datasets\n",
        "x = np.array([2, 4, 6, 8, 10])\n",
        "y = np.array([1, 3, 5, 7, 9])\n",
        "\n",
        "# Manual calculation of Pearson correlation coefficient\n",
        "def manual_correlation(x, y):\n",
        "    mean_x = np.mean(x)\n",
        "    mean_y = np.mean(y)\n",
        "    numerator = np.sum((x - mean_x) * (y - mean_y))\n",
        "    denominator = np.sqrt(np.sum((x - mean_x)**2) * np.sum((y - mean_y)**2))\n",
        "    return numerator / denominator\n",
        "\n",
        "# Using NumPy's built-in function\n",
        "numpy_corr = np.corrcoef(x, y)[0, 1]\n",
        "\n",
        "# Display results\n",
        "print(\"Manual Correlation Coefficient:\", manual_correlation(x, y))\n",
        "print(\"NumPy Correlation Coefficient:\", numpy_corr)\n"
      ],
      "metadata": {
        "colab": {
          "base_uri": "https://localhost:8080/"
        },
        "id": "Me8lyuhftj4t",
        "outputId": "e4fc8f3b-44c0-4e01-c4e2-0a3fe4e9f4a3"
      },
      "execution_count": 16,
      "outputs": [
        {
          "output_type": "stream",
          "name": "stdout",
          "text": [
            "Manual Correlation Coefficient: 1.0\n",
            "NumPy Correlation Coefficient: 0.9999999999999999\n"
          ]
        }
      ]
    },
    {
      "cell_type": "code",
      "source": [
        "#Q11.Create a scatter plot to visualize the relationship between two variables.\n",
        "import numpy as np\n",
        "import matplotlib.pyplot as plt\n",
        "\n",
        "# Example datasets\n",
        "x = np.array([2, 4, 6, 8, 10])\n",
        "y = np.array([1, 3, 5, 7, 9])\n",
        "\n",
        "# Create a scatter plot\n",
        "plt.figure(figsize=(8, 6))\n",
        "plt.scatter(x, y, color='blue', edgecolor='black', alpha=0.7)\n",
        "plt.title('Scatter Plot of x vs y')\n",
        "plt.xlabel('x values')\n",
        "plt.ylabel('y values')\n",
        "plt.grid(True)\n",
        "plt.show()\n"
      ],
      "metadata": {
        "colab": {
          "base_uri": "https://localhost:8080/",
          "height": 564
        },
        "id": "QabPaxzDtrBj",
        "outputId": "7b04b2f2-3dbd-4582-ba47-5bb80c5155cd"
      },
      "execution_count": 17,
      "outputs": [
        {
          "output_type": "display_data",
          "data": {
            "text/plain": [
              "<Figure size 800x600 with 1 Axes>"
            ],
            "image/png": "[encoded data removed]"
          },
          "metadata": {}
        }
      ]
    },
    {
      "cell_type": "code",
      "source": [
        "#Q12.Implement and compare simple random sampling and systematic sampling.\n",
        "import numpy as np\n",
        "import pandas as pd\n",
        "\n",
        "# Create a population dataset\n",
        "population = np.arange(1, 101)  # Population from 1 to 100\n",
        "sample_size = 10\n",
        "\n",
        "# --- Simple Random Sampling ---\n",
        "srs_sample = np.random.choice(population, size=sample_size, replace=False)\n",
        "\n",
        "# --- Systematic Sampling ---\n",
        "k = len(population) // sample_size  # Sampling interval\n",
        "start = np.random.randint(0, k)  # Random start point\n",
        "sys_sample = population[start::k][:sample_size]\n",
        "\n",
        "# --- Display Results ---\n",
        "print(\"Population:\", population)\n",
        "print(\"\\nSimple Random Sample:\", srs_sample)\n",
        "print(\"\\nSystematic Sample:\", sys_sample)\n"
      ],
      "metadata": {
        "colab": {
          "base_uri": "https://localhost:8080/"
        },
        "id": "Xsfg5DF_t4BW",
        "outputId": "f611e496-fe62-4904-d6b7-0a0dfe246cd0"
      },
      "execution_count": 18,
      "outputs": [
        {
          "output_type": "stream",
          "name": "stdout",
          "text": [
            "Population: [  1   2   3   4   5   6   7   8   9  10  11  12  13  14  15  16  17  18\n",
            "  19  20  21  22  23  24  25  26  27  28  29  30  31  32  33  34  35  36\n",
            "  37  38  39  40  41  42  43  44  45  46  47  48  49  50  51  52  53  54\n",
            "  55  56  57  58  59  60  61  62  63  64  65  66  67  68  69  70  71  72\n",
            "  73  74  75  76  77  78  79  80  81  82  83  84  85  86  87  88  89  90\n",
            "  91  92  93  94  95  96  97  98  99 100]\n",
            "\n",
            "Simple Random Sample: [44 18 40 28  4 99 34 24 51 79]\n",
            "\n",
            "Systematic Sample: [ 3 13 23 33 43 53 63 73 83 93]\n"
          ]
        }
      ]
    },
    {
      "cell_type": "code",
      "source": [
        "#Q13.5 Calculate the mean, median, and mode of grouped data.\n",
        "import pandas as pd\n",
        "\n",
        "# Define class intervals and frequencies\n",
        "classes = [(0,10), (10,20), (20,30), (30,40), (40,50)]\n",
        "frequencies = [5, 8, 15, 16, 6]\n",
        "\n",
        "# Convert to DataFrame\n",
        "df = pd.DataFrame(classes, columns=[\"Lower\", \"Upper\"])\n",
        "df[\"Frequency\"] = frequencies\n",
        "\n",
        "# Calculate class midpoints\n",
        "df[\"Midpoint\"] = (df[\"Lower\"] + df[\"Upper\"]) / 2\n",
        "\n",
        "# --- Mean ---\n",
        "mean = (df[\"Midpoint\"] * df[\"Frequency\"]).sum() / df[\"Frequency\"].sum()\n",
        "\n",
        "# --- Median ---\n",
        "cf = df[\"Frequency\"].cumsum()\n",
        "n = df[\"Frequency\"].sum()\n",
        "median_class_index = cf[cf >= n/2].index[0]\n",
        "\n",
        "L = df.loc[median_class_index, \"Lower\"]\n",
        "F = df.loc[median_class_index, \"Frequency\"]\n",
        "CF = cf[median_class_index - 1] if median_class_index > 0 else 0\n",
        "h = df.loc[median_class_index, \"Upper\"] - df.loc[median_class_index, \"Lower\"]\n",
        "median = L + ((n/2 - CF) / F) * h\n",
        "\n",
        "# --- Mode ---\n",
        "modal_class_index = df[\"Frequency\"].idxmax()\n",
        "L = df.loc[modal_class_index, \"Lower\"]\n",
        "f1 = df.loc[modal_class_index, \"Frequency\"]\n",
        "f0 = df.loc[modal_class_index - 1, \"Frequency\"] if modal_class_index > 0 else 0\n",
        "f2 = df.loc[modal_class_index + 1, \"Frequency\"] if modal_class_index + 1 < len(df) else 0\n",
        "h = df.loc[modal_class_index, \"Upper\"] - df.loc[modal_class_index, \"Lower\"]\n",
        "mode = L + ((f1 - f0) / ((f1 - f0) + (f1 - f2))) * h\n",
        "\n",
        "# Display results\n",
        "print(f\"Mean: {mean:.2f}\")\n",
        "print(f\"Median: {median:.2f}\")\n",
        "print(f\"Mode: {mode:.2f}\")\n"
      ],
      "metadata": {
        "colab": {
          "base_uri": "https://localhost:8080/"
        },
        "id": "heicwPY5uAGf",
        "outputId": "07fc2a26-8cf1-4a3b-b465-544ccdc87fdb"
      },
      "execution_count": 19,
      "outputs": [
        {
          "output_type": "stream",
          "name": "stdout",
          "text": [
            "Mean: 27.00\n",
            "Median: 28.00\n",
            "Mode: 30.91\n"
          ]
        }
      ]
    },
    {
      "cell_type": "code",
      "source": [
        "#Q14. Simulate data using Python and calculate its central tendency and dispersion.\n",
        "import numpy as np\n",
        "import scipy.stats as stats\n",
        "\n",
        "# Step 1: Simulate data (normal distribution with mean=50, std=10)\n",
        "data = np.random.normal(loc=50, scale=10, size=1000)\n",
        "\n",
        "# Step 2: Central Tendency\n",
        "mean = np.mean(data)\n",
        "median = np.median(data)\n",
        "mode = stats.mode(data, keepdims=True).mode[0]\n",
        "\n",
        "# Step 3: Dispersion\n",
        "variance = np.var(data, ddof=1)  # sample variance\n",
        "std_dev = np.std(data, ddof=1)   # sample standard deviation\n",
        "data_range = np.max(data) - np.min(data)\n",
        "\n",
        "# Display the results\n",
        "print(f\"Mean: {mean:.2f}\")\n",
        "print(f\"Median: {median:.2f}\")\n",
        "print(f\"Mode: {mode:.2f}\")\n",
        "print(f\"Variance: {variance:.2f}\")\n",
        "print(f\"Standard Deviation: {std_dev:.2f}\")\n",
        "print(f\"Range: {data_range:.2f}\")\n"
      ],
      "metadata": {
        "colab": {
          "base_uri": "https://localhost:8080/"
        },
        "id": "lijNKSLruMag",
        "outputId": "e59da546-ffa6-487e-d7ab-f24f531950cc"
      },
      "execution_count": 20,
      "outputs": [
        {
          "output_type": "stream",
          "name": "stdout",
          "text": [
            "Mean: 49.55\n",
            "Median: 49.68\n",
            "Mode: 13.52\n",
            "Variance: 97.63\n",
            "Standard Deviation: 9.88\n",
            "Range: 68.49\n"
          ]
        }
      ]
    },
    {
      "cell_type": "code",
      "source": [
        "#Q15.Use NumPy or pandas to summarize a dataset’s descriptive statistics.\n",
        "import numpy as np\n",
        "import pandas as pd\n",
        "\n",
        "# Simulate a dataset\n",
        "data = np.random.normal(loc=60, scale=15, size=1000)\n",
        "\n",
        "# --- Using NumPy ---\n",
        "print(\"Descriptive Statistics using NumPy:\")\n",
        "print(f\"Mean: {np.mean(data):.2f}\")\n",
        "print(f\"Median: {np.median(data):.2f}\")\n",
        "print(f\"Standard Deviation: {np.std(data, ddof=1):.2f}\")\n",
        "print(f\"Min: {np.min(data):.2f}\")\n",
        "print(f\"Max: {np.max(data):.2f}\")\n",
        "print(f\"25th Percentile: {np.percentile(data, 25):.2f}\")\n",
        "print(f\"75th Percentile: {np.percentile(data, 75):.2f}\")\n",
        "print()\n",
        "\n",
        "# --- Using pandas ---\n",
        "df = pd.DataFrame(data, columns=[\"Score\"])\n",
        "print(\"Descriptive Statistics using pandas:\")\n",
        "print(df.describe())\n"
      ],
      "metadata": {
        "colab": {
          "base_uri": "https://localhost:8080/"
        },
        "id": "4jZd9NsBuWMZ",
        "outputId": "d73b34b3-26d2-42ad-e003-f34700691c97"
      },
      "execution_count": 21,
      "outputs": [
        {
          "output_type": "stream",
          "name": "stdout",
          "text": [
            "Descriptive Statistics using NumPy:\n",
            "Mean: 59.79\n",
            "Median: 59.89\n",
            "Standard Deviation: 14.95\n",
            "Min: 13.02\n",
            "Max: 104.82\n",
            "25th Percentile: 49.75\n",
            "75th Percentile: 69.57\n",
            "\n",
            "Descriptive Statistics using pandas:\n",
            "             Score\n",
            "count  1000.000000\n",
            "mean     59.787101\n",
            "std      14.946571\n",
            "min      13.022708\n",
            "25%      49.748095\n",
            "50%      59.893206\n",
            "75%      69.574290\n",
            "max     104.819626\n"
          ]
        }
      ]
    },
    {
      "cell_type": "code",
      "source": [
        "#Q16.Plot a boxplot to understand the spread and identify outliers.\n",
        "import numpy as np\n",
        "import pandas as pd\n",
        "import matplotlib.pyplot as plt\n",
        "\n",
        "# Simulate a dataset\n",
        "data = np.random.normal(loc=70, scale=15, size=1000)\n",
        "\n",
        "# Convert to DataFrame for easier plotting\n",
        "df = pd.DataFrame(data, columns=[\"Score\"])\n",
        "\n",
        "# Plot the boxplot\n",
        "plt.figure(figsize=(8, 6))\n",
        "plt.boxplot(df[\"Score\"], vert=False, patch_artist=True,\n",
        "            boxprops=dict(facecolor='lightblue', color='blue'),\n",
        "            medianprops=dict(color='red'),\n",
        "            flierprops=dict(markerfacecolor='orange', marker='o', markersize=8))\n",
        "plt.title(\"Boxplot of Scores\")\n",
        "plt.xlabel(\"Score\")\n",
        "plt.grid(True)\n",
        "plt.show()\n"
      ],
      "metadata": {
        "colab": {
          "base_uri": "https://localhost:8080/",
          "height": 564
        },
        "id": "gyg2o3Njuh-S",
        "outputId": "91648dc9-d8f0-4015-f0c1-9384f883457a"
      },
      "execution_count": 22,
      "outputs": [
        {
          "output_type": "display_data",
          "data": {
            "text/plain": [
              "<Figure size 800x600 with 1 Axes>"
            ],
            "image/png": "[encoded data removed]"
          },
          "metadata": {}
        }
      ]
    },
    {
      "cell_type": "code",
      "source": [
        "#Q17.Calculate the interquartile range (IQR) of a dataset.\n",
        "import numpy as np\n",
        "import pandas as pd\n",
        "\n",
        "# Simulate a dataset\n",
        "data = np.random.normal(loc=75, scale=10, size=1000)\n",
        "\n",
        "# --- Using NumPy ---\n",
        "q1 = np.percentile(data, 25)\n",
        "q3 = np.percentile(data, 75)\n",
        "iqr_numpy = q3 - q1\n",
        "\n",
        "# --- Using pandas ---\n",
        "df = pd.Series(data)\n",
        "iqr_pandas = df.quantile(0.75) - df.quantile(0.25)\n",
        "\n",
        "# Display results\n",
        "print(f\"IQR using NumPy: {iqr_numpy:.2f}\")\n",
        "print(f\"IQR using pandas: {iqr_pandas:.2f}\")\n"
      ],
      "metadata": {
        "colab": {
          "base_uri": "https://localhost:8080/"
        },
        "id": "mGVVGTt_us8a",
        "outputId": "e341b990-7f4a-4b1b-9218-e8bc00268e39"
      },
      "execution_count": 23,
      "outputs": [
        {
          "output_type": "stream",
          "name": "stdout",
          "text": [
            "IQR using NumPy: 13.56\n",
            "IQR using pandas: 13.56\n"
          ]
        }
      ]
    },
    {
      "cell_type": "code",
      "source": [
        "#Q18. Implement Z-score normalization and explain its significance.\n",
        "import numpy as np\n",
        "import pandas as pd\n",
        "from scipy import stats\n",
        "\n",
        "# Simulate a dataset\n",
        "data = np.random.normal(loc=100, scale=20, size=1000)\n",
        "\n",
        "# --- Manual Z-score normalization ---\n",
        "mean = np.mean(data)\n",
        "std = np.std(data)\n",
        "z_manual = [(x - mean) / std for x in data]\n",
        "\n",
        "# --- Using SciPy ---\n",
        "z_scipy = stats.zscore(data)\n",
        "\n",
        "# --- Using pandas ---\n",
        "df = pd.DataFrame(data, columns=[\"Score\"])\n",
        "df[\"Z_score\"] = (df[\"Score\"] - df[\"Score\"].mean()) / df[\"Score\"].std()\n",
        "\n",
        "# Show first 5 values\n",
        "print(df.head())\n"
      ],
      "metadata": {
        "colab": {
          "base_uri": "https://localhost:8080/"
        },
        "id": "vlzrR2euu6Qa",
        "outputId": "7b607ecd-f0f1-4bcf-ad1c-84c7106030ef"
      },
      "execution_count": 24,
      "outputs": [
        {
          "output_type": "stream",
          "name": "stdout",
          "text": [
            "        Score   Z_score\n",
            "0  102.944787  0.069128\n",
            "1   92.234761 -0.458109\n",
            "2  110.058341  0.419317\n",
            "3   92.727829 -0.433836\n",
            "4  109.019743  0.368189\n"
          ]
        }
      ]
    },
    {
      "cell_type": "code",
      "source": [
        "#Q19.Compare two datasets using their standard deviations.\n",
        "import numpy as np\n",
        "\n",
        "# Simulate two datasets with different spread (standard deviations)\n",
        "data1 = np.random.normal(loc=50, scale=10, size=1000)  # Dataset 1 with SD = 10\n",
        "data2 = np.random.normal(loc=50, scale=25, size=1000)  # Dataset 2 with SD = 25\n",
        "\n",
        "# Calculate standard deviations\n",
        "std_dev_data1 = np.std(data1, ddof=1)  # Sample standard deviation\n",
        "std_dev_data2 = np.std(data2, ddof=1)  # Sample standard deviation\n",
        "\n",
        "# Display the standard deviations\n",
        "print(f\"Standard Deviation of Dataset 1: {std_dev_data1:.2f}\")\n",
        "print(f\"Standard Deviation of Dataset 2: {std_dev_data2:.2f}\")\n"
      ],
      "metadata": {
        "colab": {
          "base_uri": "https://localhost:8080/"
        },
        "id": "JyVTMTQmvFuw",
        "outputId": "90b10bb7-18e2-42c1-a58d-ce904861fd28"
      },
      "execution_count": 25,
      "outputs": [
        {
          "output_type": "stream",
          "name": "stdout",
          "text": [
            "Standard Deviation of Dataset 1: 10.06\n",
            "Standard Deviation of Dataset 2: 24.77\n"
          ]
        }
      ]
    },
    {
      "cell_type": "code",
      "source": [
        "#Q20.Write a Python program to visualize covariance using a heatmap.\n",
        "import numpy as np\n",
        "import pandas as pd\n",
        "import seaborn as sns\n",
        "import matplotlib.pyplot as plt\n",
        "\n",
        "# Simulate a dataset with 3 variables (e.g., x, y, z)\n",
        "np.random.seed(42)\n",
        "data = np.random.randn(100, 3) * 10 + 50  # Mean=50, std=10, 100 samples, 3 variables\n",
        "\n",
        "# Convert to DataFrame for easier handling\n",
        "df = pd.DataFrame(data, columns=[\"X\", \"Y\", \"Z\"])\n",
        "\n",
        "# Calculate the covariance matrix\n",
        "cov_matrix = df.cov()\n",
        "\n",
        "# Visualize the covariance matrix using a heatmap\n",
        "plt.figure(figsize=(8, 6))\n",
        "sns.heatmap(cov_matrix, annot=True, cmap=\"coolwarm\", fmt=\".2f\", linewidths=0.5)\n",
        "plt.title(\"Covariance Matrix Heatmap\")\n",
        "plt.show()\n",
        "\n"
      ],
      "metadata": {
        "colab": {
          "base_uri": "https://localhost:8080/",
          "height": 545
        },
        "id": "5oJ2FMnWvWEo",
        "outputId": "5fc26007-09ae-4107-e91c-1abff9ad7312"
      },
      "execution_count": 26,
      "outputs": [
        {
          "output_type": "display_data",
          "data": {
            "text/plain": [
              "<Figure size 800x600 with 2 Axes>"
            ],
            "image/png": "[encoded data removed]"
          },
          "metadata": {}
        }
      ]
    },
    {
      "cell_type": "code",
      "source": [
        "#Q21. Use seaborn to create a correlation matrix for a dataset.\n",
        "import seaborn as sns\n",
        "import matplotlib.pyplot as plt\n",
        "import pandas as pd\n",
        "import numpy as np\n",
        "\n",
        "# Simulate a dataset with 4 variables (e.g., A, B, C, D)\n",
        "np.random.seed(42)\n",
        "data = np.random.randn(100, 4)  # 100 samples, 4 variables\n",
        "\n",
        "# Convert to DataFrame with meaningful column names\n",
        "df = pd.DataFrame(data, columns=[\"A\", \"B\", \"C\", \"D\"])\n",
        "\n",
        "# Calculate the correlation matrix\n",
        "corr_matrix = df.corr()\n",
        "\n",
        "# Create a heatmap to visualize the correlation matrix\n",
        "plt.figure(figsize=(8, 6))\n",
        "sns.heatmap(corr_matrix, annot=True, cmap=\"coolwarm\", fmt=\".2f\", linewidths=0.5)\n",
        "plt.title(\"Correlation Matrix Heatmap\")\n",
        "plt.show()\n"
      ],
      "metadata": {
        "colab": {
          "base_uri": "https://localhost:8080/",
          "height": 545
        },
        "id": "a4U6godwvkNZ",
        "outputId": "a068ef52-baf9-48f9-fb58-8343fdb2dbd4"
      },
      "execution_count": 27,
      "outputs": [
        {
          "output_type": "display_data",
          "data": {
            "text/plain": [
              "<Figure size 800x600 with 2 Axes>"
            ],
            "image/png": "[encoded data removed]"
          },
          "metadata": {}
        }
      ]
    },
    {
      "cell_type": "code",
      "source": [
        "#Q22. Generate a dataset and implement both variance and standard deviation computations.\n",
        "import numpy as np\n",
        "\n",
        "# Generate a random dataset (e.g., 100 data points with a mean of 50 and standard deviation of 10)\n",
        "np.random.seed(42)\n",
        "data = np.random.normal(loc=50, scale=10, size=100)\n",
        "\n",
        "# Compute Variance (using numpy)\n",
        "variance = np.var(data)\n",
        "\n",
        "# Compute Standard Deviation (using numpy)\n",
        "std_deviation = np.std(data)\n",
        "\n",
        "# Display the results\n",
        "print(f\"Variance: {variance:.2f}\")\n",
        "print(f\"Standard Deviation: {std_deviation:.2f}\")\n"
      ],
      "metadata": {
        "colab": {
          "base_uri": "https://localhost:8080/"
        },
        "id": "tBUlHll4wAEO",
        "outputId": "375cabcf-69b9-421d-f641-9d491f5847b6"
      },
      "execution_count": 28,
      "outputs": [
        {
          "output_type": "stream",
          "name": "stdout",
          "text": [
            "Variance: 81.65\n",
            "Standard Deviation: 9.04\n"
          ]
        }
      ]
    },
    {
      "cell_type": "code",
      "source": [
        "#Q23.Visualize skewness and kurtosis using Python libraries like matplotlib or seaborn.\n",
        "import numpy as np\n",
        "import pandas as pd\n",
        "import seaborn as sns\n",
        "import matplotlib.pyplot as plt\n",
        "from scipy.stats import skew, kurtosis\n",
        "\n",
        "# Generate a sample dataset\n",
        "np.random.seed(42)\n",
        "data = np.random.beta(a=2, b=5, size=1000)  # Beta distribution (skewed and non-normal)\n",
        "\n",
        "# Calculate skewness and kurtosis\n",
        "data_skewness = skew(data)\n",
        "data_kurtosis = kurtosis(data)\n",
        "\n",
        "# Create a figure with two subplots\n",
        "fig, ax = plt.subplots(1, 2, figsize=(14, 6))\n",
        "\n",
        "# Plot the distribution using Seaborn\n",
        "sns.histplot(data, kde=True, color=\"skyblue\", ax=ax[0])\n",
        "ax[0].set_title(f\"Histogram and KDE\\nSkewness = {data_skewness:.2f}, Kurtosis = {data_kurtosis:.2f}\")\n",
        "ax[0].set_xlabel(\"Value\")\n",
        "ax[0].set_ylabel(\"Frequency\")\n",
        "\n",
        "# Plot the Q-Q plot to visualize normality\n",
        "from scipy.stats import probplot\n",
        "probplot(data, dist=\"norm\", plot=ax[1])\n",
        "ax[1].set_title(\"Q-Q Plot\")\n",
        "\n",
        "# Display the plots\n",
        "plt.tight_layout()\n",
        "plt.show()\n",
        "\n",
        "# Print the skewness and kurtosis values\n",
        "print(f\"Skewness: {data_skewness:.2f}\")\n",
        "print(f\"Kurtosis: {data_kurtosis:.2f}\")\n"
      ],
      "metadata": {
        "colab": {
          "base_uri": "https://localhost:8080/",
          "height": 642
        },
        "id": "3e2lb6-awKiA",
        "outputId": "9a0b6008-a1bc-46df-c9a4-74583adeb96b"
      },
      "execution_count": 29,
      "outputs": [
        {
          "output_type": "display_data",
          "data": {
            "text/plain": [
              "<Figure size 1400x600 with 2 Axes>"
            ],
            "image/png": "[encoded data removed]"
          },
          "metadata": {}
        },
        {
          "output_type": "stream",
          "name": "stdout",
          "text": [
            "Skewness: 0.53\n",
            "Kurtosis: -0.32\n"
          ]
        }
      ]
    },
    {
      "cell_type": "code",
      "source": [
        "#Q24. Implement the Pearson and Spearman correlation coefficients for a dataset.\n",
        "import numpy as np\n",
        "import pandas as pd\n",
        "from scipy.stats import pearsonr, spearmanr\n",
        "\n",
        "# Generate sample data\n",
        "np.random.seed(42)\n",
        "x = np.random.normal(loc=50, scale=10, size=100)  # Variable 1\n",
        "y = 0.8 * x + np.random.normal(loc=0, scale=5, size=100)  # Variable 2 with some noise\n",
        "\n",
        "# Convert to pandas DataFrame for easy handling\n",
        "df = pd.DataFrame({\"X\": x, \"Y\": y})\n",
        "\n",
        "# Pearson Correlation\n",
        "pearson_corr, _ = pearsonr(df[\"X\"], df[\"Y\"])\n",
        "\n",
        "# Spearman Correlation\n",
        "spearman_corr, _ = spearmanr(df[\"X\"], df[\"Y\"])\n",
        "\n",
        "# Display the correlation coefficients\n",
        "print(f\"Pearson Correlation Coefficient: {pearson_corr:.2f}\")\n",
        "print(f\"Spearman Correlation Coefficient: {spearman_corr:.2f}\")\n"
      ],
      "metadata": {
        "colab": {
          "base_uri": "https://localhost:8080/"
        },
        "id": "bQdOQOGOwYps",
        "outputId": "b041f5ef-047d-4c29-d72f-3cbff16bc8c8"
      },
      "execution_count": 30,
      "outputs": [
        {
          "output_type": "stream",
          "name": "stdout",
          "text": [
            "Pearson Correlation Coefficient: 0.81\n",
            "Spearman Correlation Coefficient: 0.79\n"
          ]
        }
      ]
    }
  ]
}