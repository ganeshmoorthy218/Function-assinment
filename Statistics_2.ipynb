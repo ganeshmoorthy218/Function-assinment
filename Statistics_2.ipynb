{
  "nbformat": 4,
  "nbformat_minor": 0,
  "metadata": {
    "colab": {
      "provenance": []
    },
    "kernelspec": {
      "name": "python3",
      "display_name": "Python 3"
    },
    "language_info": {
      "name": "python"
    }
  },
  "cells": [
    {
      "cell_type": "markdown",
      "source": [
        "#Q1.What is hypothesis testing in statistics?\n",
        "- **Hypothesis testing** in statistics is a method used to make decisions or inferences about a population based on sample data.\n",
        "\n",
        "In a few lines:\n",
        "\n",
        "* You start with a **null hypothesis (H₀)**, which is a statement of no effect or no difference.\n",
        "* Then, you have an **alternative hypothesis (H₁ or Hₐ)**, which represents what you want to test for.\n",
        "* Using sample data, you calculate a **test statistic** and a **p-value** to decide whether to reject H₀.\n",
        "* If the p-value is small (typically less than 0.05), you reject the null hypothesis, suggesting evidence in favor of the alternative.\n",
        "\n",
        "It's a formal way to check if observed results are statistically significant."
      ],
      "metadata": {
        "id": "61zlNBe151Mw"
      }
    },
    {
      "cell_type": "markdown",
      "source": [
        "#Q2.What is the null hypothesis, and how does it differ from the alternative hypothesis?\n",
        "The **null hypothesis (H₀)** is a statement that there is **no effect or no difference**, and it serves as the default or starting assumption in statistical testing.\n",
        "The **alternative hypothesis (H₁ or Ha)** is the statement that **there is an effect or a difference**.\n",
        "\n",
        "In short:\n",
        "\n",
        "* **H₀**: Status quo, no change.\n",
        "* **H₁**: Something has changed or there is an effect.\n",
        "  Statistical tests aim to determine if there’s enough evidence to **reject H₀** in favor of H₁.\n"
      ],
      "metadata": {
        "id": "z17f80Ks545e"
      }
    },
    {
      "cell_type": "markdown",
      "source": [
        "#Q3.What is the significance level in hypothesis testing, and why is it important?\n",
        "The significance level (α) is the probability of rejecting the null hypothesis when it's true (Type I error). Common levels are 0.05 or 0.01."
      ],
      "metadata": {
        "id": "vFWrK1PS8GSW"
      }
    },
    {
      "cell_type": "markdown",
      "source": [
        "#Q4.What does a P-value represent in hypothesis testing?\n",
        "The P-value indicates the probability of obtaining results at least as extreme as those observed, assuming the null hypothesis is true."
      ],
      "metadata": {
        "id": "8zsW44d78zJ9"
      }
    },
    {
      "cell_type": "markdown",
      "source": [
        "#Q5.How do you interpret the P-value in hypothesis testing?\n",
        "If P ≤ α, reject the null hypothesis (evidence is significant). If P > α, fail to reject it (not enough evidence)."
      ],
      "metadata": {
        "id": "d-_cenoF83lW"
      }
    },
    {
      "cell_type": "markdown",
      "source": [
        "#Q6.What are Type 1 and Type 2 errors in hypothesis testing?\n",
        "\n",
        "Type 1 error: Rejecting a true null hypothesis (false positive).\n",
        "\n",
        "Type 2 error: Failing to reject a false null hypothesis (false negative)."
      ],
      "metadata": {
        "id": "x0mTUruQ89dP"
      }
    },
    {
      "cell_type": "markdown",
      "source": [
        "#Q7.What is the difference between a one-tailed and a two-tailed test in hypothesis testing?\n",
        "\n",
        "One-tailed test: Tests in one direction (e.g., > or <).\n",
        "\n",
        "Two-tailed test: Tests in both directions (e.g., ≠)."
      ],
      "metadata": {
        "id": "gbgrMHQx9A-H"
      }
    },
    {
      "cell_type": "markdown",
      "source": [
        "#Q8.What is the Z-test, and when is it used in hypothesis testing?\n",
        "Z-tests are used when the population variance is known and the sample size is large (n > 30)."
      ],
      "metadata": {
        "id": "HLU9b-7r9ELC"
      }
    },
    {
      "cell_type": "markdown",
      "source": [
        "#Q9.How do you calculate the Z-score, and what does it represent in hypothesis testing?\n",
        "𝑍\n",
        "=\n",
        "(\n",
        "𝑋\n",
        "−\n",
        "𝜇\n",
        ")\n",
        "𝜎\n",
        "Z=\n",
        "σ\n",
        "(X−μ)\n",
        "​\n",
        "\n",
        "It measures how many standard deviations a value is from the mean.\n",
        "\n"
      ],
      "metadata": {
        "id": "PZ-0VQSU9ICQ"
      }
    },
    {
      "cell_type": "markdown",
      "source": [
        "#Q10.What is the T-distribution, and when should it be used instead of the normal distribution?\n",
        "Use the T-distribution when the sample size is small (n < 30) and the population standard deviation is unknown."
      ],
      "metadata": {
        "id": "A8KlVTEJ9L-b"
      }
    },
    {
      "cell_type": "markdown",
      "source": [
        "#Q11.What is the difference between a Z-test and a T-test?\n",
        "\n",
        "Z-test: Known population variance and large samples.\n",
        "\n",
        "T-test: Unknown variance and small samples."
      ],
      "metadata": {
        "id": "fsneeqcJ9PZw"
      }
    },
    {
      "cell_type": "markdown",
      "source": [
        "#Q12.What is the T-test, and how is it used in hypothesis testing?\n",
        "A T-test compares sample means to determine if they are significantly different."
      ],
      "metadata": {
        "id": "4B3FvvF09S_a"
      }
    },
    {
      "cell_type": "markdown",
      "source": [
        "#Q13.What is the relationship between Z-test and T-test in hypothesis testing?\n",
        "Both test hypotheses about means, but the T-test adjusts for small samples and unknown population variance."
      ],
      "metadata": {
        "id": "1YsqY5Wz9XaS"
      }
    },
    {
      "cell_type": "markdown",
      "source": [
        "#Q14.What is a confidence interval, and how is it used to interpret statistical results?\n",
        "A confidence interval gives a range of values within which the true population parameter is likely to lie, with a given confidence level (e.g., 95%)."
      ],
      "metadata": {
        "id": "XnTS7sl49cT3"
      }
    },
    {
      "cell_type": "markdown",
      "source": [
        "#Q15.What is the margin of error, and how does it affect the confidence interval?\n",
        "It’s the range above and below the sample statistic. A smaller margin of error gives a narrower confidence interval."
      ],
      "metadata": {
        "id": "yCUmhvsn9gJ_"
      }
    },
    {
      "cell_type": "markdown",
      "source": [
        "#Q16.How is Bayes’ Theorem used in statistics, and what is its significance?\n",
        "Bayes' Theorem updates probabilities based on new evidence. It’s key in Bayesian statistics."
      ],
      "metadata": {
        "id": "qm1Q95FI9jvb"
      }
    },
    {
      "cell_type": "markdown",
      "source": [
        "#Q17.What is the Chi-square distribution, and when is it used?\n",
        "It's used for categorical data, especially in tests of independence and goodness-of-fit."
      ],
      "metadata": {
        "id": "GepB0Jyi9m38"
      }
    },
    {
      "cell_type": "markdown",
      "source": [
        "#Q18.What is the Chi-square goodness of fit test, and how is it applied?\n",
        "It tests whether observed frequencies match expected frequencies."
      ],
      "metadata": {
        "id": "dvuH8xoJ9qRY"
      }
    },
    {
      "cell_type": "markdown",
      "source": [
        "#Q19.What is the F-distribution, and when is it used in hypothesis testing?\n",
        "It is used to compare two variances or in ANOVA to compare multiple group means."
      ],
      "metadata": {
        "id": "HLaSqX4N9u91"
      }
    },
    {
      "cell_type": "markdown",
      "source": [
        "#Q20.What is an ANOVA test, and what are its assumptions?\n",
        "ANOVA (Analysis of Variance) tests if there are significant differences between means of three or more groups.\n",
        "Assumptions: independence, normality, and equal variances."
      ],
      "metadata": {
        "id": "cVEiKueT9yVr"
      }
    },
    {
      "cell_type": "markdown",
      "source": [
        "#Q21.What are the different types of ANOVA tests?\n",
        "\n",
        "One-way ANOVA: One independent variable.\n",
        "\n",
        "Two-way ANOVA: Two independent variables.\n",
        "\n",
        "Repeated measures ANOVA: Same subjects tested multiple times."
      ],
      "metadata": {
        "id": "qCljMroD92JB"
      }
    },
    {
      "cell_type": "markdown",
      "source": [
        "#Q22.What is the F-test, and how does it relate to hypothesis testing?\n",
        "The F-test compares variances and is used in ANOVA and regression analysis to test overall significance."
      ],
      "metadata": {
        "id": "e2edqfu895js"
      }
    },
    {
      "cell_type": "code",
      "source": [
        "#PRACTICAL-1"
      ],
      "metadata": {
        "id": "hi5q9ZR4-MjR"
      },
      "execution_count": null,
      "outputs": []
    },
    {
      "cell_type": "code",
      "source": [
        "# 1. Write a Python program to generate a random variable and display its value\n",
        "import random\n",
        "print(\"Random variable:\", random.random())\n"
      ],
      "metadata": {
        "colab": {
          "base_uri": "https://localhost:8080/"
        },
        "id": "2IME75uW-_vL",
        "outputId": "7f0d9dde-e05c-4ef1-cbe6-a1eb0a0e780a"
      },
      "execution_count": 2,
      "outputs": [
        {
          "output_type": "stream",
          "name": "stdout",
          "text": [
            "Random variable: 0.49008087639967446\n"
          ]
        }
      ]
    },
    {
      "cell_type": "code",
      "source": [
        "# 2. Generate a discrete uniform distribution using Python and plot the probability mass function (PMF)\n",
        "import matplotlib.pyplot as plt\n",
        "import numpy as np\n",
        "from scipy.stats import randint\n",
        "values = np.arange(1, 7)\n",
        "pmf_vals = randint.pmf(values, 1, 7)\n",
        "plt.bar(values, pmf_vals)\n",
        "plt.title(\"Discrete Uniform Distribution PMF\")\n",
        "plt.xlabel(\"Value\")\n",
        "plt.ylabel(\"Probability\")\n",
        "plt.show()"
      ],
      "metadata": {
        "colab": {
          "base_uri": "https://localhost:8080/",
          "height": 472
        },
        "id": "L8tNnuW1_JHT",
        "outputId": "f31bb6a8-d134-4f61-b6e7-7729731eb9dc"
      },
      "execution_count": 3,
      "outputs": [
        {
          "output_type": "display_data",
          "data": {
            "text/plain": [
              "<Figure size 640x480 with 1 Axes>"
            ],
            "image/png": "[encoded data removed]"
          },
          "metadata": {}
        }
      ]
    },
    {
      "cell_type": "code",
      "source": [
        "# 3. Write a Python function to calculate the probability distribution function (PDF) of a Bernoulli distribution\n",
        "from scipy.stats import bernoulli\n",
        "def bernoulli_pdf(p):\n",
        "    x = [0, 1]\n",
        "    probs = bernoulli.pmf(x, p)\n",
        "    return x, probs\n",
        "x, probs = bernoulli_pdf(0.5)\n",
        "plt.bar(x, probs)\n",
        "plt.title(\"Bernoulli Distribution PDF\")\n",
        "plt.xlabel(\"Outcome\")\n",
        "plt.ylabel(\"Probability\")\n",
        "plt.show()"
      ],
      "metadata": {
        "colab": {
          "base_uri": "https://localhost:8080/",
          "height": 472
        },
        "id": "7La0EBVU_LrC",
        "outputId": "0fa15ee0-8520-4efe-fd8e-eff8f114a7be"
      },
      "execution_count": 4,
      "outputs": [
        {
          "output_type": "display_data",
          "data": {
            "text/plain": [
              "<Figure size 640x480 with 1 Axes>"
            ],
            "image/png": "[encoded data removed]"
          },
          "metadata": {}
        }
      ]
    },
    {
      "cell_type": "code",
      "source": [
        "# 4. Write a Python script to simulate a binomial distribution with n=10 and p=0.5, then plot its histogram\n",
        "from scipy.stats import binom\n",
        "x = np.arange(0, 11)\n",
        "binom_vals = binom.rvs(n=10, p=0.5, size=1000)\n",
        "plt.hist(binom_vals, bins=11, edgecolor='black')\n",
        "plt.title(\"Binomial Distribution (n=10, p=0.5)\")\n",
        "plt.xlabel(\"Successes\")\n",
        "plt.ylabel(\"Frequency\")\n",
        "plt.show()"
      ],
      "metadata": {
        "colab": {
          "base_uri": "https://localhost:8080/",
          "height": 472
        },
        "id": "9yKp05Gt_PAg",
        "outputId": "fa579e5f-54ca-44ff-8fba-03015bbf3c81"
      },
      "execution_count": 5,
      "outputs": [
        {
          "output_type": "display_data",
          "data": {
            "text/plain": [
              "<Figure size 640x480 with 1 Axes>"
            ],
            "image/png": "[encoded data removed]"
          },
          "metadata": {}
        }
      ]
    },
    {
      "cell_type": "code",
      "source": [
        "# 5. Create a Poisson distribution and visualize it using Python\n",
        "from scipy.stats import poisson\n",
        "poisson_data = poisson.rvs(mu=3, size=1000)\n",
        "plt.hist(poisson_data, bins=15, edgecolor='black')\n",
        "plt.title(\"Poisson Distribution (mu=3)\")\n",
        "plt.xlabel(\"Value\")\n",
        "plt.ylabel(\"Frequency\")\n",
        "plt.show()"
      ],
      "metadata": {
        "colab": {
          "base_uri": "https://localhost:8080/",
          "height": 472
        },
        "id": "2-TZYRKC_T43",
        "outputId": "1abb377b-1739-409d-8471-2882d3b702c1"
      },
      "execution_count": 6,
      "outputs": [
        {
          "output_type": "display_data",
          "data": {
            "text/plain": [
              "<Figure size 640x480 with 1 Axes>"
            ],
            "image/png": "[encoded data removed]"
          },
          "metadata": {}
        }
      ]
    },
    {
      "cell_type": "code",
      "source": [
        "# 6. Write a Python program to calculate and plot the cumulative distribution function (CDF) of a discrete uniform distribution\n",
        "cdf_vals = randint.cdf(values, 1, 7)\n",
        "plt.step(values, cdf_vals, where='mid')\n",
        "plt.title(\"CDF of Discrete Uniform Distribution\")\n",
        "plt.xlabel(\"Value\")\n",
        "plt.ylabel(\"Cumulative Probability\")\n",
        "plt.show()"
      ],
      "metadata": {
        "colab": {
          "base_uri": "https://localhost:8080/",
          "height": 472
        },
        "id": "kgAyhvxZ_VXO",
        "outputId": "30791752-d651-431a-922c-57a7b87b0ca1"
      },
      "execution_count": 7,
      "outputs": [
        {
          "output_type": "display_data",
          "data": {
            "text/plain": [
              "<Figure size 640x480 with 1 Axes>"
            ],
            "image/png": "[encoded data removed]"
          },
          "metadata": {}
        }
      ]
    },
    {
      "cell_type": "code",
      "source": [
        "# 7. Generate a continuous uniform distribution using NumPy and visualize it\n",
        "from scipy.stats import uniform\n",
        "x = np.linspace(0, 1, 1000)\n",
        "plt.plot(x, uniform.pdf(x, loc=0, scale=1))\n",
        "plt.title(\"Continuous Uniform Distribution PDF\")\n",
        "plt.xlabel(\"Value\")\n",
        "plt.ylabel(\"Density\")\n",
        "plt.show()\n"
      ],
      "metadata": {
        "colab": {
          "base_uri": "https://localhost:8080/",
          "height": 472
        },
        "id": "RErLm5p3_Yjd",
        "outputId": "06f5df96-d747-4f91-d2b3-9e1a8e9bf7e6"
      },
      "execution_count": 8,
      "outputs": [
        {
          "output_type": "display_data",
          "data": {
            "text/plain": [
              "<Figure size 640x480 with 1 Axes>"
            ],
            "image/png": "[encoded data removed]"
          },
          "metadata": {}
        }
      ]
    },
    {
      "cell_type": "code",
      "source": [
        "# 8. Simulate data from a normal distribution and plot its histogram\n",
        "normal_data = np.random.normal(loc=0, scale=1, size=1000)\n",
        "plt.hist(normal_data, bins=30, edgecolor='black')\n",
        "plt.title(\"Normal Distribution Histogram\")\n",
        "plt.xlabel(\"Value\")\n",
        "plt.ylabel(\"Frequency\")\n",
        "plt.show()"
      ],
      "metadata": {
        "colab": {
          "base_uri": "https://localhost:8080/",
          "height": 472
        },
        "id": "FTXGgRxS_ccu",
        "outputId": "12f4b27f-35c4-4240-b18c-76de801d5b50"
      },
      "execution_count": 9,
      "outputs": [
        {
          "output_type": "display_data",
          "data": {
            "text/plain": [
              "<Figure size 640x480 with 1 Axes>"
            ],
            "image/png": "[encoded data removed]"
          },
          "metadata": {}
        }
      ]
    },
    {
      "cell_type": "code",
      "source": [
        "# 9. Write a Python function to calculate Z-scores from a dataset and plot them\n",
        "from scipy.stats import zscore\n",
        "data = np.random.normal(50, 10, 100)\n",
        "z_scores = zscore(data)\n",
        "plt.hist(z_scores, bins=30, edgecolor='black')\n",
        "plt.title(\"Z-scores Histogram\")\n",
        "plt.xlabel(\"Z-score\")\n",
        "plt.ylabel(\"Frequency\")\n",
        "plt.show()"
      ],
      "metadata": {
        "colab": {
          "base_uri": "https://localhost:8080/",
          "height": 472
        },
        "id": "weVg-J_i_f43",
        "outputId": "ee7ebcf2-f070-4b07-dc3a-13ad4565142b"
      },
      "execution_count": 10,
      "outputs": [
        {
          "output_type": "display_data",
          "data": {
            "text/plain": [
              "<Figure size 640x480 with 1 Axes>"
            ],
            "image/png": "[encoded data removed]"
          },
          "metadata": {}
        }
      ]
    },
    {
      "cell_type": "code",
      "source": [
        "\n",
        "# 10. Implement the Central Limit Theorem (CLT) using Python for a non-normal distribution\n",
        "sample_means = []\n",
        "for _ in range(1000):\n",
        "    sample = np.random.exponential(scale=2.0, size=30)\n",
        "    sample_means.append(np.mean(sample))\n",
        "plt.hist(sample_means, bins=30, edgecolor='black')\n",
        "plt.title(\"CLT: Sample Means from Exponential Distribution\")\n",
        "plt.xlabel(\"Sample Mean\")\n",
        "plt.ylabel(\"Frequency\")\n",
        "plt.show()\n"
      ],
      "metadata": {
        "colab": {
          "base_uri": "https://localhost:8080/",
          "height": 472
        },
        "id": "HtySonBY_jL5",
        "outputId": "8541b190-ec56-459a-8ac5-08ff028b45fa"
      },
      "execution_count": 11,
      "outputs": [
        {
          "output_type": "display_data",
          "data": {
            "text/plain": [
              "<Figure size 640x480 with 1 Axes>"
            ],
            "image/png": "[encoded data removed]"
          },
          "metadata": {}
        }
      ]
    },
    {
      "cell_type": "code",
      "source": [
        "import numpy as np\n",
        "import matplotlib.pyplot as plt\n",
        "from scipy import stats"
      ],
      "metadata": {
        "id": "F5_dgqLUARKN"
      },
      "execution_count": 12,
      "outputs": []
    },
    {
      "cell_type": "code",
      "source": [
        "# 11. Simulate multiple samples from a normal distribution and verify the Central Limit Theorem.\n",
        "def central_limit_theorem_demo():\n",
        "    means = [np.mean(np.random.normal(loc=0, scale=1, size=30)) for _ in range(1000)]\n",
        "    plt.hist(means, bins=30, density=True, alpha=0.7)\n",
        "    plt.title(\"Central Limit Theorem Demonstration\")\n",
        "    plt.xlabel(\"Sample Mean\")\n",
        "    plt.ylabel(\"Frequency\")\n",
        "    plt.show()"
      ],
      "metadata": {
        "id": "1WopIhzQASZT"
      },
      "execution_count": 15,
      "outputs": []
    },
    {
      "cell_type": "code",
      "source": [
        "# 12. Write a Python function to calculate and plot the standard normal distribution (mean = 0, std = 1).\n",
        "def plot_standard_normal_distribution():\n",
        "    x = np.linspace(-4, 4, 1000)\n",
        "    y = stats.norm.pdf(x, 0, 1)\n",
        "    plt.plot(x, y)\n",
        "    plt.title(\"Standard Normal Distribution\")\n",
        "    plt.xlabel(\"Z\")\n",
        "    plt.ylabel(\"Density\")\n",
        "    plt.grid()\n",
        "    plt.show()\n"
      ],
      "metadata": {
        "id": "X9absGSxAx7F"
      },
      "execution_count": 24,
      "outputs": []
    },
    {
      "cell_type": "code",
      "source": [
        "# 13. Generate random variables and calculate their corresponding probabilities using the binomial distribution.\n",
        "def binomial_distribution_probs(n=10, p=0.5):\n",
        "    x = np.arange(0, n+1)\n",
        "    probs = stats.binom.pmf(x, n, p)\n",
        "    plt.bar(x, probs)\n",
        "    plt.title(\"Binomial Distribution PMF\")\n",
        "    plt.xlabel(\"Number of Successes\")\n",
        "    plt.ylabel(\"Probability\")\n",
        "    plt.show()\n"
      ],
      "metadata": {
        "id": "xIbEjjT-F9h7"
      },
      "execution_count": 25,
      "outputs": []
    },
    {
      "cell_type": "code",
      "source": [
        "\n",
        "# 14. Write a Python program to calculate the Z-score for a given data point and compare it to a standard normal distribution.\n",
        "def z_score(x, mean, std):\n",
        "    return (x - mean) / std"
      ],
      "metadata": {
        "id": "jM0qN43CGBrh"
      },
      "execution_count": 26,
      "outputs": []
    },
    {
      "cell_type": "code",
      "source": [
        "\n",
        "# 15. Implement hypothesis testing using Z-statistics for a sample dataset.\n",
        "def z_test(sample, pop_mean, pop_std):\n",
        "    sample_mean = np.mean(sample)\n",
        "    z = (sample_mean - pop_mean) / (pop_std / np.sqrt(len(sample)))\n",
        "    p_value = 2 * (1 - stats.norm.cdf(np.abs(z)))\n",
        "    return z, p_value\n"
      ],
      "metadata": {
        "id": "LCUdmOK4GJds"
      },
      "execution_count": 27,
      "outputs": []
    },
    {
      "cell_type": "code",
      "source": [
        "# 16. Create a confidence interval for a dataset using Python and interpret the result.\n",
        "def confidence_interval(data, confidence=0.95):\n",
        "    mean = np.mean(data)\n",
        "    sem = stats.sem(data)\n",
        "    ci = stats.t.interval(confidence, len(data)-1, loc=mean, scale=sem)\n",
        "    return ci\n"
      ],
      "metadata": {
        "id": "dIwkQcu6GPJh"
      },
      "execution_count": 28,
      "outputs": []
    },
    {
      "cell_type": "code",
      "source": [
        "# 17. Generate data from a normal distribution, then calculate and interpret the confidence interval for its mean.\n",
        "def normal_data_ci(n=100):\n",
        "    data = np.random.normal(loc=50, scale=10, size=n)\n",
        "    ci = confidence_interval(data)\n",
        "    print(\"Confidence Interval for Mean:\", ci)\n"
      ],
      "metadata": {
        "id": "MKUFaEhNGSWj"
      },
      "execution_count": 29,
      "outputs": []
    },
    {
      "cell_type": "code",
      "source": [
        "\n",
        "# 18. Write a Python script to calculate and visualize the probability density function (PDF) of a normal distribution.\n",
        "def plot_pdf(mean=0, std=1):\n",
        "    x = np.linspace(mean - 4*std, mean + 4*std, 1000)\n",
        "    y = stats.norm.pdf(x, mean, std)\n",
        "    plt.plot(x, y)\n",
        "    plt.title(\"Probability Density Function\")\n",
        "    plt.show()\n"
      ],
      "metadata": {
        "id": "y3h8Lwx9GXFo"
      },
      "execution_count": 30,
      "outputs": []
    },
    {
      "cell_type": "code",
      "source": [
        "# 19. Use Python to calculate and interpret the cumulative distribution function (CDF) of a Poisson distribution.\n",
        "def poisson_cdf(lam=3):\n",
        "    x = np.arange(0, 15)\n",
        "    cdf = stats.poisson.cdf(x, lam)\n",
        "    plt.step(x, cdf, where='mid')\n",
        "    plt.title(\"Poisson CDF\")\n",
        "    plt.show()"
      ],
      "metadata": {
        "id": "EFHKgkEIGa7W"
      },
      "execution_count": 31,
      "outputs": []
    },
    {
      "cell_type": "code",
      "source": [
        "\n",
        "# 20. Simulate a random variable using a continuous uniform distribution and calculate its expected value.\n",
        "def simulate_uniform(a=0, b=1, n=1000):\n",
        "    data = np.random.uniform(a, b, n)\n",
        "    expected_value = np.mean(data)\n",
        "    return expected_value"
      ],
      "metadata": {
        "id": "NDZUtB8LGd0-"
      },
      "execution_count": 32,
      "outputs": []
    },
    {
      "cell_type": "code",
      "source": [
        "# 21. Write a Python program to compare the standard deviations of two datasets and visualize the difference.\n",
        "def compare_std(data1, data2):\n",
        "    std1 = np.std(data1)\n",
        "    std2 = np.std(data2)\n",
        "    plt.bar(['Dataset 1', 'Dataset 2'], [std1, std2])\n",
        "    plt.title(\"Standard Deviation Comparison\")\n",
        "    plt.show()"
      ],
      "metadata": {
        "id": "6e4Q1EZGGhC5"
      },
      "execution_count": 33,
      "outputs": []
    },
    {
      "cell_type": "code",
      "source": [
        "\n",
        "# 22. Calculate the range and interquartile range (IQR) of a dataset generated from a normal distribution.\n",
        "def range_iqr(data):\n",
        "    rng = np.ptp(data)\n",
        "    iqr = stats.iqr(data)\n",
        "    return rng, iq"
      ],
      "metadata": {
        "id": "ECX95u7rGmrA"
      },
      "execution_count": 34,
      "outputs": []
    },
    {
      "cell_type": "code",
      "source": [
        "\n",
        "# 23. Implement Z-score normalization on a dataset and visualize its transformation.\n",
        "def z_score_normalize(data):\n",
        "    normalized = (data - np.mean(data)) / np.std(data)\n",
        "    plt.hist(normalized, bins=30)\n",
        "    plt.title(\"Z-score Normalized Data\")\n",
        "    plt.show()\n",
        "\n"
      ],
      "metadata": {
        "id": "azoBaXBUGpqa"
      },
      "execution_count": 35,
      "outputs": []
    },
    {
      "cell_type": "code",
      "source": [
        "# 24. Write a Python function to calculate the skewness and kurtosis of a dataset generated from a normal distribution.\n",
        "def skewness_kurtosis(data):\n",
        "    skew = stats.skew(data)\n",
        "    kurt = stats.kurtosis(data)\n",
        "    return skew, kurt"
      ],
      "metadata": {
        "id": "2rhcwm62GtJ1"
      },
      "execution_count": 36,
      "outputs": []
    },
    {
      "cell_type": "code",
      "source": [
        "# Practical Part - 2"
      ],
      "metadata": {
        "id": "6K-XXpsvG2ad"
      },
      "execution_count": null,
      "outputs": []
    },
    {
      "cell_type": "code",
      "source": [
        "# 1. Write a Python program to perform a Z-test for comparing a sample mean to a known population mean and interpret the results.\n",
        "def z_test(sample, pop_mean, pop_std):\n",
        "    sample_mean = np.mean(sample)\n",
        "    z = (sample_mean - pop_mean) / (pop_std / np.sqrt(len(sample)))\n",
        "    p = 2 * (1 - stats.norm.cdf(abs(z)))\n",
        "    return z, p"
      ],
      "metadata": {
        "id": "2HyXVNsEG-c5"
      },
      "execution_count": 37,
      "outputs": []
    },
    {
      "cell_type": "code",
      "source": [
        "# 2. Simulate random data to perform hypothesis testing and calculate the corresponding P-value using Python.\n",
        "def simulate_and_test():\n",
        "    data = np.random.normal(50, 10, 100)\n",
        "    return z_test(data, 50, 10)"
      ],
      "metadata": {
        "id": "UkYKb1LrHMkh"
      },
      "execution_count": 38,
      "outputs": []
    },
    {
      "cell_type": "code",
      "source": [
        "\n",
        "# 3. Implement a one-sample Z-test using Python to compare the sample mean with the population mean.\n",
        "def one_sample_z_test(data, mu, sigma):\n",
        "    return z_test(data, mu, sigma)"
      ],
      "metadata": {
        "id": "hMkEDQqWHUVJ"
      },
      "execution_count": 39,
      "outputs": []
    },
    {
      "cell_type": "code",
      "source": [
        "\n",
        "# 4. Perform a two-tailed Z-test using Python and visualize the decision region on a plot.\n",
        "def two_tailed_z_test_visual(data, mu, sigma):\n",
        "    z_stat, p = z_test(data, mu, sigma)\n",
        "    x = np.linspace(-4, 4, 1000)\n",
        "    y = stats.norm.pdf(x)\n",
        "    plt.plot(x, y)\n",
        "    plt.axvline(z_stat, color='red', linestyle='--')\n",
        "    plt.title(\"Two-Tailed Z-Test\")\n",
        "    plt.show()\n",
        "    return z_stat, p"
      ],
      "metadata": {
        "id": "v-ZUxJBdHXQk"
      },
      "execution_count": 40,
      "outputs": []
    },
    {
      "cell_type": "code",
      "source": [
        "# 5. Create a Python function that calculates and visualizes Type I and Type II errors during hypothesis testing.\n",
        "def visualize_errors(mu0=0, mu1=1, sigma=1, alpha=0.05, n=30):\n",
        "    z_alpha = stats.norm.ppf(1 - alpha/2)\n",
        "    x = np.linspace(-4, 4, 1000)\n",
        "    plt.plot(x, stats.norm.pdf(x, mu0/np.sqrt(n), sigma/np.sqrt(n)), label=\"H0\")\n",
        "    plt.plot(x, stats.norm.pdf(x, mu1/np.sqrt(n), sigma/np.sqrt(n)), label=\"H1\")\n",
        "    plt.fill_between(x, 0, stats.norm.pdf(x, mu0/np.sqrt(n), sigma/np.sqrt(n)), where=(x > z_alpha)|(x < -z_alpha), color='red', alpha=0.3, label=\"Type I Error\")\n",
        "    plt.fill_between(x, 0, stats.norm.pdf(x, mu1/np.sqrt(n), sigma/np.sqrt(n)), where=(x < z_alpha)&(x > -z_alpha), color='blue', alpha=0.3, label=\"Type II Error\")\n",
        "    plt.legend()\n",
        "    plt.title(\"Type I and Type II Errors\")\n",
        "    plt.show()"
      ],
      "metadata": {
        "id": "XwjJpaMxHaYt"
      },
      "execution_count": 41,
      "outputs": []
    },
    {
      "cell_type": "code",
      "source": [
        "\n",
        "# 6. Write a Python program to perform an independent T-test and interpret the results.\n",
        "def independent_t_test(data1, data2):\n",
        "    t_stat, p_val = stats.ttest_ind(data1, data2)\n",
        "    return t_stat, p_val"
      ],
      "metadata": {
        "id": "_F-0DCuAHdPb"
      },
      "execution_count": 42,
      "outputs": []
    },
    {
      "cell_type": "code",
      "source": [
        "# 7. Perform a paired sample T-test using Python and visualize the comparison results.\n",
        "def paired_t_test(data1, data2):\n",
        "    t_stat, p_val = stats.ttest_rel(data1, data2)\n",
        "    return t_stat, p_val"
      ],
      "metadata": {
        "id": "-y00XFQOHf_6"
      },
      "execution_count": 43,
      "outputs": []
    },
    {
      "cell_type": "code",
      "source": [
        "# 8. Simulate data and perform both Z-test and T-test, then compare the results using Python.\n",
        "def compare_z_and_t_test():\n",
        "    data = np.random.normal(50, 10, 100)\n",
        "    z_result = z_test(data, 50, 10)\n",
        "    t_result = stats.ttest_1samp(data, 50)\n",
        "    return {\"Z-test\": z_result, \"T-test\": t_result}"
      ],
      "metadata": {
        "id": "mRKzgL7CHjek"
      },
      "execution_count": 44,
      "outputs": []
    },
    {
      "cell_type": "code",
      "source": [
        "\n",
        "# 9. Write a Python function to calculate the confidence interval for a sample mean and explain its significance.\n",
        "def confidence_interval(data, confidence=0.95):\n",
        "    mean = np.mean(data)\n",
        "    sem = stats.sem(data)\n",
        "    ci = stats.t.interval(confidence, len(data)-1, loc=mean, scale=sem)\n",
        "    return ci\n"
      ],
      "metadata": {
        "id": "YKKWAIBhHm4X"
      },
      "execution_count": 45,
      "outputs": []
    },
    {
      "cell_type": "code",
      "source": [
        "# 10. Write a Python program to calculate the margin of error for a given confidence level using sample data.\n",
        "def margin_of_error(data, confidence=0.95):\n",
        "    sem = stats.sem(data)\n",
        "    t_val = stats.t.ppf((1 + confidence) / 2, len(data) - 1)\n",
        "    return t_val * sem\n"
      ],
      "metadata": {
        "id": "TRYForEkHqM_"
      },
      "execution_count": 46,
      "outputs": []
    },
    {
      "cell_type": "code",
      "source": [
        "\n",
        "# 11. Implement a Bayesian inference method using Bayes’ Theorem in Python and explain the process.\n",
        "def bayesian_update(prior_A, likelihood_B_given_A, prior_not_A, likelihood_B_given_not_A):\n",
        "    numerator = likelihood_B_given_A * prior_A\n",
        "    denominator = numerator + likelihood_B_given_not_A * prior_not_A\n",
        "    posterior_A_given_B = numerator / denominator\n",
        "    return posterior_A_given_B"
      ],
      "metadata": {
        "id": "J3Wt4-DQHtGI"
      },
      "execution_count": 47,
      "outputs": []
    },
    {
      "cell_type": "code",
      "source": [
        "# 12. Perform a Chi-square test for independence between two categorical variables in Python.\n",
        "def chi_square_independence_test():\n",
        "    observed = np.array([[30, 10], [20, 40]])\n",
        "    chi2, p, dof, expected = stats.chi2_contingency(observed)\n",
        "    return chi2, p, expected"
      ],
      "metadata": {
        "id": "ZCgKOWovHwCA"
      },
      "execution_count": 48,
      "outputs": []
    },
    {
      "cell_type": "code",
      "source": [
        "# 13. Write a Python program to calculate the expected frequencies for a Chi-square test based on observed data.\n",
        "def expected_frequencies(observed):\n",
        "    _, _, _, expected = stats.chi2_contingency(observed)\n",
        "    return expected\n"
      ],
      "metadata": {
        "id": "MuO7N_UZHzdu"
      },
      "execution_count": 49,
      "outputs": []
    },
    {
      "cell_type": "code",
      "source": [
        "# 14. Perform a goodness-of-fit test using Python to compare the observed data to an expected distribution.\n",
        "def goodness_of_fit_test(observed, expected_probs):\n",
        "    expected = np.array(expected_probs) * sum(observed)\n",
        "    chi2, p = stats.chisquare(f_obs=observed, f_exp=expected)\n",
        "    return chi2, p\n"
      ],
      "metadata": {
        "id": "xwFzAWwMH2rZ"
      },
      "execution_count": 50,
      "outputs": []
    }
  ]
}